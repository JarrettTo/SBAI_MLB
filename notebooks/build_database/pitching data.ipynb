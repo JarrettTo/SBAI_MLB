{
 "cells": [
  {
   "cell_type": "code",
   "execution_count": 1,
   "id": "22470a4d",
   "metadata": {},
   "outputs": [],
   "source": [
    "import requests\n",
    "from datetime import timedelta, date, datetime\n",
    "import json\n",
    "import pandas as pd\n",
    "import os\n",
    "import csv\n",
    "import sys\n",
    "import time"
   ]
  },
  {
   "cell_type": "code",
   "execution_count": 2,
   "id": "3447d62b",
   "metadata": {},
   "outputs": [],
   "source": [
    "sys.path.append('../../code')  # Replace '/path/to/code' with the actual path to your 'code' directory\n",
    "from scrape_new import daterange, get_daily_game_ids"
   ]
  },
  {
   "cell_type": "code",
   "execution_count": 3,
   "id": "6275ce47",
   "metadata": {},
   "outputs": [],
   "source": [
    "def extract_team_pitching_stats(team_data, team_type, writer, custom_game_id):\n",
    "    team_stats = team_data.get(team_type, {}).get('statistics', {}).get('pitching', {})\n",
    "    \n",
    "    if team_stats:\n",
    "        # Directly write the stats into the CSV\n",
    "        writer.writerow({\n",
    "            'home_away': team_type,\n",
    "            'ip': team_stats['overall'].get('ip_2', '0'),\n",
    "            'h': team_stats['overall']['onbase'].get('h', 'N/A'),\n",
    "            'r': team_stats['overall']['runs'].get('total', 'N/A'),\n",
    "            'er': team_stats['overall']['runs'].get('earned', 'N/A'),\n",
    "            'bb': team_stats['overall']['onbase'].get('bb', 'N/A'),\n",
    "            'so': team_stats['overall']['outs'].get('ktotal', 'N/A'),\n",
    "            'hr': team_stats['overall']['onbase'].get('hr', 'N/A'),\n",
    "            'earned_run_avg': team_stats['overall'].get('era', '0'),\n",
    "            'batters_faced': team_stats['overall'].get('bf', 'N/A'),\n",
    "            'pitches': team_stats['overall'].get('pitches', {}).get('count', 'N/A'),\n",
    "            'strikes_total': team_stats['overall'].get('pitches', {}).get('ktotal', 'N/A'),\n",
    "            'strikes_contact': 'N/A',\n",
    "            'strikes_swinging': team_stats['overall'].get('outcome', {}).get('kswing', 'N/A'),\n",
    "            'strikes_looking': team_stats['overall'].get('outcome', {}).get('klook', 'N/A'),\n",
    "            'inplay_gb_total': team_stats['overall'].get('in_play', {}).get('groundball', 'N/A'),\n",
    "            'inplay_fb_total': team_stats['overall'].get('in_play', {}).get('flyball', 'N/A'),\n",
    "            'inplay_ld': team_stats['overall'].get('in_play', {}).get('linedrive', 'N/A'),\n",
    "            'inplay_unk': 'N/A',\n",
    "            'game_score': 'N/A',\n",
    "            'inherited_runners': team_stats['overall'].get('runs', {}).get('ir', 'N/A'),\n",
    "            'inherited_score': team_stats['overall'].get('runs', {}).get('ira', 'N/A'),\n",
    "            'wpa_def': 'N/A',\n",
    "            'leverage_index_avg': 'N/A',\n",
    "            're24_def': 'N/A',\n",
    "            'game_id': custom_game_id\n",
    "        })"
   ]
  },
  {
   "cell_type": "code",
   "execution_count": 4,
   "id": "fce9d59d",
   "metadata": {},
   "outputs": [],
   "source": [
    "def fetch_and_store_pitching_stats(api_key, start_date, delay_seconds=1):\n",
    "    file_path = '../../data/pitching-test-2.csv'\n",
    "    os.makedirs(os.path.dirname(file_path), exist_ok=True)\n",
    "\n",
    "    fieldnames = [\n",
    "        'home_away', 'ip', 'h', 'r', 'er', 'bb', 'so', 'hr', 'earned_run_avg', 'batters_faced', \n",
    "        'pitches', 'strikes_total', 'strikes_contact', 'strikes_swinging', 'strikes_looking', \n",
    "        'inplay_gb_total', 'inplay_fb_total', 'inplay_ld', 'inplay_unk', 'game_score', \n",
    "        'inherited_runners', 'inherited_score', 'wpa_def', 'leverage_index_avg', 're24_def', 'game_id'\n",
    "    ]\n",
    "\n",
    "    with open(file_path, 'a', newline='') as csvfile:\n",
    "        writer = csv.DictWriter(csvfile, fieldnames=fieldnames)\n",
    "        if os.stat(file_path).st_size == 0:\n",
    "            writer.writeheader()\n",
    "\n",
    "        for current_date in daterange(start_date):\n",
    "            year = current_date.year\n",
    "            month = current_date.month\n",
    "            day = current_date.day\n",
    "            game_ids = get_daily_game_ids(api_key, year, month, day)\n",
    "\n",
    "            for game_id in game_ids:\n",
    "                url = f'https://api.sportradar.com/mlb/trial/v7/en/games/{game_id}/extended_summary.json?api_key={api_key}'\n",
    "                response = requests.get(url)\n",
    "\n",
    "                if response.status_code == 200:\n",
    "                    data = response.json()\n",
    "                    game_info = data['game']\n",
    "                    date = datetime.strptime(game_info['scheduled'], \"%Y-%m-%dT%H:%M:%S%z\").strftime(\"%Y%m%d\")\n",
    "                    day_night = game_info['day_night']\n",
    "                    custom_game_id = f\"{game_info['away']['abbr']}{game_info['home']['abbr']}{date}{day_night}\"\n",
    "\n",
    "                    extract_team_pitching_stats(data['game'], 'home', writer, custom_game_id)\n",
    "                    extract_team_pitching_stats(data['game'], 'away', writer, custom_game_id)\n",
    "\n",
    "                    time.sleep(delay_seconds)\n",
    "                else:\n",
    "                    print(f\"Failed to fetch data: {response.status_code} {response.text}\")\n",
    "                    time.sleep(delay_seconds)\n",
    "\n",
    "        print(f\"Team pitching data written to '{file_path}'\")"
   ]
  },
  {
   "cell_type": "code",
   "execution_count": 6,
   "id": "3753f137",
   "metadata": {},
   "outputs": [
    {
     "name": "stdout",
     "output_type": "stream",
     "text": [
      "Request URL: https://api.sportradar.com/mlb/trial/v7/en/games/2024/04/23/summary.json | Status Code: 200\n",
      "Games found on 2024-04-23: 15\n",
      "Request URL: https://api.sportradar.com/mlb/trial/v7/en/games/2024/04/24/summary.json | Status Code: 200\n",
      "Games found on 2024-04-24: 15\n",
      "Request URL: https://api.sportradar.com/mlb/trial/v7/en/games/2024/04/25/summary.json | Status Code: 200\n",
      "Games found on 2024-04-25: 10\n",
      "Request URL: https://api.sportradar.com/mlb/trial/v7/en/games/2024/04/26/summary.json | Status Code: 200\n",
      "Games found on 2024-04-26: 14\n",
      "Request URL: https://api.sportradar.com/mlb/trial/v7/en/games/2024/04/27/summary.json | Status Code: 200\n",
      "Games found on 2024-04-27: 15\n",
      "Request URL: https://api.sportradar.com/mlb/trial/v7/en/games/2024/04/28/summary.json | Status Code: 200\n",
      "Games found on 2024-04-28: 15\n",
      "Request URL: https://api.sportradar.com/mlb/trial/v7/en/games/2024/04/29/summary.json | Status Code: 200\n",
      "Games found on 2024-04-29: 12\n",
      "Request URL: https://api.sportradar.com/mlb/trial/v7/en/games/2024/04/30/summary.json | Status Code: 200\n",
      "Games found on 2024-04-30: 16\n",
      "Request URL: https://api.sportradar.com/mlb/trial/v7/en/games/2024/05/01/summary.json | Status Code: 200\n",
      "Games found on 2024-05-01: 15\n",
      "Request URL: https://api.sportradar.com/mlb/trial/v7/en/games/2024/05/02/summary.json | Status Code: 200\n",
      "Games found on 2024-05-02: 6\n",
      "Request URL: https://api.sportradar.com/mlb/trial/v7/en/games/2024/05/03/summary.json | Status Code: 200\n",
      "Games found on 2024-05-03: 15\n",
      "Request URL: https://api.sportradar.com/mlb/trial/v7/en/games/2024/05/04/summary.json | Status Code: 200\n",
      "Games found on 2024-05-04: 15\n",
      "Request URL: https://api.sportradar.com/mlb/trial/v7/en/games/2024/05/05/summary.json | Status Code: 200\n",
      "Games found on 2024-05-05: 15\n",
      "Request URL: https://api.sportradar.com/mlb/trial/v7/en/games/2024/05/06/summary.json | Status Code: 200\n",
      "Games found on 2024-05-06: 10\n",
      "Request URL: https://api.sportradar.com/mlb/trial/v7/en/games/2024/05/07/summary.json | Status Code: 200\n",
      "Games found on 2024-05-07: 15\n",
      "Team pitching data written to '../../data/pitching-test-2.csv'\n"
     ]
    }
   ],
   "source": [
    "api_key = 'FLs5RpyKo35hLh1QPdYkF4FU91Spgrwn9sNnbyTM'  # Replace with your actual API key\n",
    "start_date = datetime(2024, 4, 23).date()\n",
    "fetch_and_store_pitching_stats(api_key, start_date, delay_seconds=1)"
   ]
  },
  {
   "cell_type": "code",
   "execution_count": null,
   "id": "2d97cfd8",
   "metadata": {},
   "outputs": [],
   "source": []
  }
 ],
 "metadata": {
  "kernelspec": {
   "display_name": "Python 3 (ipykernel)",
   "language": "python",
   "name": "python3"
  },
  "language_info": {
   "codemirror_mode": {
    "name": "ipython",
    "version": 3
   },
   "file_extension": ".py",
   "mimetype": "text/x-python",
   "name": "python",
   "nbconvert_exporter": "python",
   "pygments_lexer": "ipython3",
   "version": "3.11.5"
  }
 },
 "nbformat": 4,
 "nbformat_minor": 5
}
