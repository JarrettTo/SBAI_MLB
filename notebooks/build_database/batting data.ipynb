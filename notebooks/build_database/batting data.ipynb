{
 "cells": [
  {
   "cell_type": "code",
   "execution_count": null,
   "id": "73b1096c",
   "metadata": {},
   "outputs": [],
   "source": [
    "import requests\n",
    "from datetime import timedelta, date, datetime\n",
    "import json\n",
    "import pandas as pd\n",
    "import os\n",
    "import csv\n",
    "import sys\n",
    "import time"
   ]
  },
  {
   "cell_type": "code",
   "execution_count": null,
   "id": "90b46181",
   "metadata": {},
   "outputs": [],
   "source": [
    "sys.path.append('../../code')  # Replace '/path/to/code' with the actual path to your 'code' directory\n",
    "from scrape_new import daterange, get_daily_game_ids"
   ]
  },
  {
   "cell_type": "code",
   "execution_count": null,
   "id": "c4eca308",
   "metadata": {},
   "outputs": [],
   "source": [
    "def extract_team_batting_stats(team_data, team_type, writer, custom_game_id):\n",
    "    team_stats = team_data.get(team_type, {}).get('statistics', {}).get('hitting', {})\n",
    "    team_stats_fielding = team_data.get(team_type, {}).get('statistics', {}).get('fielding', {})\n",
    "\n",
    "    if team_stats:\n",
    "        # Extract batting and fielding stats\n",
    "        stat = {\n",
    "            'home_away': team_type,\n",
    "            'ab': team_stats['overall'].get('ab', 'N/A'),\n",
    "            'r': team_stats['overall']['runs'].get('total', 'N/A'),\n",
    "            'h': team_stats['overall']['onbase'].get('h', 'N/A'),\n",
    "            'rbi': team_stats['overall'].get('rbi', 'N/A'),\n",
    "            'bb': team_stats['overall']['onbase'].get('bb', 'N/A'),\n",
    "            'so': team_stats['overall']['outs'].get('ktotal', 'N/A'),\n",
    "            'pa': team_stats['overall'].get('ap', 'N/A'),\n",
    "            'batting_avg': team_stats['overall'].get('avg', 'N/A'),\n",
    "            'onbase_perc': team_stats['overall'].get('obp', 'N/A'),\n",
    "            'slugging_perc': team_stats['overall'].get('slg', 'N/A'),\n",
    "            'onbase_plus_slugging': team_stats['overall'].get('ops', 'N/A'),\n",
    "            'pitches': team_stats['overall'].get('pitch_count', 'N/A'),\n",
    "            'strikes_total': team_stats['overall'].get('pitches', {}).get('ktotal', 'N/A'),\n",
    "            'wpa_bat': 'N/A',\n",
    "            'leverage_index_avg': 'N/A',\n",
    "            'wpa_bat_pos': 'N/A',\n",
    "            'wpa_bat_neg': 'N/A',\n",
    "            're24_bat': 'N/A',\n",
    "            'po': team_stats_fielding['overall'].get('po', 'N/A'),\n",
    "            'a': team_stats_fielding['overall'].get('a', 'N/A'),\n",
    "            'game_id': custom_game_id\n",
    "        }\n",
    "        writer.writerow(stat)"
   ]
  },
  {
   "cell_type": "code",
   "execution_count": null,
   "id": "b8562547",
   "metadata": {},
   "outputs": [],
   "source": [
    "def fetch_and_store_batting_stats(api_key, start_date, delay_seconds=1):\n",
    "    file_path = '../../data/batting-test-3.csv'\n",
    "    os.makedirs(os.path.dirname(file_path), exist_ok=True)\n",
    "\n",
    "    fieldnames = [\n",
    "        'home_away', 'ab', 'r', 'h', 'rbi', 'bb', 'so', 'pa',\n",
    "        'batting_avg', 'onbase_perc', 'slugging_perc', 'onbase_plus_slugging',\n",
    "        'pitches', 'strikes_total', 'wpa_bat', 'leverage_index_avg',\n",
    "        'wpa_bat_pos', 'wpa_bat_neg', 're24_bat', 'po', 'a', 'game_id'\n",
    "    ]\n",
    "\n",
    "    with open(file_path, 'a', newline='') as csvfile:\n",
    "        writer = csv.DictWriter(csvfile, fieldnames=fieldnames)\n",
    "        if os.stat(file_path).st_size == 0:\n",
    "            writer.writeheader()\n",
    "\n",
    "        for current_date in daterange(start_date):\n",
    "            year = current_date.year\n",
    "            month = current_date.month\n",
    "            day = current_date.day\n",
    "            game_ids = get_daily_game_ids(api_key, year, month, day)\n",
    "            for game_id in game_ids:  # Limiting to the first game for testing\n",
    "                url = f'https://api.sportradar.com/mlb/trial/v7/en/games/{game_id}/extended_summary.json?api_key={api_key}'\n",
    "                response = requests.get(url)\n",
    "\n",
    "                if response.status_code == 200:\n",
    "                    data = response.json()\n",
    "                    game_info = data['game']\n",
    "                    date = datetime.strptime(game_info['scheduled'], \"%Y-%m-%dT%H:%M:%S%z\").strftime(\"%Y%m%d\")\n",
    "                    day_night = game_info['day_night']\n",
    "                    custom_game_id = f\"{game_info['away']['abbr']}{game_info['home']['abbr']}{date}{day_night}\"\n",
    "\n",
    "                    # Directly write team stats for home and away to CSV\n",
    "                    extract_team_batting_stats(data['game'], 'home', writer, custom_game_id)\n",
    "                    extract_team_batting_stats(data['game'], 'away', writer, custom_game_id)\n",
    "\n",
    "                    # Manage API rate limits\n",
    "                    time.sleep(delay_seconds)\n",
    "                else:\n",
    "                    print(f\"Failed to fetch data: {response.status_code} {response.text}\")\n",
    "                    time.sleep(delay_seconds)\n",
    "\n",
    "    print(f\"Team batting data written to '{file_path}'\")"
   ]
  },
  {
   "cell_type": "code",
   "execution_count": null,
   "id": "5f402c90",
   "metadata": {},
   "outputs": [],
   "source": [
    "api_key = ''  # Replace with your actual API key\n",
    "start_date = datetime(2024, 3, 1).date()\n",
    "fetch_and_store_batting_stats(api_key, start_date, delay_seconds=1)"
   ]
  },
  {
   "cell_type": "code",
   "execution_count": null,
   "id": "89e99f3a",
   "metadata": {},
   "outputs": [],
   "source": []
  }
 ],
 "metadata": {
  "kernelspec": {
   "display_name": "Python 3 (ipykernel)",
   "language": "python",
   "name": "python3"
  },
  "language_info": {
   "codemirror_mode": {
    "name": "ipython",
    "version": 3
   },
   "file_extension": ".py",
   "mimetype": "text/x-python",
   "name": "python",
   "nbconvert_exporter": "python",
   "pygments_lexer": "ipython3",
   "version": "3.11.5"
  }
 },
 "nbformat": 4,
 "nbformat_minor": 5
}
