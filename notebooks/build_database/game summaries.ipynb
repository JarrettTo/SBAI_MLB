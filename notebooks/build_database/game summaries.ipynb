{
 "cells": [
  {
   "cell_type": "markdown",
   "id": "1598cc40",
   "metadata": {},
   "source": [
    "# Game Summary"
   ]
  },
  {
   "cell_type": "code",
   "execution_count": 13,
   "id": "5826db55",
   "metadata": {},
   "outputs": [],
   "source": [
    "import requests\n",
    "from datetime import timedelta, date, datetime\n",
    "import json\n",
    "import pandas as pd\n",
    "import os\n",
    "import csv\n",
    "import sys\n",
    "import time"
   ]
  },
  {
   "cell_type": "code",
   "execution_count": 14,
   "id": "e0a62710",
   "metadata": {},
   "outputs": [],
   "source": [
    "sys.path.append('../../code')  # Replace '/path/to/code' with the actual path to your 'code' directory\n",
    "from scrape_new import daterange, get_daily_game_ids"
   ]
  },
  {
   "cell_type": "code",
   "execution_count": 15,
   "id": "9314d4e8",
   "metadata": {},
   "outputs": [],
   "source": [
    "def get_game_summary(api_key, game_id, delay_seconds=1):\n",
    "    '''\n",
    "    Fetches and extracts game summary information from the Sportradar API.\n",
    "\n",
    "    Params:\n",
    "    api_key: str - API key for accessing the Sportradar service\n",
    "    game_id: str - Unique identifier for the game\n",
    "    delay_seconds: int - Number of seconds to wait after the request is made\n",
    "\n",
    "    Returns:\n",
    "    game: dict - Dictionary containing formatted game summary if successful, None otherwise\n",
    "    '''\n",
    "    url = f'https://api.sportradar.com/mlb/trial/v7/en/games/{game_id}/summary.json'\n",
    "    response = requests.get(url, params={'api_key': api_key})\n",
    "\n",
    "    # Delay after making the request\n",
    "    time.sleep(delay_seconds)\n",
    "\n",
    "    # Check if the request was successful\n",
    "    if response.status_code == 200:\n",
    "        game_summary = response.json()\n",
    "        game_data = game_summary.get('game', {})\n",
    "        \n",
    "        # Extracting team abbreviations and date information\n",
    "        away_abbr = game_data.get('away', {}).get('abbr', 'UNK')\n",
    "        home_abbr = game_data.get('home', {}).get('abbr', 'UNK')\n",
    "        scheduled_time = game_data.get('scheduled', 'No scheduled time found')\n",
    "        date = scheduled_time.split('T')[0]\n",
    "        day_night = game_data.get('day_night', 'Unknown')\n",
    "\n",
    "        # Constructing game_id\n",
    "        custom_game_id = f\"{away_abbr}{home_abbr}{date.replace('-', '')}{day_night}\"\n",
    "\n",
    "        # Forming the game dictionary\n",
    "        game = {\n",
    "            'away_team_abbr': away_abbr,\n",
    "            'home_team_abbr': home_abbr,\n",
    "            'date': date,\n",
    "            'start_time': scheduled_time.split('T')[1][:5] if 'T' in scheduled_time else 'Unknown',\n",
    "            'day_night': day_night,\n",
    "            'venue': game_data.get('venue', {}).get('name', 'No venue name found'),\n",
    "            'field_type': game_data.get('venue', {}).get('stadium_type', 'No stadium type found'),\n",
    "            'away_team_errors': game_data.get('away', {}).get('errors', 0),\n",
    "            'home_team_errors': game_data.get('home', {}).get('errors', 0),\n",
    "            'away_team_hits': game_data.get('away', {}).get('hits', 0),\n",
    "            'home_team_hits': game_data.get('home', {}).get('hits', 0),\n",
    "            'away_team_runs': game_data.get('away', {}).get('runs', 0),\n",
    "            'home_team_runs': game_data.get('home', {}).get('runs', 0),\n",
    "            'game_id': custom_game_id\n",
    "        }\n",
    "        \n",
    "        return game\n",
    "    else:\n",
    "        print(f\"Failed to retrieve data for game ID {game_id}: Status Code {response.status_code}\")\n",
    "        return None\n"
   ]
  },
  {
   "cell_type": "code",
   "execution_count": 16,
   "id": "448f0571",
   "metadata": {},
   "outputs": [],
   "source": [
    "# Define the function to save game summaries to a CSV file\n",
    "def save_game_summaries_to_csv(game_summaries, filename):\n",
    "    # Define the CSV fieldnames based on the keys in the game summary dictionary\n",
    "    fieldnames = game_summaries[0].keys() if game_summaries else []\n",
    "    \n",
    "    # Write the game summaries to the CSV file\n",
    "    with open(filename, 'w', newline='') as csvfile:\n",
    "        writer = csv.DictWriter(csvfile, fieldnames=fieldnames)\n",
    "        writer.writeheader()\n",
    "        writer.writerows(game_summaries)"
   ]
  },
  {
   "cell_type": "code",
   "execution_count": 20,
   "id": "77f2812d",
   "metadata": {},
   "outputs": [
    {
     "name": "stdout",
     "output_type": "stream",
     "text": [
      "Request URL: https://api.sportradar.com/mlb/trial/v7/en/games/2024/04/27/summary.json | Status Code: 200\n",
      "Games found on 2024-04-27: 15\n",
      "Request URL: https://api.sportradar.com/mlb/trial/v7/en/games/2024/04/28/summary.json | Status Code: 200\n",
      "Games found on 2024-04-28: 15\n",
      "Request URL: https://api.sportradar.com/mlb/trial/v7/en/games/2024/04/29/summary.json | Status Code: 200\n",
      "Games found on 2024-04-29: 12\n",
      "Request URL: https://api.sportradar.com/mlb/trial/v7/en/games/2024/04/30/summary.json | Status Code: 200\n",
      "Games found on 2024-04-30: 16\n",
      "Request URL: https://api.sportradar.com/mlb/trial/v7/en/games/2024/05/01/summary.json | Status Code: 200\n",
      "Games found on 2024-05-01: 15\n",
      "Request URL: https://api.sportradar.com/mlb/trial/v7/en/games/2024/05/02/summary.json | Status Code: 200\n",
      "Games found on 2024-05-02: 6\n",
      "Request URL: https://api.sportradar.com/mlb/trial/v7/en/games/2024/05/03/summary.json | Status Code: 200\n",
      "Games found on 2024-05-03: 15\n",
      "Request URL: https://api.sportradar.com/mlb/trial/v7/en/games/2024/05/04/summary.json | Status Code: 200\n",
      "Games found on 2024-05-04: 15\n",
      "Request URL: https://api.sportradar.com/mlb/trial/v7/en/games/2024/05/05/summary.json | Status Code: 200\n",
      "Games found on 2024-05-05: 15\n",
      "Request URL: https://api.sportradar.com/mlb/trial/v7/en/games/2024/05/06/summary.json | Status Code: 200\n",
      "Games found on 2024-05-06: 10\n",
      "Request URL: https://api.sportradar.com/mlb/trial/v7/en/games/2024/05/07/summary.json | Status Code: 200\n",
      "Games found on 2024-05-07: 15\n",
      "Game summaries saved to ../../data/game_summaries1.csv\n"
     ]
    }
   ],
   "source": [
    "# Example usage\n",
    "api_key = 'iA8kUIXIOH8ko6SF2q1z42hpKLJWA4Hj4fajST1i'\n",
    "start_date = datetime(2024, 4, 27).date()\n",
    "filename = '../../data/game_summaries1.csv'\n",
    "\n",
    "# Ensure the directory exists, create if not\n",
    "os.makedirs(os.path.dirname(filename), exist_ok=True)\n",
    "\n",
    "header_written = not os.path.exists(filename)  # Determine if the header needs to be written\n",
    "\n",
    "for single_date in daterange(start_date):\n",
    "    year = single_date.year\n",
    "    month = f\"{single_date.month:02d}\"\n",
    "    day = f\"{single_date.day:02d}\"\n",
    "    game_ids = get_daily_game_ids(api_key, year, month, day)\n",
    "    for game_id in game_ids:\n",
    "        game_summary = get_game_summary(api_key, game_id, delay_seconds=1)\n",
    "        if game_summary:\n",
    "            # Save each game summary immediately to the CSV file\n",
    "            df = pd.DataFrame([game_summary])\n",
    "            df.to_csv(filename, mode='a', index=False, header=header_written)\n",
    "            header_written = False  # Update header_written to avoid writing the header again\n",
    "\n",
    "print(f\"Game summaries saved to {filename}\")\n"
   ]
  },
  {
   "cell_type": "code",
   "execution_count": null,
   "id": "4ad16d4e",
   "metadata": {},
   "outputs": [],
   "source": []
  }
 ],
 "metadata": {
  "kernelspec": {
   "display_name": "Python 3 (ipykernel)",
   "language": "python",
   "name": "python3"
  },
  "language_info": {
   "codemirror_mode": {
    "name": "ipython",
    "version": 3
   },
   "file_extension": ".py",
   "mimetype": "text/x-python",
   "name": "python",
   "nbconvert_exporter": "python",
   "pygments_lexer": "ipython3",
   "version": "3.11.5"
  }
 },
 "nbformat": 4,
 "nbformat_minor": 5
}
