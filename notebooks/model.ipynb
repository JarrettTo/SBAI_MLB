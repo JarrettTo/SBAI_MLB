{
 "cells": [
  {
   "cell_type": "code",
   "execution_count": 1,
   "metadata": {},
   "outputs": [],
   "source": [
    "import pandas as pd\n",
    "import numpy as np\n",
    "import matplotlib.pyplot as plt"
   ]
  },
  {
   "cell_type": "code",
   "execution_count": 2,
   "metadata": {},
   "outputs": [],
   "source": [
    "%matplotlib inline\n",
    "%load_ext autoreload\n",
    "%autoreload 2\n",
    "\n",
    "import warnings\n",
    "warnings.filterwarnings('ignore')\n",
    "# warnings.simplefilter(action='ignore', category=FutureWarning)"
   ]
  },
  {
   "cell_type": "code",
   "execution_count": 3,
   "metadata": {},
   "outputs": [],
   "source": [
    "import sys\n",
    "sys.path.append('../code')\n",
    "import dataframe_utilities as util"
   ]
  },
  {
   "cell_type": "code",
   "execution_count": 6,
   "metadata": {},
   "outputs": [],
   "source": [
    "import category_encoders as ce\n",
    "import xgboost as xgb\n",
    "from sklearn.metrics import roc_auc_score, accuracy_score\n",
    "\n",
    "from sklearn.model_selection import StratifiedKFold\n",
    "from sklearn.model_selection import cross_val_score\n",
    "from hyperopt import fmin, tpe, hp, Trials\n",
    "from functools import partial\n",
    "\n",
    "import seaborn as sns"
   ]
  },
  {
   "cell_type": "markdown",
   "metadata": {},
   "source": [
    "# Get Data"
   ]
  },
  {
   "cell_type": "code",
   "execution_count": 7,
   "metadata": {},
   "outputs": [
    {
     "data": {
      "text/plain": [
       "(981, 593)"
      ]
     },
     "execution_count": 7,
     "metadata": {},
     "output_type": "execute_result"
    }
   ],
   "source": [
    "df = pd.read_csv('../data/df_w_features.csv', low_memory=False)\n",
    "df.shape"
   ]
  },
  {
   "cell_type": "code",
   "execution_count": 91,
   "metadata": {},
   "outputs": [],
   "source": [
    "X = df.drop(columns=['home_team_win', 'game_id', 'home_team_abbr_x', 'away_team_abbr', 'home_pitcher', 'away_pitcher', 'home_team_abbr_y', 'home_team_season', 'away_team_season'])\n",
    "y = df.home_team_win"
   ]
  },
  {
   "cell_type": "code",
   "execution_count": 92,
   "metadata": {},
   "outputs": [],
   "source": [
    "mask = pd.to_datetime(X['date'],unit='ns')>=pd.to_datetime('20-08-2019') #last time model was run\n",
    "new_len = mask.sum() + 300 #add 300 more records to include old validation data, but none of the training data\n",
    "X.drop(columns=['date'], inplace=True)\n",
    "X_train = X[:-new_len]\n",
    "y_train = y[:-new_len]\n",
    "X_valid = X[-new_len:]\n",
    "y_valid = y[-new_len:]"
   ]
  },
  {
   "cell_type": "markdown",
   "metadata": {},
   "source": [
    "# Benchmark"
   ]
  },
  {
   "cell_type": "code",
   "execution_count": null,
   "metadata": {},
   "outputs": [
    {
     "ename": "FileNotFoundError",
     "evalue": "[Errno 2] No such file or directory: '../data/encoder_model.pk'",
     "output_type": "error",
     "traceback": [
      "\u001b[1;31m---------------------------------------------------------------------------\u001b[0m",
      "\u001b[1;31mFileNotFoundError\u001b[0m                         Traceback (most recent call last)",
      "Cell \u001b[1;32mIn[14], line 2\u001b[0m\n\u001b[0;32m      1\u001b[0m \u001b[38;5;28;01mimport\u001b[39;00m \u001b[38;5;21;01mpickle\u001b[39;00m\n\u001b[1;32m----> 2\u001b[0m encoder, model \u001b[38;5;241m=\u001b[39m pickle\u001b[38;5;241m.\u001b[39mload(\u001b[38;5;28;43mopen\u001b[39;49m\u001b[43m(\u001b[49m\u001b[38;5;124;43m'\u001b[39;49m\u001b[38;5;124;43m../data/encoder_model.pk\u001b[39;49m\u001b[38;5;124;43m'\u001b[39;49m\u001b[43m,\u001b[49m\u001b[38;5;124;43m'\u001b[39;49m\u001b[38;5;124;43mrb\u001b[39;49m\u001b[38;5;124;43m'\u001b[39;49m\u001b[43m)\u001b[49m)\n\u001b[0;32m      3\u001b[0m encoder, model\n",
      "File \u001b[1;32m~\\AppData\\Roaming\\Python\\Python39\\site-packages\\IPython\\core\\interactiveshell.py:310\u001b[0m, in \u001b[0;36m_modified_open\u001b[1;34m(file, *args, **kwargs)\u001b[0m\n\u001b[0;32m    303\u001b[0m \u001b[38;5;28;01mif\u001b[39;00m file \u001b[38;5;129;01min\u001b[39;00m {\u001b[38;5;241m0\u001b[39m, \u001b[38;5;241m1\u001b[39m, \u001b[38;5;241m2\u001b[39m}:\n\u001b[0;32m    304\u001b[0m     \u001b[38;5;28;01mraise\u001b[39;00m \u001b[38;5;167;01mValueError\u001b[39;00m(\n\u001b[0;32m    305\u001b[0m         \u001b[38;5;124mf\u001b[39m\u001b[38;5;124m\"\u001b[39m\u001b[38;5;124mIPython won\u001b[39m\u001b[38;5;124m'\u001b[39m\u001b[38;5;124mt let you open fd=\u001b[39m\u001b[38;5;132;01m{\u001b[39;00mfile\u001b[38;5;132;01m}\u001b[39;00m\u001b[38;5;124m by default \u001b[39m\u001b[38;5;124m\"\u001b[39m\n\u001b[0;32m    306\u001b[0m         \u001b[38;5;124m\"\u001b[39m\u001b[38;5;124mas it is likely to crash IPython. If you know what you are doing, \u001b[39m\u001b[38;5;124m\"\u001b[39m\n\u001b[0;32m    307\u001b[0m         \u001b[38;5;124m\"\u001b[39m\u001b[38;5;124myou can use builtins\u001b[39m\u001b[38;5;124m'\u001b[39m\u001b[38;5;124m open.\u001b[39m\u001b[38;5;124m\"\u001b[39m\n\u001b[0;32m    308\u001b[0m     )\n\u001b[1;32m--> 310\u001b[0m \u001b[38;5;28;01mreturn\u001b[39;00m io_open(file, \u001b[38;5;241m*\u001b[39margs, \u001b[38;5;241m*\u001b[39m\u001b[38;5;241m*\u001b[39mkwargs)\n",
      "\u001b[1;31mFileNotFoundError\u001b[0m: [Errno 2] No such file or directory: '../data/encoder_model.pk'"
     ]
    }
   ],
   "source": [
    "import pickle\n",
    "encoder, model = pickle.load(open('../data/encoder_model.pk','rb'))\n",
    "encoder, model"
   ]
  },
  {
   "cell_type": "code",
   "execution_count": 58,
   "metadata": {},
   "outputs": [
    {
     "ename": "NameError",
     "evalue": "name 'encoder' is not defined",
     "output_type": "error",
     "traceback": [
      "\u001b[1;31m---------------------------------------------------------------------------\u001b[0m",
      "\u001b[1;31mNameError\u001b[0m                                 Traceback (most recent call last)",
      "Cell \u001b[1;32mIn[58], line 1\u001b[0m\n\u001b[1;32m----> 1\u001b[0m X_train \u001b[38;5;241m=\u001b[39m \u001b[43mencoder\u001b[49m\u001b[38;5;241m.\u001b[39mfit_transform(X_train, y_train)\n\u001b[0;32m      2\u001b[0m X_valid \u001b[38;5;241m=\u001b[39m encoder\u001b[38;5;241m.\u001b[39mtransform(X_valid)\n",
      "\u001b[1;31mNameError\u001b[0m: name 'encoder' is not defined"
     ]
    }
   ],
   "source": [
    "X_train = encoder.fit_transform(X_train, y_train)\n",
    "X_valid = encoder.transform(X_valid)"
   ]
  },
  {
   "cell_type": "code",
   "execution_count": null,
   "metadata": {},
   "outputs": [
    {
     "name": "stdout",
     "output_type": "stream",
     "text": [
      "benchmarks:\n",
      "- Accuracy: 64.6%\n",
      "- ROC AUC: 0.637\n"
     ]
    }
   ],
   "source": [
    "xgb_test_preds = model.predict(X_valid)\n",
    "xgb_test_proba = model.predict_proba(X_valid)[:,1]\n",
    "\n",
    "bench_acc = accuracy_score(y_valid, xgb_test_preds)\n",
    "bench_roc = roc_auc_score(y_valid, xgb_test_preds)\n",
    "print(f\"benchmarks:\\n- Accuracy: {bench_acc*100:.1f}%\\n- ROC AUC: {bench_roc:.3f}\")"
   ]
  },
  {
   "cell_type": "markdown",
   "metadata": {},
   "source": [
    "# XGB"
   ]
  },
  {
   "cell_type": "markdown",
   "metadata": {},
   "source": [
    "## Tune"
   ]
  },
  {
   "cell_type": "code",
   "execution_count": 42,
   "metadata": {},
   "outputs": [
    {
     "name": "stdout",
     "output_type": "stream",
     "text": [
      "Requirement already satisfied: ray[tune] in c:\\users\\justin\\appdata\\local\\programs\\python\\python39\\lib\\site-packages (2.20.0)\n",
      "Requirement already satisfied: frozenlist in c:\\users\\justin\\appdata\\local\\programs\\python\\python39\\lib\\site-packages (from ray[tune]) (1.4.1)\n",
      "Requirement already satisfied: protobuf!=3.19.5,>=3.15.3 in c:\\users\\justin\\appdata\\local\\programs\\python\\python39\\lib\\site-packages (from ray[tune]) (4.25.2)\n",
      "Requirement already satisfied: aiosignal in c:\\users\\justin\\appdata\\local\\programs\\python\\python39\\lib\\site-packages (from ray[tune]) (1.3.1)\n",
      "Requirement already satisfied: requests in c:\\users\\justin\\appdata\\local\\programs\\python\\python39\\lib\\site-packages (from ray[tune]) (2.31.0)\n",
      "Requirement already satisfied: jsonschema in c:\\users\\justin\\appdata\\local\\programs\\python\\python39\\lib\\site-packages (from ray[tune]) (4.22.0)\n",
      "Requirement already satisfied: filelock in c:\\users\\justin\\appdata\\local\\programs\\python\\python39\\lib\\site-packages (from ray[tune]) (3.13.1)\n",
      "Requirement already satisfied: click>=7.0 in c:\\users\\justin\\appdata\\local\\programs\\python\\python39\\lib\\site-packages (from ray[tune]) (8.1.7)\n",
      "Requirement already satisfied: packaging in c:\\users\\justin\\appdata\\local\\programs\\python\\python39\\lib\\site-packages (from ray[tune]) (23.2)\n",
      "Requirement already satisfied: pyyaml in c:\\users\\justin\\appdata\\local\\programs\\python\\python39\\lib\\site-packages (from ray[tune]) (6.0.1)\n",
      "Requirement already satisfied: msgpack<2.0.0,>=1.0.0 in c:\\users\\justin\\appdata\\local\\programs\\python\\python39\\lib\\site-packages (from ray[tune]) (1.0.8)\n",
      "Requirement already satisfied: pandas; extra == \"tune\" in c:\\users\\justin\\appdata\\local\\programs\\python\\python39\\lib\\site-packages (from ray[tune]) (2.1.1)\n",
      "Requirement already satisfied: tensorboardX>=1.9; extra == \"tune\" in c:\\users\\justin\\appdata\\local\\programs\\python\\python39\\lib\\site-packages (from ray[tune]) (2.6.2.2)\n",
      "Requirement already satisfied: pyarrow>=6.0.1; extra == \"tune\" in c:\\users\\justin\\appdata\\local\\programs\\python\\python39\\lib\\site-packages (from ray[tune]) (16.1.0)\n",
      "Requirement already satisfied: fsspec; extra == \"tune\" in c:\\users\\justin\\appdata\\local\\programs\\python\\python39\\lib\\site-packages (from ray[tune]) (2024.2.0)\n",
      "Requirement already satisfied: urllib3<3,>=1.21.1 in c:\\users\\justin\\appdata\\local\\programs\\python\\python39\\lib\\site-packages (from requests->ray[tune]) (2.1.0)\n",
      "Requirement already satisfied: charset-normalizer<4,>=2 in c:\\users\\justin\\appdata\\local\\programs\\python\\python39\\lib\\site-packages (from requests->ray[tune]) (3.3.2)\n",
      "Requirement already satisfied: certifi>=2017.4.17 in c:\\users\\justin\\appdata\\local\\programs\\python\\python39\\lib\\site-packages (from requests->ray[tune]) (2023.11.17)\n",
      "Requirement already satisfied: idna<4,>=2.5 in c:\\users\\justin\\appdata\\local\\programs\\python\\python39\\lib\\site-packages (from requests->ray[tune]) (3.6)\n",
      "Requirement already satisfied: attrs>=22.2.0 in c:\\users\\justin\\appdata\\local\\programs\\python\\python39\\lib\\site-packages (from jsonschema->ray[tune]) (23.2.0)\n",
      "Requirement already satisfied: rpds-py>=0.7.1 in c:\\users\\justin\\appdata\\local\\programs\\python\\python39\\lib\\site-packages (from jsonschema->ray[tune]) (0.18.1)\n",
      "Requirement already satisfied: jsonschema-specifications>=2023.03.6 in c:\\users\\justin\\appdata\\local\\programs\\python\\python39\\lib\\site-packages (from jsonschema->ray[tune]) (2023.12.1)\n",
      "Requirement already satisfied: referencing>=0.28.4 in c:\\users\\justin\\appdata\\local\\programs\\python\\python39\\lib\\site-packages (from jsonschema->ray[tune]) (0.35.1)\n",
      "Requirement already satisfied: colorama; platform_system == \"Windows\" in c:\\users\\justin\\appdata\\local\\programs\\python\\python39\\lib\\site-packages (from click>=7.0->ray[tune]) (0.4.6)\n",
      "Requirement already satisfied: pytz>=2020.1 in c:\\users\\justin\\appdata\\local\\programs\\python\\python39\\lib\\site-packages (from pandas; extra == \"tune\"->ray[tune]) (2023.4)\n",
      "Requirement already satisfied: python-dateutil>=2.8.2 in c:\\users\\justin\\appdata\\local\\programs\\python\\python39\\lib\\site-packages (from pandas; extra == \"tune\"->ray[tune]) (2.8.2)\n",
      "Requirement already satisfied: numpy>=1.22.4; python_version < \"3.11\" in c:\\users\\justin\\appdata\\local\\programs\\python\\python39\\lib\\site-packages (from pandas; extra == \"tune\"->ray[tune]) (1.26.3)\n",
      "Requirement already satisfied: tzdata>=2022.1 in c:\\users\\justin\\appdata\\local\\programs\\python\\python39\\lib\\site-packages (from pandas; extra == \"tune\"->ray[tune]) (2023.4)\n",
      "Requirement already satisfied: six>=1.5 in c:\\users\\justin\\appdata\\local\\programs\\python\\python39\\lib\\site-packages (from python-dateutil>=2.8.2->pandas; extra == \"tune\"->ray[tune]) (1.16.0)\n"
     ]
    },
    {
     "name": "stderr",
     "output_type": "stream",
     "text": [
      "WARNING: You are using pip version 20.2.3; however, version 24.0 is available.\n",
      "You should consider upgrading via the 'c:\\users\\justin\\appdata\\local\\programs\\python\\python39\\python.exe -m pip install --upgrade pip' command.\n"
     ]
    },
    {
     "name": "stdout",
     "output_type": "stream",
     "text": [
      "Requirement already satisfied: hyperopt in c:\\users\\justin\\appdata\\local\\programs\\python\\python39\\lib\\site-packages (0.2.7)\n",
      "Requirement already satisfied: py4j in c:\\users\\justin\\appdata\\local\\programs\\python\\python39\\lib\\site-packages (from hyperopt) (0.10.9.7)\n",
      "Requirement already satisfied: networkx>=2.2 in c:\\users\\justin\\appdata\\local\\programs\\python\\python39\\lib\\site-packages (from hyperopt) (3.2.1)\n",
      "Requirement already satisfied: six in c:\\users\\justin\\appdata\\local\\programs\\python\\python39\\lib\\site-packages (from hyperopt) (1.16.0)\n",
      "Requirement already satisfied: numpy in c:\\users\\justin\\appdata\\local\\programs\\python\\python39\\lib\\site-packages (from hyperopt) (1.26.3)\n",
      "Requirement already satisfied: future in c:\\users\\justin\\appdata\\local\\programs\\python\\python39\\lib\\site-packages (from hyperopt) (1.0.0)\n",
      "Requirement already satisfied: cloudpickle in c:\\users\\justin\\appdata\\local\\programs\\python\\python39\\lib\\site-packages (from hyperopt) (3.0.0)\n",
      "Requirement already satisfied: tqdm in c:\\users\\justin\\appdata\\local\\programs\\python\\python39\\lib\\site-packages (from hyperopt) (4.66.1)\n",
      "Requirement already satisfied: scipy in c:\\users\\justin\\appdata\\local\\programs\\python\\python39\\lib\\site-packages (from hyperopt) (1.12.0)\n",
      "Requirement already satisfied: colorama; platform_system == \"Windows\" in c:\\users\\justin\\appdata\\local\\programs\\python\\python39\\lib\\site-packages (from tqdm->hyperopt) (0.4.6)\n"
     ]
    },
    {
     "name": "stderr",
     "output_type": "stream",
     "text": [
      "WARNING: You are using pip version 20.2.3; however, version 24.0 is available.\n",
      "You should consider upgrading via the 'c:\\users\\justin\\appdata\\local\\programs\\python\\python39\\python.exe -m pip install --upgrade pip' command.\n"
     ]
    },
    {
     "name": "stdout",
     "output_type": "stream",
     "text": [
      "Requirement already satisfied: bayesian-optimization in c:\\users\\justin\\appdata\\local\\programs\\python\\python39\\lib\\site-packages (1.3.1)\n",
      "Requirement already satisfied: scikit-learn>=0.18.0 in c:\\users\\justin\\appdata\\local\\programs\\python\\python39\\lib\\site-packages (from bayesian-optimization) (1.3.1)\n",
      "Requirement already satisfied: numpy>=1.9.0 in c:\\users\\justin\\appdata\\local\\programs\\python\\python39\\lib\\site-packages (from bayesian-optimization) (1.26.3)\n",
      "Requirement already satisfied: scipy>=1.0.0 in c:\\users\\justin\\appdata\\local\\programs\\python\\python39\\lib\\site-packages (from bayesian-optimization) (1.12.0)\n",
      "Requirement already satisfied: threadpoolctl>=2.0.0 in c:\\users\\justin\\appdata\\local\\programs\\python\\python39\\lib\\site-packages (from scikit-learn>=0.18.0->bayesian-optimization) (3.2.0)\n",
      "Requirement already satisfied: joblib>=1.1.1 in c:\\users\\justin\\appdata\\local\\programs\\python\\python39\\lib\\site-packages (from scikit-learn>=0.18.0->bayesian-optimization) (1.3.2)\n"
     ]
    },
    {
     "name": "stderr",
     "output_type": "stream",
     "text": [
      "WARNING: You are using pip version 20.2.3; however, version 24.0 is available.\n",
      "You should consider upgrading via the 'c:\\users\\justin\\appdata\\local\\programs\\python\\python39\\python.exe -m pip install --upgrade pip' command.\n"
     ]
    },
    {
     "name": "stdout",
     "output_type": "stream",
     "text": [
      "Requirement already satisfied: tensorflow>=2.9.0 in c:\\users\\justin\\appdata\\local\\programs\\python\\python39\\lib\\site-packages (2.14.0)\n",
      "Requirement already satisfied: tensorflow-intel==2.14.0; platform_system == \"Windows\" in c:\\users\\justin\\appdata\\local\\programs\\python\\python39\\lib\\site-packages (from tensorflow>=2.9.0) (2.14.0)\n",
      "Requirement already satisfied: numpy>=1.23.5 in c:\\users\\justin\\appdata\\local\\programs\\python\\python39\\lib\\site-packages (from tensorflow-intel==2.14.0; platform_system == \"Windows\"->tensorflow>=2.9.0) (1.26.3)\n",
      "Requirement already satisfied: astunparse>=1.6.0 in c:\\users\\justin\\appdata\\local\\programs\\python\\python39\\lib\\site-packages (from tensorflow-intel==2.14.0; platform_system == \"Windows\"->tensorflow>=2.9.0) (1.6.3)\n",
      "Requirement already satisfied: packaging in c:\\users\\justin\\appdata\\local\\programs\\python\\python39\\lib\\site-packages (from tensorflow-intel==2.14.0; platform_system == \"Windows\"->tensorflow>=2.9.0) (23.2)\n",
      "Requirement already satisfied: grpcio<2.0,>=1.24.3 in c:\\users\\justin\\appdata\\local\\programs\\python\\python39\\lib\\site-packages (from tensorflow-intel==2.14.0; platform_system == \"Windows\"->tensorflow>=2.9.0) (1.60.0)\n",
      "Requirement already satisfied: wrapt<1.15,>=1.11.0 in c:\\users\\justin\\appdata\\local\\programs\\python\\python39\\lib\\site-packages (from tensorflow-intel==2.14.0; platform_system == \"Windows\"->tensorflow>=2.9.0) (1.14.1)\n",
      "Requirement already satisfied: libclang>=13.0.0 in c:\\users\\justin\\appdata\\local\\programs\\python\\python39\\lib\\site-packages (from tensorflow-intel==2.14.0; platform_system == \"Windows\"->tensorflow>=2.9.0) (16.0.6)\n",
      "Requirement already satisfied: tensorflow-estimator<2.15,>=2.14.0 in c:\\users\\justin\\appdata\\local\\programs\\python\\python39\\lib\\site-packages (from tensorflow-intel==2.14.0; platform_system == \"Windows\"->tensorflow>=2.9.0) (2.14.0)\n",
      "Requirement already satisfied: termcolor>=1.1.0 in c:\\users\\justin\\appdata\\local\\programs\\python\\python39\\lib\\site-packages (from tensorflow-intel==2.14.0; platform_system == \"Windows\"->tensorflow>=2.9.0) (2.4.0)\n",
      "Requirement already satisfied: gast!=0.5.0,!=0.5.1,!=0.5.2,>=0.2.1 in c:\\users\\justin\\appdata\\local\\programs\\python\\python39\\lib\\site-packages (from tensorflow-intel==2.14.0; platform_system == \"Windows\"->tensorflow>=2.9.0) (0.5.4)\n",
      "Requirement already satisfied: opt-einsum>=2.3.2 in c:\\users\\justin\\appdata\\local\\programs\\python\\python39\\lib\\site-packages (from tensorflow-intel==2.14.0; platform_system == \"Windows\"->tensorflow>=2.9.0) (3.3.0)\n",
      "Requirement already satisfied: six>=1.12.0 in c:\\users\\justin\\appdata\\local\\programs\\python\\python39\\lib\\site-packages (from tensorflow-intel==2.14.0; platform_system == \"Windows\"->tensorflow>=2.9.0) (1.16.0)\n",
      "Requirement already satisfied: typing-extensions>=3.6.6 in c:\\users\\justin\\appdata\\local\\programs\\python\\python39\\lib\\site-packages (from tensorflow-intel==2.14.0; platform_system == \"Windows\"->tensorflow>=2.9.0) (4.9.0)\n",
      "Requirement already satisfied: flatbuffers>=23.5.26 in c:\\users\\justin\\appdata\\local\\programs\\python\\python39\\lib\\site-packages (from tensorflow-intel==2.14.0; platform_system == \"Windows\"->tensorflow>=2.9.0) (23.5.26)\n",
      "Requirement already satisfied: absl-py>=1.0.0 in c:\\users\\justin\\appdata\\local\\programs\\python\\python39\\lib\\site-packages (from tensorflow-intel==2.14.0; platform_system == \"Windows\"->tensorflow>=2.9.0) (2.1.0)\n",
      "Requirement already satisfied: tensorboard<2.15,>=2.14 in c:\\users\\justin\\appdata\\local\\programs\\python\\python39\\lib\\site-packages (from tensorflow-intel==2.14.0; platform_system == \"Windows\"->tensorflow>=2.9.0) (2.14.1)\n",
      "Requirement already satisfied: google-pasta>=0.1.1 in c:\\users\\justin\\appdata\\local\\programs\\python\\python39\\lib\\site-packages (from tensorflow-intel==2.14.0; platform_system == \"Windows\"->tensorflow>=2.9.0) (0.2.0)\n",
      "Requirement already satisfied: keras<2.15,>=2.14.0 in c:\\users\\justin\\appdata\\local\\programs\\python\\python39\\lib\\site-packages (from tensorflow-intel==2.14.0; platform_system == \"Windows\"->tensorflow>=2.9.0) (2.14.0)\n",
      "Requirement already satisfied: ml-dtypes==0.2.0 in c:\\users\\justin\\appdata\\local\\programs\\python\\python39\\lib\\site-packages (from tensorflow-intel==2.14.0; platform_system == \"Windows\"->tensorflow>=2.9.0) (0.2.0)\n",
      "Requirement already satisfied: setuptools in c:\\users\\justin\\appdata\\local\\programs\\python\\python39\\lib\\site-packages (from tensorflow-intel==2.14.0; platform_system == \"Windows\"->tensorflow>=2.9.0) (49.2.1)\n",
      "Requirement already satisfied: h5py>=2.9.0 in c:\\users\\justin\\appdata\\local\\programs\\python\\python39\\lib\\site-packages (from tensorflow-intel==2.14.0; platform_system == \"Windows\"->tensorflow>=2.9.0) (3.10.0)\n",
      "Requirement already satisfied: tensorflow-io-gcs-filesystem>=0.23.1 in c:\\users\\justin\\appdata\\local\\programs\\python\\python39\\lib\\site-packages (from tensorflow-intel==2.14.0; platform_system == \"Windows\"->tensorflow>=2.9.0) (0.31.0)\n",
      "Requirement already satisfied: protobuf!=4.21.0,!=4.21.1,!=4.21.2,!=4.21.3,!=4.21.4,!=4.21.5,<5.0.0dev,>=3.20.3 in c:\\users\\justin\\appdata\\local\\programs\\python\\python39\\lib\\site-packages (from tensorflow-intel==2.14.0; platform_system == \"Windows\"->tensorflow>=2.9.0) (4.25.2)\n",
      "Requirement already satisfied: wheel<1.0,>=0.23.0 in c:\\users\\justin\\appdata\\local\\programs\\python\\python39\\lib\\site-packages (from astunparse>=1.6.0->tensorflow-intel==2.14.0; platform_system == \"Windows\"->tensorflow>=2.9.0) (0.42.0)\n",
      "Requirement already satisfied: werkzeug>=1.0.1 in c:\\users\\justin\\appdata\\local\\programs\\python\\python39\\lib\\site-packages (from tensorboard<2.15,>=2.14->tensorflow-intel==2.14.0; platform_system == \"Windows\"->tensorflow>=2.9.0) (3.0.1)\n",
      "Requirement already satisfied: markdown>=2.6.8 in c:\\users\\justin\\appdata\\local\\programs\\python\\python39\\lib\\site-packages (from tensorboard<2.15,>=2.14->tensorflow-intel==2.14.0; platform_system == \"Windows\"->tensorflow>=2.9.0) (3.5.2)\n",
      "Requirement already satisfied: google-auth<3,>=1.6.3 in c:\\users\\justin\\appdata\\local\\programs\\python\\python39\\lib\\site-packages (from tensorboard<2.15,>=2.14->tensorflow-intel==2.14.0; platform_system == \"Windows\"->tensorflow>=2.9.0) (2.27.0)\n",
      "Requirement already satisfied: requests<3,>=2.21.0 in c:\\users\\justin\\appdata\\local\\programs\\python\\python39\\lib\\site-packages (from tensorboard<2.15,>=2.14->tensorflow-intel==2.14.0; platform_system == \"Windows\"->tensorflow>=2.9.0) (2.31.0)\n",
      "Requirement already satisfied: tensorboard-data-server<0.8.0,>=0.7.0 in c:\\users\\justin\\appdata\\local\\programs\\python\\python39\\lib\\site-packages (from tensorboard<2.15,>=2.14->tensorflow-intel==2.14.0; platform_system == \"Windows\"->tensorflow>=2.9.0) (0.7.2)\n",
      "Requirement already satisfied: google-auth-oauthlib<1.1,>=0.5 in c:\\users\\justin\\appdata\\local\\programs\\python\\python39\\lib\\site-packages (from tensorboard<2.15,>=2.14->tensorflow-intel==2.14.0; platform_system == \"Windows\"->tensorflow>=2.9.0) (1.0.0)\n",
      "Requirement already satisfied: MarkupSafe>=2.1.1 in c:\\users\\justin\\appdata\\local\\programs\\python\\python39\\lib\\site-packages (from werkzeug>=1.0.1->tensorboard<2.15,>=2.14->tensorflow-intel==2.14.0; platform_system == \"Windows\"->tensorflow>=2.9.0) (2.1.4)\n",
      "Requirement already satisfied: importlib-metadata>=4.4; python_version < \"3.10\" in c:\\users\\justin\\appdata\\local\\programs\\python\\python39\\lib\\site-packages (from markdown>=2.6.8->tensorboard<2.15,>=2.14->tensorflow-intel==2.14.0; platform_system == \"Windows\"->tensorflow>=2.9.0) (7.0.1)\n",
      "Requirement already satisfied: rsa<5,>=3.1.4 in c:\\users\\justin\\appdata\\local\\programs\\python\\python39\\lib\\site-packages (from google-auth<3,>=1.6.3->tensorboard<2.15,>=2.14->tensorflow-intel==2.14.0; platform_system == \"Windows\"->tensorflow>=2.9.0) (4.9)\n",
      "Requirement already satisfied: cachetools<6.0,>=2.0.0 in c:\\users\\justin\\appdata\\local\\programs\\python\\python39\\lib\\site-packages (from google-auth<3,>=1.6.3->tensorboard<2.15,>=2.14->tensorflow-intel==2.14.0; platform_system == \"Windows\"->tensorflow>=2.9.0) (5.3.2)\n",
      "Requirement already satisfied: pyasn1-modules>=0.2.1 in c:\\users\\justin\\appdata\\local\\programs\\python\\python39\\lib\\site-packages (from google-auth<3,>=1.6.3->tensorboard<2.15,>=2.14->tensorflow-intel==2.14.0; platform_system == \"Windows\"->tensorflow>=2.9.0) (0.3.0)\n",
      "Requirement already satisfied: charset-normalizer<4,>=2 in c:\\users\\justin\\appdata\\local\\programs\\python\\python39\\lib\\site-packages (from requests<3,>=2.21.0->tensorboard<2.15,>=2.14->tensorflow-intel==2.14.0; platform_system == \"Windows\"->tensorflow>=2.9.0) (3.3.2)\n",
      "Requirement already satisfied: certifi>=2017.4.17 in c:\\users\\justin\\appdata\\local\\programs\\python\\python39\\lib\\site-packages (from requests<3,>=2.21.0->tensorboard<2.15,>=2.14->tensorflow-intel==2.14.0; platform_system == \"Windows\"->tensorflow>=2.9.0) (2023.11.17)\n",
      "Requirement already satisfied: urllib3<3,>=1.21.1 in c:\\users\\justin\\appdata\\local\\programs\\python\\python39\\lib\\site-packages (from requests<3,>=2.21.0->tensorboard<2.15,>=2.14->tensorflow-intel==2.14.0; platform_system == \"Windows\"->tensorflow>=2.9.0) (2.1.0)\n",
      "Requirement already satisfied: idna<4,>=2.5 in c:\\users\\justin\\appdata\\local\\programs\\python\\python39\\lib\\site-packages (from requests<3,>=2.21.0->tensorboard<2.15,>=2.14->tensorflow-intel==2.14.0; platform_system == \"Windows\"->tensorflow>=2.9.0) (3.6)\n",
      "Requirement already satisfied: requests-oauthlib>=0.7.0 in c:\\users\\justin\\appdata\\local\\programs\\python\\python39\\lib\\site-packages (from google-auth-oauthlib<1.1,>=0.5->tensorboard<2.15,>=2.14->tensorflow-intel==2.14.0; platform_system == \"Windows\"->tensorflow>=2.9.0) (1.3.1)\n",
      "Requirement already satisfied: zipp>=0.5 in c:\\users\\justin\\appdata\\local\\programs\\python\\python39\\lib\\site-packages (from importlib-metadata>=4.4; python_version < \"3.10\"->markdown>=2.6.8->tensorboard<2.15,>=2.14->tensorflow-intel==2.14.0; platform_system == \"Windows\"->tensorflow>=2.9.0) (3.17.0)\n",
      "Requirement already satisfied: pyasn1>=0.1.3 in c:\\users\\justin\\appdata\\local\\programs\\python\\python39\\lib\\site-packages (from rsa<5,>=3.1.4->google-auth<3,>=1.6.3->tensorboard<2.15,>=2.14->tensorflow-intel==2.14.0; platform_system == \"Windows\"->tensorflow>=2.9.0) (0.5.1)\n",
      "Requirement already satisfied: oauthlib>=3.0.0 in c:\\users\\justin\\appdata\\local\\programs\\python\\python39\\lib\\site-packages (from requests-oauthlib>=0.7.0->google-auth-oauthlib<1.1,>=0.5->tensorboard<2.15,>=2.14->tensorflow-intel==2.14.0; platform_system == \"Windows\"->tensorflow>=2.9.0) (3.2.2)\n"
     ]
    },
    {
     "name": "stderr",
     "output_type": "stream",
     "text": [
      "WARNING: You are using pip version 20.2.3; however, version 24.0 is available.\n",
      "You should consider upgrading via the 'c:\\users\\justin\\appdata\\local\\programs\\python\\python39\\python.exe -m pip install --upgrade pip' command.\n"
     ]
    }
   ],
   "source": [
    "! pip install \"ray[tune]\"\n",
    "! pip install \"hyperopt\"\n",
    "! pip install \"bayesian-optimization\n",
    "! pip install \"tensorflow>=2.9.0\""
   ]
  },
  {
   "cell_type": "code",
   "execution_count": 104,
   "metadata": {},
   "outputs": [],
   "source": [
    "from ray import tune\n",
    "from ray.tune.suggest.bayesopt import BayesOptSearch\n",
    "from ray.tune.schedulers import ASHAScheduler\n",
    "from ray.tune.schedulers import PopulationBasedTraining\n",
    "\n",
    "def XGBCallback(env):\n",
    "    tune.track.log(**dict(env.evaluation_result_list))"
   ]
  },
  {
   "cell_type": "code",
   "execution_count": 108,
   "metadata": {},
   "outputs": [],
   "source": [
    "def train_xgb(params):\n",
    "    for i in range(10):\n",
    "        params['max_depth'] = int(params['max_depth'])\n",
    "        gbm = xgb.XGBClassifier(**params, num_boost_round=100, random_state=13, n_jobs=-1)\n",
    "        model = gbm.fit(X_train, y_train,\n",
    "                        verbose=False,\n",
    "                        eval_set = [[X_train, y_train],\n",
    "                                  [X_valid, y_valid]],\n",
    "                        early_stopping_rounds=15,\n",
    "                        callbacks=[XGBCallback])\n",
    "        xgb_test_preds = model.predict(X_valid)\n",
    "        proba = model.predict_proba(X_valid)[:,1]\n",
    "\n",
    "        #penalize low discrimination\n",
    "        score = roc_auc_score(y_valid, xgb_test_preds)\n",
    "        if max(proba)<.7 and min(proba)>.3: score -= 0.05\n",
    "\n",
    "        tune.track.log(mean_accuracy=score, done=True)"
   ]
  },
  {
   "cell_type": "markdown",
   "metadata": {},
   "source": [
    "! pip install --upgrade ray\n"
   ]
  },
  {
   "cell_type": "code",
   "execution_count": 102,
   "metadata": {},
   "outputs": [
    {
     "name": "stdout",
     "output_type": "stream",
     "text": [
      "Requirement already satisfied: ray in c:\\users\\justin\\appdata\\local\\programs\\python\\python39\\lib\\site-packages (1.9.1)\n",
      "Collecting ray\n",
      "  Downloading ray-2.20.0-cp39-cp39-win_amd64.whl.metadata (14 kB)\n",
      "Requirement already satisfied: click>=7.0 in c:\\users\\justin\\appdata\\local\\programs\\python\\python39\\lib\\site-packages (from ray) (8.1.7)\n",
      "Requirement already satisfied: filelock in c:\\users\\justin\\appdata\\local\\programs\\python\\python39\\lib\\site-packages (from ray) (3.13.1)\n",
      "Requirement already satisfied: jsonschema in c:\\users\\justin\\appdata\\local\\programs\\python\\python39\\lib\\site-packages (from ray) (4.22.0)\n",
      "Requirement already satisfied: msgpack<2.0.0,>=1.0.0 in c:\\users\\justin\\appdata\\local\\programs\\python\\python39\\lib\\site-packages (from ray) (1.0.8)\n",
      "Requirement already satisfied: packaging in c:\\users\\justin\\appdata\\local\\programs\\python\\python39\\lib\\site-packages (from ray) (23.2)\n",
      "Requirement already satisfied: protobuf!=3.19.5,>=3.15.3 in c:\\users\\justin\\appdata\\local\\programs\\python\\python39\\lib\\site-packages (from ray) (4.25.2)\n",
      "Requirement already satisfied: pyyaml in c:\\users\\justin\\appdata\\local\\programs\\python\\python39\\lib\\site-packages (from ray) (6.0.1)\n",
      "Requirement already satisfied: aiosignal in c:\\users\\justin\\appdata\\local\\programs\\python\\python39\\lib\\site-packages (from ray) (1.3.1)\n",
      "Requirement already satisfied: frozenlist in c:\\users\\justin\\appdata\\local\\programs\\python\\python39\\lib\\site-packages (from ray) (1.4.1)\n",
      "Requirement already satisfied: requests in c:\\users\\justin\\appdata\\local\\programs\\python\\python39\\lib\\site-packages (from ray) (2.31.0)\n",
      "Requirement already satisfied: colorama in c:\\users\\justin\\appdata\\local\\programs\\python\\python39\\lib\\site-packages (from click>=7.0->ray) (0.4.6)\n",
      "Requirement already satisfied: attrs>=22.2.0 in c:\\users\\justin\\appdata\\local\\programs\\python\\python39\\lib\\site-packages (from jsonschema->ray) (23.2.0)\n",
      "Requirement already satisfied: jsonschema-specifications>=2023.03.6 in c:\\users\\justin\\appdata\\local\\programs\\python\\python39\\lib\\site-packages (from jsonschema->ray) (2023.12.1)\n",
      "Requirement already satisfied: referencing>=0.28.4 in c:\\users\\justin\\appdata\\local\\programs\\python\\python39\\lib\\site-packages (from jsonschema->ray) (0.35.1)\n",
      "Requirement already satisfied: rpds-py>=0.7.1 in c:\\users\\justin\\appdata\\local\\programs\\python\\python39\\lib\\site-packages (from jsonschema->ray) (0.18.1)\n",
      "Requirement already satisfied: charset-normalizer<4,>=2 in c:\\users\\justin\\appdata\\local\\programs\\python\\python39\\lib\\site-packages (from requests->ray) (3.3.2)\n",
      "Requirement already satisfied: idna<4,>=2.5 in c:\\users\\justin\\appdata\\local\\programs\\python\\python39\\lib\\site-packages (from requests->ray) (3.6)\n",
      "Requirement already satisfied: urllib3<3,>=1.21.1 in c:\\users\\justin\\appdata\\local\\programs\\python\\python39\\lib\\site-packages (from requests->ray) (2.1.0)\n",
      "Requirement already satisfied: certifi>=2017.4.17 in c:\\users\\justin\\appdata\\local\\programs\\python\\python39\\lib\\site-packages (from requests->ray) (2023.11.17)\n",
      "Downloading ray-2.20.0-cp39-cp39-win_amd64.whl (25.7 MB)\n",
      "   ---------------------------------------- 0.0/25.7 MB ? eta -:--:--\n",
      "   ---- ----------------------------------- 2.8/25.7 MB 58.4 MB/s eta 0:00:01\n",
      "   ------- -------------------------------- 4.8/25.7 MB 50.8 MB/s eta 0:00:01\n",
      "   --------- ------------------------------ 5.8/25.7 MB 40.9 MB/s eta 0:00:01\n",
      "   ----------- ---------------------------- 7.3/25.7 MB 38.9 MB/s eta 0:00:01\n",
      "   -------------- ------------------------- 9.2/25.7 MB 39.4 MB/s eta 0:00:01\n",
      "   ---------------- ----------------------- 10.7/25.7 MB 38.6 MB/s eta 0:00:01\n",
      "   ------------------ --------------------- 11.6/25.7 MB 34.4 MB/s eta 0:00:01\n",
      "   -------------------- ------------------- 13.1/25.7 MB 32.8 MB/s eta 0:00:01\n",
      "   ----------------------- ---------------- 15.2/25.7 MB 31.2 MB/s eta 0:00:01\n",
      "   --------------------------- ------------ 17.9/25.7 MB 36.3 MB/s eta 0:00:01\n",
      "   -------------------------------- ------- 20.8/25.7 MB 43.5 MB/s eta 0:00:01\n",
      "   ----------------------------------- ---- 22.7/25.7 MB 46.9 MB/s eta 0:00:01\n",
      "   ---------------------------------------  25.3/25.7 MB 54.7 MB/s eta 0:00:01\n",
      "   ---------------------------------------  25.7/25.7 MB 54.7 MB/s eta 0:00:01\n",
      "   ---------------------------------------  25.7/25.7 MB 54.7 MB/s eta 0:00:01\n",
      "   ---------------------------------------  25.7/25.7 MB 54.7 MB/s eta 0:00:01\n",
      "   ---------------------------------------  25.7/25.7 MB 54.7 MB/s eta 0:00:01\n",
      "   ---------------------------------------  25.7/25.7 MB 54.7 MB/s eta 0:00:01\n",
      "   ---------------------------------------  25.7/25.7 MB 54.7 MB/s eta 0:00:01\n",
      "   ---------------------------------------  25.7/25.7 MB 54.7 MB/s eta 0:00:01\n",
      "   ---------------------------------------  25.7/25.7 MB 54.7 MB/s eta 0:00:01\n",
      "   ---------------------------------------  25.7/25.7 MB 54.7 MB/s eta 0:00:01\n",
      "   ---------------------------------------  25.7/25.7 MB 54.7 MB/s eta 0:00:01\n",
      "   ---------------------------------------  25.7/25.7 MB 54.7 MB/s eta 0:00:01\n",
      "   ---------------------------------------  25.7/25.7 MB 54.7 MB/s eta 0:00:01\n",
      "   ---------------------------------------  25.7/25.7 MB 54.7 MB/s eta 0:00:01\n",
      "   ---------------------------------------  25.7/25.7 MB 54.7 MB/s eta 0:00:01\n",
      "   ---------------------------------------  25.7/25.7 MB 54.7 MB/s eta 0:00:01\n",
      "   ---------------------------------------  25.7/25.7 MB 54.7 MB/s eta 0:00:01\n",
      "   ---------------------------------------  25.7/25.7 MB 54.7 MB/s eta 0:00:01\n",
      "   ---------------------------------------  25.7/25.7 MB 54.7 MB/s eta 0:00:01\n",
      "   ---------------------------------------  25.7/25.7 MB 54.7 MB/s eta 0:00:01\n",
      "   ---------------------------------------  25.7/25.7 MB 54.7 MB/s eta 0:00:01\n",
      "   ---------------------------------------  25.7/25.7 MB 54.7 MB/s eta 0:00:01\n",
      "   ---------------------------------------  25.7/25.7 MB 54.7 MB/s eta 0:00:01\n",
      "   ---------------------------------------  25.7/25.7 MB 54.7 MB/s eta 0:00:01\n",
      "   ---------------------------------------  25.7/25.7 MB 54.7 MB/s eta 0:00:01\n",
      "   ---------------------------------------  25.7/25.7 MB 54.7 MB/s eta 0:00:01\n",
      "   ---------------------------------------  25.7/25.7 MB 54.7 MB/s eta 0:00:01\n",
      "   ---------------------------------------  25.7/25.7 MB 54.7 MB/s eta 0:00:01\n",
      "   ---------------------------------------  25.7/25.7 MB 54.7 MB/s eta 0:00:01\n",
      "   ---------------------------------------  25.7/25.7 MB 54.7 MB/s eta 0:00:01\n",
      "   ---------------------------------------  25.7/25.7 MB 54.7 MB/s eta 0:00:01\n",
      "   ---------------------------------------  25.7/25.7 MB 54.7 MB/s eta 0:00:01\n",
      "   ---------------------------------------  25.7/25.7 MB 54.7 MB/s eta 0:00:01\n",
      "   ---------------------------------------  25.7/25.7 MB 54.7 MB/s eta 0:00:01\n",
      "   ---------------------------------------  25.7/25.7 MB 54.7 MB/s eta 0:00:01\n",
      "   ---------------------------------------  25.7/25.7 MB 54.7 MB/s eta 0:00:01\n",
      "   ---------------------------------------  25.7/25.7 MB 54.7 MB/s eta 0:00:01\n",
      "   ---------------------------------------  25.7/25.7 MB 54.7 MB/s eta 0:00:01\n",
      "   ---------------------------------------  25.7/25.7 MB 54.7 MB/s eta 0:00:01\n",
      "   ---------------------------------------  25.7/25.7 MB 54.7 MB/s eta 0:00:01\n",
      "   ---------------------------------------  25.7/25.7 MB 54.7 MB/s eta 0:00:01\n",
      "   ---------------------------------------  25.7/25.7 MB 54.7 MB/s eta 0:00:01\n",
      "   ---------------------------------------  25.7/25.7 MB 54.7 MB/s eta 0:00:01\n",
      "   ---------------------------------------  25.7/25.7 MB 54.7 MB/s eta 0:00:01\n",
      "   ---------------------------------------  25.7/25.7 MB 54.7 MB/s eta 0:00:01\n",
      "   ---------------------------------------  25.7/25.7 MB 54.7 MB/s eta 0:00:01\n",
      "   ---------------------------------------  25.7/25.7 MB 54.7 MB/s eta 0:00:01\n",
      "   ---------------------------------------  25.7/25.7 MB 54.7 MB/s eta 0:00:01\n",
      "   ---------------------------------------  25.7/25.7 MB 54.7 MB/s eta 0:00:01\n",
      "   ---------------------------------------  25.7/25.7 MB 54.7 MB/s eta 0:00:01\n",
      "   ---------------------------------------  25.7/25.7 MB 54.7 MB/s eta 0:00:01\n",
      "   ---------------------------------------  25.7/25.7 MB 54.7 MB/s eta 0:00:01\n",
      "   ---------------------------------------  25.7/25.7 MB 54.7 MB/s eta 0:00:01\n",
      "   ---------------------------------------  25.7/25.7 MB 54.7 MB/s eta 0:00:01\n",
      "   ---------------------------------------  25.7/25.7 MB 54.7 MB/s eta 0:00:01\n",
      "   ---------------------------------------  25.7/25.7 MB 54.7 MB/s eta 0:00:01\n",
      "   ---------------------------------------  25.7/25.7 MB 54.7 MB/s eta 0:00:01\n",
      "   ---------------------------------------  25.7/25.7 MB 54.7 MB/s eta 0:00:01\n",
      "   ---------------------------------------  25.7/25.7 MB 54.7 MB/s eta 0:00:01\n",
      "   ---------------------------------------  25.7/25.7 MB 54.7 MB/s eta 0:00:01\n",
      "   ---------------------------------------  25.7/25.7 MB 54.7 MB/s eta 0:00:01\n",
      "   ---------------------------------------  25.7/25.7 MB 54.7 MB/s eta 0:00:01\n",
      "   ---------------------------------------  25.7/25.7 MB 54.7 MB/s eta 0:00:01\n",
      "   ---------------------------------------  25.7/25.7 MB 54.7 MB/s eta 0:00:01\n",
      "   ---------------------------------------  25.7/25.7 MB 54.7 MB/s eta 0:00:01\n",
      "   ---------------------------------------  25.7/25.7 MB 54.7 MB/s eta 0:00:01\n",
      "   ---------------------------------------  25.7/25.7 MB 54.7 MB/s eta 0:00:01\n",
      "   ---------------------------------------  25.7/25.7 MB 54.7 MB/s eta 0:00:01\n",
      "   ---------------------------------------  25.7/25.7 MB 54.7 MB/s eta 0:00:01\n",
      "   ---------------------------------------  25.7/25.7 MB 54.7 MB/s eta 0:00:01\n",
      "   ---------------------------------------  25.7/25.7 MB 54.7 MB/s eta 0:00:01\n",
      "   ---------------------------------------  25.7/25.7 MB 54.7 MB/s eta 0:00:01\n",
      "   ---------------------------------------  25.7/25.7 MB 54.7 MB/s eta 0:00:01\n",
      "   ---------------------------------------  25.7/25.7 MB 54.7 MB/s eta 0:00:01\n",
      "   ---------------------------------------  25.7/25.7 MB 54.7 MB/s eta 0:00:01\n",
      "   ---------------------------------------  25.7/25.7 MB 54.7 MB/s eta 0:00:01\n",
      "   ---------------------------------------  25.7/25.7 MB 54.7 MB/s eta 0:00:01\n",
      "   ---------------------------------------  25.7/25.7 MB 54.7 MB/s eta 0:00:01\n",
      "   ---------------------------------------  25.7/25.7 MB 54.7 MB/s eta 0:00:01\n",
      "   ---------------------------------------  25.7/25.7 MB 54.7 MB/s eta 0:00:01\n",
      "   ---------------------------------------  25.7/25.7 MB 54.7 MB/s eta 0:00:01\n",
      "   ---------------------------------------  25.7/25.7 MB 54.7 MB/s eta 0:00:01\n",
      "   ---------------------------------------  25.7/25.7 MB 54.7 MB/s eta 0:00:01\n",
      "   ---------------------------------------  25.7/25.7 MB 54.7 MB/s eta 0:00:01\n",
      "   ---------------------------------------  25.7/25.7 MB 54.7 MB/s eta 0:00:01\n",
      "   ---------------------------------------  25.7/25.7 MB 54.7 MB/s eta 0:00:01\n",
      "   ---------------------------------------  25.7/25.7 MB 54.7 MB/s eta 0:00:01\n",
      "   ---------------------------------------  25.7/25.7 MB 54.7 MB/s eta 0:00:01\n",
      "   ---------------------------------------  25.7/25.7 MB 54.7 MB/s eta 0:00:01\n",
      "   ---------------------------------------  25.7/25.7 MB 54.7 MB/s eta 0:00:01\n",
      "   ---------------------------------------  25.7/25.7 MB 54.7 MB/s eta 0:00:01\n",
      "   ---------------------------------------  25.7/25.7 MB 54.7 MB/s eta 0:00:01\n",
      "   ---------------------------------------  25.7/25.7 MB 54.7 MB/s eta 0:00:01\n",
      "   ---------------------------------------  25.7/25.7 MB 54.7 MB/s eta 0:00:01\n",
      "   ---------------------------------------  25.7/25.7 MB 54.7 MB/s eta 0:00:01\n",
      "   ---------------------------------------  25.7/25.7 MB 54.7 MB/s eta 0:00:01\n",
      "   ---------------------------------------  25.7/25.7 MB 54.7 MB/s eta 0:00:01\n",
      "   ---------------------------------------  25.7/25.7 MB 54.7 MB/s eta 0:00:01\n",
      "   ---------------------------------------  25.7/25.7 MB 54.7 MB/s eta 0:00:01\n",
      "   ---------------------------------------  25.7/25.7 MB 54.7 MB/s eta 0:00:01\n",
      "   ---------------------------------------  25.7/25.7 MB 54.7 MB/s eta 0:00:01\n",
      "   ---------------------------------------  25.7/25.7 MB 54.7 MB/s eta 0:00:01\n",
      "   ---------------------------------------  25.7/25.7 MB 54.7 MB/s eta 0:00:01\n",
      "   ---------------------------------------- 25.7/25.7 MB 2.0 MB/s eta 0:00:00\n",
      "Installing collected packages: ray\n",
      "  Attempting uninstall: ray\n",
      "    Found existing installation: ray 1.9.1\n",
      "    Uninstalling ray-1.9.1:\n",
      "      Successfully uninstalled ray-1.9.1\n",
      "Successfully installed ray-2.20.0\n",
      "Requirement already satisfied: ray[tune] in c:\\users\\justin\\appdata\\local\\programs\\python\\python39\\lib\\site-packages (2.20.0)\n",
      "Requirement already satisfied: click>=7.0 in c:\\users\\justin\\appdata\\local\\programs\\python\\python39\\lib\\site-packages (from ray[tune]) (8.1.7)\n",
      "Requirement already satisfied: filelock in c:\\users\\justin\\appdata\\local\\programs\\python\\python39\\lib\\site-packages (from ray[tune]) (3.13.1)\n",
      "Requirement already satisfied: jsonschema in c:\\users\\justin\\appdata\\local\\programs\\python\\python39\\lib\\site-packages (from ray[tune]) (4.22.0)\n",
      "Requirement already satisfied: msgpack<2.0.0,>=1.0.0 in c:\\users\\justin\\appdata\\local\\programs\\python\\python39\\lib\\site-packages (from ray[tune]) (1.0.8)\n",
      "Requirement already satisfied: packaging in c:\\users\\justin\\appdata\\local\\programs\\python\\python39\\lib\\site-packages (from ray[tune]) (23.2)\n",
      "Requirement already satisfied: protobuf!=3.19.5,>=3.15.3 in c:\\users\\justin\\appdata\\local\\programs\\python\\python39\\lib\\site-packages (from ray[tune]) (4.25.2)\n",
      "Requirement already satisfied: pyyaml in c:\\users\\justin\\appdata\\local\\programs\\python\\python39\\lib\\site-packages (from ray[tune]) (6.0.1)\n",
      "Requirement already satisfied: aiosignal in c:\\users\\justin\\appdata\\local\\programs\\python\\python39\\lib\\site-packages (from ray[tune]) (1.3.1)\n",
      "Requirement already satisfied: frozenlist in c:\\users\\justin\\appdata\\local\\programs\\python\\python39\\lib\\site-packages (from ray[tune]) (1.4.1)\n",
      "Requirement already satisfied: requests in c:\\users\\justin\\appdata\\local\\programs\\python\\python39\\lib\\site-packages (from ray[tune]) (2.31.0)\n",
      "Requirement already satisfied: pandas in c:\\users\\justin\\appdata\\local\\programs\\python\\python39\\lib\\site-packages (from ray[tune]) (2.1.1)\n",
      "Requirement already satisfied: tensorboardX>=1.9 in c:\\users\\justin\\appdata\\local\\programs\\python\\python39\\lib\\site-packages (from ray[tune]) (2.6.2.2)\n",
      "Requirement already satisfied: pyarrow>=6.0.1 in c:\\users\\justin\\appdata\\local\\programs\\python\\python39\\lib\\site-packages (from ray[tune]) (16.1.0)\n",
      "Requirement already satisfied: fsspec in c:\\users\\justin\\appdata\\local\\programs\\python\\python39\\lib\\site-packages (from ray[tune]) (2024.2.0)\n",
      "Requirement already satisfied: colorama in c:\\users\\justin\\appdata\\local\\programs\\python\\python39\\lib\\site-packages (from click>=7.0->ray[tune]) (0.4.6)\n",
      "Requirement already satisfied: numpy>=1.16.6 in c:\\users\\justin\\appdata\\local\\programs\\python\\python39\\lib\\site-packages (from pyarrow>=6.0.1->ray[tune]) (1.26.3)\n",
      "Requirement already satisfied: attrs>=22.2.0 in c:\\users\\justin\\appdata\\local\\programs\\python\\python39\\lib\\site-packages (from jsonschema->ray[tune]) (23.2.0)\n",
      "Requirement already satisfied: jsonschema-specifications>=2023.03.6 in c:\\users\\justin\\appdata\\local\\programs\\python\\python39\\lib\\site-packages (from jsonschema->ray[tune]) (2023.12.1)\n",
      "Requirement already satisfied: referencing>=0.28.4 in c:\\users\\justin\\appdata\\local\\programs\\python\\python39\\lib\\site-packages (from jsonschema->ray[tune]) (0.35.1)\n",
      "Requirement already satisfied: rpds-py>=0.7.1 in c:\\users\\justin\\appdata\\local\\programs\\python\\python39\\lib\\site-packages (from jsonschema->ray[tune]) (0.18.1)\n",
      "Requirement already satisfied: python-dateutil>=2.8.2 in c:\\users\\justin\\appdata\\local\\programs\\python\\python39\\lib\\site-packages (from pandas->ray[tune]) (2.8.2)\n",
      "Requirement already satisfied: pytz>=2020.1 in c:\\users\\justin\\appdata\\local\\programs\\python\\python39\\lib\\site-packages (from pandas->ray[tune]) (2023.4)\n",
      "Requirement already satisfied: tzdata>=2022.1 in c:\\users\\justin\\appdata\\local\\programs\\python\\python39\\lib\\site-packages (from pandas->ray[tune]) (2023.4)\n",
      "Requirement already satisfied: charset-normalizer<4,>=2 in c:\\users\\justin\\appdata\\local\\programs\\python\\python39\\lib\\site-packages (from requests->ray[tune]) (3.3.2)\n",
      "Requirement already satisfied: idna<4,>=2.5 in c:\\users\\justin\\appdata\\local\\programs\\python\\python39\\lib\\site-packages (from requests->ray[tune]) (3.6)\n",
      "Requirement already satisfied: urllib3<3,>=1.21.1 in c:\\users\\justin\\appdata\\local\\programs\\python\\python39\\lib\\site-packages (from requests->ray[tune]) (2.1.0)\n",
      "Requirement already satisfied: certifi>=2017.4.17 in c:\\users\\justin\\appdata\\local\\programs\\python\\python39\\lib\\site-packages (from requests->ray[tune]) (2023.11.17)\n",
      "Requirement already satisfied: six>=1.5 in c:\\users\\justin\\appdata\\local\\programs\\python\\python39\\lib\\site-packages (from python-dateutil>=2.8.2->pandas->ray[tune]) (1.16.0)\n"
     ]
    }
   ],
   "source": [
    "! pip install --upgrade ray\n",
    "! pip install --upgrade ray[tune]"
   ]
  },
  {
   "cell_type": "code",
   "execution_count": 113,
   "metadata": {},
   "outputs": [
    {
     "ename": "AttributeError",
     "evalue": "module 'ray._private' has no attribute 'utils'",
     "output_type": "error",
     "traceback": [
      "\u001b[1;31m---------------------------------------------------------------------------\u001b[0m",
      "\u001b[1;31mAttributeError\u001b[0m                            Traceback (most recent call last)",
      "Cell \u001b[1;32mIn[113], line 2\u001b[0m\n\u001b[0;32m      1\u001b[0m \u001b[38;5;28;01mfrom\u001b[39;00m \u001b[38;5;21;01mray\u001b[39;00m \u001b[38;5;28;01mimport\u001b[39;00m init\n\u001b[1;32m----> 2\u001b[0m \u001b[43minit\u001b[49m\u001b[43m(\u001b[49m\u001b[43mignore_reinit_error\u001b[49m\u001b[38;5;241;43m=\u001b[39;49m\u001b[38;5;28;43;01mTrue\u001b[39;49;00m\u001b[43m)\u001b[49m\n",
      "File \u001b[1;32mc:\\Users\\Justin\\AppData\\Local\\Programs\\Python\\Python39\\lib\\site-packages\\ray\\_private\\client_mode_hook.py:103\u001b[0m, in \u001b[0;36mclient_mode_hook.<locals>.wrapper\u001b[1;34m(*args, **kwargs)\u001b[0m\n\u001b[0;32m    101\u001b[0m     \u001b[38;5;28;01mif\u001b[39;00m func\u001b[38;5;241m.\u001b[39m\u001b[38;5;18m__name__\u001b[39m \u001b[38;5;241m!=\u001b[39m \u001b[38;5;124m\"\u001b[39m\u001b[38;5;124minit\u001b[39m\u001b[38;5;124m\"\u001b[39m \u001b[38;5;129;01mor\u001b[39;00m is_client_mode_enabled_by_default:\n\u001b[0;32m    102\u001b[0m         \u001b[38;5;28;01mreturn\u001b[39;00m \u001b[38;5;28mgetattr\u001b[39m(ray, func\u001b[38;5;241m.\u001b[39m\u001b[38;5;18m__name__\u001b[39m)(\u001b[38;5;241m*\u001b[39margs, \u001b[38;5;241m*\u001b[39m\u001b[38;5;241m*\u001b[39mkwargs)\n\u001b[1;32m--> 103\u001b[0m \u001b[38;5;28;01mreturn\u001b[39;00m func(\u001b[38;5;241m*\u001b[39margs, \u001b[38;5;241m*\u001b[39m\u001b[38;5;241m*\u001b[39mkwargs)\n",
      "File \u001b[1;32mc:\\Users\\Justin\\AppData\\Local\\Programs\\Python\\Python39\\lib\\site-packages\\ray\\_private\\worker.py:1417\u001b[0m, in \u001b[0;36minit\u001b[1;34m(address, num_cpus, num_gpus, resources, labels, object_store_memory, local_mode, ignore_reinit_error, include_dashboard, dashboard_host, dashboard_port, job_config, configure_logging, logging_level, logging_format, log_to_driver, namespace, runtime_env, storage, **kwargs)\u001b[0m\n\u001b[0;32m   1414\u001b[0m     sys\u001b[38;5;241m.\u001b[39mexit(signum)\n\u001b[0;32m   1416\u001b[0m \u001b[38;5;28;01mif\u001b[39;00m threading\u001b[38;5;241m.\u001b[39mcurrent_thread() \u001b[38;5;129;01mis\u001b[39;00m threading\u001b[38;5;241m.\u001b[39mmain_thread():\n\u001b[1;32m-> 1417\u001b[0m     \u001b[43mray\u001b[49m\u001b[38;5;241;43m.\u001b[39;49m\u001b[43m_private\u001b[49m\u001b[38;5;241;43m.\u001b[39;49m\u001b[43mutils\u001b[49m\u001b[38;5;241m.\u001b[39mset_sigterm_handler(sigterm_handler)\n\u001b[0;32m   1418\u001b[0m \u001b[38;5;28;01melse\u001b[39;00m:\n\u001b[0;32m   1419\u001b[0m     logger\u001b[38;5;241m.\u001b[39mwarning(\n\u001b[0;32m   1420\u001b[0m         \u001b[38;5;124m\"\u001b[39m\u001b[38;5;124mSIGTERM handler is not set because current thread \u001b[39m\u001b[38;5;124m\"\u001b[39m\n\u001b[0;32m   1421\u001b[0m         \u001b[38;5;124m\"\u001b[39m\u001b[38;5;124mis not the main thread.\u001b[39m\u001b[38;5;124m\"\u001b[39m\n\u001b[0;32m   1422\u001b[0m     )\n",
      "\u001b[1;31mAttributeError\u001b[0m: module 'ray._private' has no attribute 'utils'"
     ]
    }
   ],
   "source": [
    "from ray import init\n",
    "init(ignore_reinit_error=True)"
   ]
  },
  {
   "cell_type": "code",
   "execution_count": 111,
   "metadata": {
    "scrolled": true
   },
   "outputs": [
    {
     "ename": "TypeError",
     "evalue": "__init__() got an unexpected keyword argument 'max_concurrent'",
     "output_type": "error",
     "traceback": [
      "\u001b[1;31m---------------------------------------------------------------------------\u001b[0m",
      "\u001b[1;31mTypeError\u001b[0m                                 Traceback (most recent call last)",
      "Cell \u001b[1;32mIn[111], line 20\u001b[0m\n\u001b[0;32m      9\u001b[0m \u001b[38;5;28;01mfrom\u001b[39;00m \u001b[38;5;21;01mray\u001b[39;00m\u001b[38;5;21;01m.\u001b[39;00m\u001b[38;5;21;01mtune\u001b[39;00m\u001b[38;5;21;01m.\u001b[39;00m\u001b[38;5;21;01mschedulers\u001b[39;00m \u001b[38;5;28;01mimport\u001b[39;00m ASHAScheduler\n\u001b[0;32m     10\u001b[0m space \u001b[38;5;241m=\u001b[39m {\n\u001b[0;32m     11\u001b[0m     \u001b[38;5;124m\"\u001b[39m\u001b[38;5;124mmax_depth\u001b[39m\u001b[38;5;124m\"\u001b[39m: (\u001b[38;5;241m10\u001b[39m, \u001b[38;5;241m20\u001b[39m),\n\u001b[0;32m     12\u001b[0m     \u001b[38;5;124m\"\u001b[39m\u001b[38;5;124mmin_child_weight\u001b[39m\u001b[38;5;124m\"\u001b[39m: (\u001b[38;5;241m2\u001b[39m, \u001b[38;5;241m10\u001b[39m),\n\u001b[1;32m   (...)\u001b[0m\n\u001b[0;32m     17\u001b[0m     \u001b[38;5;124m\"\u001b[39m\u001b[38;5;124mgamma\u001b[39m\u001b[38;5;124m\"\u001b[39m: (\u001b[38;5;241m1e-8\u001b[39m, \u001b[38;5;241m1.0\u001b[39m),\n\u001b[0;32m     18\u001b[0m }\n\u001b[1;32m---> 20\u001b[0m algo \u001b[38;5;241m=\u001b[39m \u001b[43mBayesOptSearch\u001b[49m\u001b[43m(\u001b[49m\n\u001b[0;32m     21\u001b[0m \u001b[43m    \u001b[49m\u001b[43mspace\u001b[49m\u001b[43m,\u001b[49m\n\u001b[0;32m     22\u001b[0m \u001b[43m    \u001b[49m\u001b[43mmetric\u001b[49m\u001b[38;5;241;43m=\u001b[39;49m\u001b[38;5;124;43m\"\u001b[39;49m\u001b[38;5;124;43mmean_accuracy\u001b[39;49m\u001b[38;5;124;43m\"\u001b[39;49m\u001b[43m,\u001b[49m\n\u001b[0;32m     23\u001b[0m \u001b[43m    \u001b[49m\u001b[43mmode\u001b[49m\u001b[38;5;241;43m=\u001b[39;49m\u001b[38;5;124;43m\"\u001b[39;49m\u001b[38;5;124;43mmax\u001b[39;49m\u001b[38;5;124;43m\"\u001b[39;49m\u001b[43m,\u001b[49m\n\u001b[0;32m     24\u001b[0m \u001b[43m    \u001b[49m\u001b[43mutility_kwargs\u001b[49m\u001b[38;5;241;43m=\u001b[39;49m\u001b[43m{\u001b[49m\n\u001b[0;32m     25\u001b[0m \u001b[43m            \u001b[49m\u001b[38;5;124;43m\"\u001b[39;49m\u001b[38;5;124;43mkind\u001b[39;49m\u001b[38;5;124;43m\"\u001b[39;49m\u001b[43m:\u001b[49m\u001b[43m \u001b[49m\u001b[38;5;124;43m\"\u001b[39;49m\u001b[38;5;124;43mucb\u001b[39;49m\u001b[38;5;124;43m\"\u001b[39;49m\u001b[43m,\u001b[49m\n\u001b[0;32m     26\u001b[0m \u001b[43m            \u001b[49m\u001b[38;5;124;43m\"\u001b[39;49m\u001b[38;5;124;43mkappa\u001b[39;49m\u001b[38;5;124;43m\"\u001b[39;49m\u001b[43m:\u001b[49m\u001b[43m \u001b[49m\u001b[38;5;241;43m2.5\u001b[39;49m\u001b[43m,\u001b[49m\n\u001b[0;32m     27\u001b[0m \u001b[43m            \u001b[49m\u001b[38;5;124;43m\"\u001b[39;49m\u001b[38;5;124;43mxi\u001b[39;49m\u001b[38;5;124;43m\"\u001b[39;49m\u001b[43m:\u001b[49m\u001b[43m \u001b[49m\u001b[38;5;241;43m0.0\u001b[39;49m\u001b[43m,\u001b[49m\n\u001b[0;32m     28\u001b[0m \u001b[43m        \u001b[49m\u001b[43m}\u001b[49m\u001b[43m,\u001b[49m\n\u001b[0;32m     29\u001b[0m \u001b[43m)\u001b[49m\n\u001b[0;32m     30\u001b[0m scheduler \u001b[38;5;241m=\u001b[39m ASHAScheduler(\n\u001b[0;32m     31\u001b[0m     metric\u001b[38;5;241m=\u001b[39m\u001b[38;5;124m\"\u001b[39m\u001b[38;5;124mmean_accuracy\u001b[39m\u001b[38;5;124m\"\u001b[39m,  \u001b[38;5;66;03m# Ensure this matches what `train_xgb` reports\u001b[39;00m\n\u001b[0;32m     32\u001b[0m     mode\u001b[38;5;241m=\u001b[39m\u001b[38;5;124m\"\u001b[39m\u001b[38;5;124mmax\u001b[39m\u001b[38;5;124m\"\u001b[39m  \u001b[38;5;66;03m# This should match the goal of your optimization (maximizing or minimizing)\u001b[39;00m\n\u001b[0;32m     33\u001b[0m )\n\u001b[0;32m     34\u001b[0m results \u001b[38;5;241m=\u001b[39m tune\u001b[38;5;241m.\u001b[39mrun(\n\u001b[0;32m     35\u001b[0m     train_xgb,\n\u001b[0;32m     36\u001b[0m     resources_per_trial\u001b[38;5;241m=\u001b[39m{\u001b[38;5;124m\"\u001b[39m\u001b[38;5;124mcpu\u001b[39m\u001b[38;5;124m\"\u001b[39m: \u001b[38;5;241m1\u001b[39m},  \u001b[38;5;66;03m# Adjust based on your environment\u001b[39;00m\n\u001b[1;32m   (...)\u001b[0m\n\u001b[0;32m     39\u001b[0m     scheduler\u001b[38;5;241m=\u001b[39mscheduler\n\u001b[0;32m     40\u001b[0m )\n",
      "File \u001b[1;32mc:\\Users\\Justin\\AppData\\Local\\Programs\\Python\\Python39\\lib\\site-packages\\ray\\tune\\suggest\\bayesopt.py:143\u001b[0m, in \u001b[0;36m__init__\u001b[1;34m(self, space, metric, mode, points_to_evaluate, utility_kwargs, random_state, random_search_steps, verbose, patience, skip_duplicate, analysis, max_concurrent, use_early_stopped_trials)\u001b[0m\n",
      "\u001b[1;31mTypeError\u001b[0m: __init__() got an unexpected keyword argument 'max_concurrent'"
     ]
    }
   ],
   "source": [
    "num_threads = 6\n",
    "config = {\n",
    "    \"verbosity\": 0,\n",
    "    \"num_threads\": num_threads,\n",
    "    \"objective\": \"binary:logistic\",\n",
    "    \"eval_metric\": [\"auc\", \"logloss\"],\n",
    "}\n",
    "\n",
    "from ray.tune.schedulers import ASHAScheduler\n",
    "space = {\n",
    "    \"max_depth\": (10, 20),\n",
    "    \"min_child_weight\": (2, 10),\n",
    "    \"learning_rate\": (0.01,0.1),\n",
    "    \"subsample\":(0.1,1),\n",
    "    \"colsample_bytree\":(0.1,1),\n",
    "    \"reg_alpha\": (1e-2, 1e2),\n",
    "    \"gamma\": (1e-8, 1.0),\n",
    "}\n",
    "\n",
    "algo = BayesOptSearch(\n",
    "    space,\n",
    "    metric=\"mean_accuracy\",\n",
    "    mode=\"max\",\n",
    "    utility_kwargs={\n",
    "            \"kind\": \"ucb\",\n",
    "            \"kappa\": 2.5,\n",
    "            \"xi\": 0.0,\n",
    "        },\n",
    ")\n",
    "scheduler = ASHAScheduler(\n",
    "    metric=\"mean_accuracy\",  # Ensure this matches what `train_xgb` reports\n",
    "    mode=\"max\"  # This should match the goal of your optimization (maximizing or minimizing)\n",
    ")\n",
    "results = tune.run(\n",
    "    train_xgb,\n",
    "    resources_per_trial={\"cpu\": 1},  # Adjust based on your environment\n",
    "    num_samples=500,\n",
    "    search_alg=algo,\n",
    "    scheduler=scheduler\n",
    ")"
   ]
  },
  {
   "cell_type": "code",
   "execution_count": 65,
   "metadata": {},
   "outputs": [
    {
     "ename": "ImportError",
     "evalue": "cannot import name 'Analysis' from 'ray.tune' (c:\\Users\\Justin\\AppData\\Local\\Programs\\Python\\Python39\\lib\\site-packages\\ray\\tune\\__init__.py)",
     "output_type": "error",
     "traceback": [
      "\u001b[1;31m---------------------------------------------------------------------------\u001b[0m",
      "\u001b[1;31mImportError\u001b[0m                               Traceback (most recent call last)",
      "Cell \u001b[1;32mIn[65], line 2\u001b[0m\n\u001b[0;32m      1\u001b[0m \u001b[38;5;66;03m# load results from disk\u001b[39;00m\n\u001b[1;32m----> 2\u001b[0m \u001b[38;5;28;01mfrom\u001b[39;00m \u001b[38;5;21;01mray\u001b[39;00m\u001b[38;5;21;01m.\u001b[39;00m\u001b[38;5;21;01mtune\u001b[39;00m \u001b[38;5;28;01mimport\u001b[39;00m Analysis\n\u001b[0;32m      3\u001b[0m results \u001b[38;5;241m=\u001b[39m Analysis(\u001b[38;5;124m\"\u001b[39m\u001b[38;5;124m~/ray_results/train_xgb\u001b[39m\u001b[38;5;124m\"\u001b[39m)\n\u001b[0;32m      4\u001b[0m results\u001b[38;5;241m.\u001b[39mdataframe()[\u001b[38;5;124m'\u001b[39m\u001b[38;5;124mmean_accuracy\u001b[39m\u001b[38;5;124m'\u001b[39m]\u001b[38;5;241m.\u001b[39mmax()\n",
      "\u001b[1;31mImportError\u001b[0m: cannot import name 'Analysis' from 'ray.tune' (c:\\Users\\Justin\\AppData\\Local\\Programs\\Python\\Python39\\lib\\site-packages\\ray\\tune\\__init__.py)"
     ]
    }
   ],
   "source": [
    "# load results from disk\n",
    "from ray.tune import Analysis\n",
    "results = Analysis(\"~/ray_results/train_xgb\")\n",
    "results.dataframe()['mean_accuracy'].max()"
   ]
  },
  {
   "cell_type": "code",
   "execution_count": 18,
   "metadata": {},
   "outputs": [
    {
     "data": {
      "text/plain": [
       "{'colsample_bytree': 1.0,\n",
       " 'gamma': 1e-08,\n",
       " 'learning_rate': 0.1,\n",
       " 'max_depth': 10,\n",
       " 'min_child_weight': 10.0,\n",
       " 'reg_alpha': 25.2379554214079,\n",
       " 'subsample': 0.10694933059531121}"
      ]
     },
     "execution_count": 18,
     "metadata": {},
     "output_type": "execute_result"
    }
   ],
   "source": [
    "xgb_params = results.get_best_config(metric=\"mean_accuracy\")\n",
    "xgb_params['max_depth']=int(xgb_params['max_depth'])\n",
    "xgb_params"
   ]
  },
  {
   "cell_type": "markdown",
   "metadata": {
    "heading_collapsed": true
   },
   "source": [
    "## Greedy Hyperopt"
   ]
  },
  {
   "cell_type": "code",
   "execution_count": 85,
   "metadata": {},
   "outputs": [
    {
     "data": {
      "text/html": [
       "<div>\n",
       "<style scoped>\n",
       "    .dataframe tbody tr th:only-of-type {\n",
       "        vertical-align: middle;\n",
       "    }\n",
       "\n",
       "    .dataframe tbody tr th {\n",
       "        vertical-align: top;\n",
       "    }\n",
       "\n",
       "    .dataframe thead th {\n",
       "        text-align: right;\n",
       "    }\n",
       "</style>\n",
       "<table border=\"1\" class=\"dataframe\">\n",
       "  <thead>\n",
       "    <tr style=\"text-align: right;\">\n",
       "      <th></th>\n",
       "      <th>is_night_game</th>\n",
       "      <th>home_trueskill_pre</th>\n",
       "      <th>away_trueskill_pre</th>\n",
       "      <th>ts_diff</th>\n",
       "      <th>home_team_rest</th>\n",
       "      <th>away_team_rest</th>\n",
       "      <th>home_pitcher_rest</th>\n",
       "      <th>away_pitcher_rest</th>\n",
       "      <th>team_rest_diff</th>\n",
       "      <th>pitcher_rest_diff</th>\n",
       "      <th>...</th>\n",
       "      <th>pitcher_pitches_diff</th>\n",
       "      <th>pitcher_re24_def_diff</th>\n",
       "      <th>pitcher_strikes_contact_diff</th>\n",
       "      <th>pitcher_strikes_looking_diff</th>\n",
       "      <th>pitcher_strikes_swinging_diff</th>\n",
       "      <th>pitcher_strikes_total_diff</th>\n",
       "      <th>pitcher_wpa_def_diff</th>\n",
       "      <th>pitcher_SO_batters_faced_diff</th>\n",
       "      <th>pitcher_H_batters_faced_diff</th>\n",
       "      <th>pitcher_BB_batters_faced_diff</th>\n",
       "    </tr>\n",
       "  </thead>\n",
       "  <tbody>\n",
       "    <tr>\n",
       "      <th>681</th>\n",
       "      <td>True</td>\n",
       "      <td>18.787875</td>\n",
       "      <td>29.924237</td>\n",
       "      <td>-11.136362</td>\n",
       "      <td>1</td>\n",
       "      <td>1</td>\n",
       "      <td>1</td>\n",
       "      <td>1</td>\n",
       "      <td>0</td>\n",
       "      <td>0</td>\n",
       "      <td>...</td>\n",
       "      <td>5.000000</td>\n",
       "      <td>NaN</td>\n",
       "      <td>NaN</td>\n",
       "      <td>1.200000</td>\n",
       "      <td>2.400000</td>\n",
       "      <td>0.500000</td>\n",
       "      <td>NaN</td>\n",
       "      <td>-0.031494</td>\n",
       "      <td>-0.086255</td>\n",
       "      <td>0.098030</td>\n",
       "    </tr>\n",
       "    <tr>\n",
       "      <th>682</th>\n",
       "      <td>True</td>\n",
       "      <td>26.970435</td>\n",
       "      <td>21.247916</td>\n",
       "      <td>5.722519</td>\n",
       "      <td>1</td>\n",
       "      <td>1</td>\n",
       "      <td>1</td>\n",
       "      <td>1</td>\n",
       "      <td>0</td>\n",
       "      <td>0</td>\n",
       "      <td>...</td>\n",
       "      <td>-82.428571</td>\n",
       "      <td>NaN</td>\n",
       "      <td>NaN</td>\n",
       "      <td>-10.142857</td>\n",
       "      <td>-5.428571</td>\n",
       "      <td>-51.000000</td>\n",
       "      <td>NaN</td>\n",
       "      <td>0.235714</td>\n",
       "      <td>-0.123810</td>\n",
       "      <td>-0.047619</td>\n",
       "    </tr>\n",
       "    <tr>\n",
       "      <th>683</th>\n",
       "      <td>True</td>\n",
       "      <td>22.972023</td>\n",
       "      <td>22.726255</td>\n",
       "      <td>0.245768</td>\n",
       "      <td>1</td>\n",
       "      <td>1</td>\n",
       "      <td>1</td>\n",
       "      <td>1</td>\n",
       "      <td>0</td>\n",
       "      <td>0</td>\n",
       "      <td>...</td>\n",
       "      <td>8.500000</td>\n",
       "      <td>NaN</td>\n",
       "      <td>NaN</td>\n",
       "      <td>3.000000</td>\n",
       "      <td>-0.500000</td>\n",
       "      <td>6.000000</td>\n",
       "      <td>NaN</td>\n",
       "      <td>-0.166667</td>\n",
       "      <td>0.500000</td>\n",
       "      <td>0.000000</td>\n",
       "    </tr>\n",
       "    <tr>\n",
       "      <th>684</th>\n",
       "      <td>True</td>\n",
       "      <td>22.670076</td>\n",
       "      <td>36.375928</td>\n",
       "      <td>-13.705852</td>\n",
       "      <td>1</td>\n",
       "      <td>1</td>\n",
       "      <td>1</td>\n",
       "      <td>1</td>\n",
       "      <td>0</td>\n",
       "      <td>0</td>\n",
       "      <td>...</td>\n",
       "      <td>-4.500000</td>\n",
       "      <td>NaN</td>\n",
       "      <td>NaN</td>\n",
       "      <td>-1.500000</td>\n",
       "      <td>3.000000</td>\n",
       "      <td>-2.500000</td>\n",
       "      <td>NaN</td>\n",
       "      <td>0.314286</td>\n",
       "      <td>-0.257143</td>\n",
       "      <td>0.071429</td>\n",
       "    </tr>\n",
       "    <tr>\n",
       "      <th>685</th>\n",
       "      <td>True</td>\n",
       "      <td>11.460079</td>\n",
       "      <td>34.238199</td>\n",
       "      <td>-22.778120</td>\n",
       "      <td>1</td>\n",
       "      <td>1</td>\n",
       "      <td>1</td>\n",
       "      <td>1</td>\n",
       "      <td>0</td>\n",
       "      <td>0</td>\n",
       "      <td>...</td>\n",
       "      <td>34.000000</td>\n",
       "      <td>NaN</td>\n",
       "      <td>NaN</td>\n",
       "      <td>7.666667</td>\n",
       "      <td>6.000000</td>\n",
       "      <td>26.333333</td>\n",
       "      <td>NaN</td>\n",
       "      <td>-0.053335</td>\n",
       "      <td>0.206971</td>\n",
       "      <td>0.040598</td>\n",
       "    </tr>\n",
       "    <tr>\n",
       "      <th>...</th>\n",
       "      <td>...</td>\n",
       "      <td>...</td>\n",
       "      <td>...</td>\n",
       "      <td>...</td>\n",
       "      <td>...</td>\n",
       "      <td>...</td>\n",
       "      <td>...</td>\n",
       "      <td>...</td>\n",
       "      <td>...</td>\n",
       "      <td>...</td>\n",
       "      <td>...</td>\n",
       "      <td>...</td>\n",
       "      <td>...</td>\n",
       "      <td>...</td>\n",
       "      <td>...</td>\n",
       "      <td>...</td>\n",
       "      <td>...</td>\n",
       "      <td>...</td>\n",
       "      <td>...</td>\n",
       "      <td>...</td>\n",
       "      <td>...</td>\n",
       "    </tr>\n",
       "    <tr>\n",
       "      <th>976</th>\n",
       "      <td>True</td>\n",
       "      <td>2.632843</td>\n",
       "      <td>22.781176</td>\n",
       "      <td>-20.148333</td>\n",
       "      <td>3</td>\n",
       "      <td>2</td>\n",
       "      <td>1</td>\n",
       "      <td>1</td>\n",
       "      <td>1</td>\n",
       "      <td>0</td>\n",
       "      <td>...</td>\n",
       "      <td>-35.166667</td>\n",
       "      <td>NaN</td>\n",
       "      <td>NaN</td>\n",
       "      <td>-9.166667</td>\n",
       "      <td>-3.333333</td>\n",
       "      <td>-19.166667</td>\n",
       "      <td>NaN</td>\n",
       "      <td>0.029151</td>\n",
       "      <td>0.066392</td>\n",
       "      <td>0.006410</td>\n",
       "    </tr>\n",
       "    <tr>\n",
       "      <th>977</th>\n",
       "      <td>True</td>\n",
       "      <td>17.769791</td>\n",
       "      <td>30.616462</td>\n",
       "      <td>-12.846671</td>\n",
       "      <td>30</td>\n",
       "      <td>30</td>\n",
       "      <td>30</td>\n",
       "      <td>30</td>\n",
       "      <td>0</td>\n",
       "      <td>0</td>\n",
       "      <td>...</td>\n",
       "      <td>-69.166667</td>\n",
       "      <td>NaN</td>\n",
       "      <td>NaN</td>\n",
       "      <td>-13.000000</td>\n",
       "      <td>-2.166667</td>\n",
       "      <td>-45.500000</td>\n",
       "      <td>NaN</td>\n",
       "      <td>0.145370</td>\n",
       "      <td>0.093519</td>\n",
       "      <td>-0.007407</td>\n",
       "    </tr>\n",
       "    <tr>\n",
       "      <th>978</th>\n",
       "      <td>True</td>\n",
       "      <td>32.009877</td>\n",
       "      <td>22.801961</td>\n",
       "      <td>9.207915</td>\n",
       "      <td>30</td>\n",
       "      <td>30</td>\n",
       "      <td>30</td>\n",
       "      <td>30</td>\n",
       "      <td>0</td>\n",
       "      <td>0</td>\n",
       "      <td>...</td>\n",
       "      <td>-2.375000</td>\n",
       "      <td>NaN</td>\n",
       "      <td>NaN</td>\n",
       "      <td>0.000000</td>\n",
       "      <td>0.000000</td>\n",
       "      <td>-1.000000</td>\n",
       "      <td>NaN</td>\n",
       "      <td>0.023810</td>\n",
       "      <td>0.000000</td>\n",
       "      <td>0.000000</td>\n",
       "    </tr>\n",
       "    <tr>\n",
       "      <th>979</th>\n",
       "      <td>True</td>\n",
       "      <td>9.995011</td>\n",
       "      <td>22.251200</td>\n",
       "      <td>-12.256189</td>\n",
       "      <td>30</td>\n",
       "      <td>30</td>\n",
       "      <td>21</td>\n",
       "      <td>21</td>\n",
       "      <td>0</td>\n",
       "      <td>0</td>\n",
       "      <td>...</td>\n",
       "      <td>-2.375000</td>\n",
       "      <td>NaN</td>\n",
       "      <td>NaN</td>\n",
       "      <td>0.000000</td>\n",
       "      <td>0.000000</td>\n",
       "      <td>-1.000000</td>\n",
       "      <td>NaN</td>\n",
       "      <td>0.023810</td>\n",
       "      <td>0.000000</td>\n",
       "      <td>0.000000</td>\n",
       "    </tr>\n",
       "    <tr>\n",
       "      <th>980</th>\n",
       "      <td>True</td>\n",
       "      <td>32.296048</td>\n",
       "      <td>21.012904</td>\n",
       "      <td>11.283143</td>\n",
       "      <td>30</td>\n",
       "      <td>30</td>\n",
       "      <td>27</td>\n",
       "      <td>27</td>\n",
       "      <td>0</td>\n",
       "      <td>0</td>\n",
       "      <td>...</td>\n",
       "      <td>-2.375000</td>\n",
       "      <td>NaN</td>\n",
       "      <td>NaN</td>\n",
       "      <td>0.000000</td>\n",
       "      <td>0.000000</td>\n",
       "      <td>-1.000000</td>\n",
       "      <td>NaN</td>\n",
       "      <td>0.023810</td>\n",
       "      <td>0.000000</td>\n",
       "      <td>0.000000</td>\n",
       "    </tr>\n",
       "  </tbody>\n",
       "</table>\n",
       "<p>300 rows × 583 columns</p>\n",
       "</div>"
      ],
      "text/plain": [
       "     is_night_game  home_trueskill_pre  away_trueskill_pre    ts_diff  \\\n",
       "681           True           18.787875           29.924237 -11.136362   \n",
       "682           True           26.970435           21.247916   5.722519   \n",
       "683           True           22.972023           22.726255   0.245768   \n",
       "684           True           22.670076           36.375928 -13.705852   \n",
       "685           True           11.460079           34.238199 -22.778120   \n",
       "..             ...                 ...                 ...        ...   \n",
       "976           True            2.632843           22.781176 -20.148333   \n",
       "977           True           17.769791           30.616462 -12.846671   \n",
       "978           True           32.009877           22.801961   9.207915   \n",
       "979           True            9.995011           22.251200 -12.256189   \n",
       "980           True           32.296048           21.012904  11.283143   \n",
       "\n",
       "     home_team_rest  away_team_rest  home_pitcher_rest  away_pitcher_rest  \\\n",
       "681               1               1                  1                  1   \n",
       "682               1               1                  1                  1   \n",
       "683               1               1                  1                  1   \n",
       "684               1               1                  1                  1   \n",
       "685               1               1                  1                  1   \n",
       "..              ...             ...                ...                ...   \n",
       "976               3               2                  1                  1   \n",
       "977              30              30                 30                 30   \n",
       "978              30              30                 30                 30   \n",
       "979              30              30                 21                 21   \n",
       "980              30              30                 27                 27   \n",
       "\n",
       "     team_rest_diff  pitcher_rest_diff  ...  pitcher_pitches_diff  \\\n",
       "681               0                  0  ...              5.000000   \n",
       "682               0                  0  ...            -82.428571   \n",
       "683               0                  0  ...              8.500000   \n",
       "684               0                  0  ...             -4.500000   \n",
       "685               0                  0  ...             34.000000   \n",
       "..              ...                ...  ...                   ...   \n",
       "976               1                  0  ...            -35.166667   \n",
       "977               0                  0  ...            -69.166667   \n",
       "978               0                  0  ...             -2.375000   \n",
       "979               0                  0  ...             -2.375000   \n",
       "980               0                  0  ...             -2.375000   \n",
       "\n",
       "     pitcher_re24_def_diff  pitcher_strikes_contact_diff  \\\n",
       "681                    NaN                           NaN   \n",
       "682                    NaN                           NaN   \n",
       "683                    NaN                           NaN   \n",
       "684                    NaN                           NaN   \n",
       "685                    NaN                           NaN   \n",
       "..                     ...                           ...   \n",
       "976                    NaN                           NaN   \n",
       "977                    NaN                           NaN   \n",
       "978                    NaN                           NaN   \n",
       "979                    NaN                           NaN   \n",
       "980                    NaN                           NaN   \n",
       "\n",
       "     pitcher_strikes_looking_diff  pitcher_strikes_swinging_diff  \\\n",
       "681                      1.200000                       2.400000   \n",
       "682                    -10.142857                      -5.428571   \n",
       "683                      3.000000                      -0.500000   \n",
       "684                     -1.500000                       3.000000   \n",
       "685                      7.666667                       6.000000   \n",
       "..                            ...                            ...   \n",
       "976                     -9.166667                      -3.333333   \n",
       "977                    -13.000000                      -2.166667   \n",
       "978                      0.000000                       0.000000   \n",
       "979                      0.000000                       0.000000   \n",
       "980                      0.000000                       0.000000   \n",
       "\n",
       "     pitcher_strikes_total_diff  pitcher_wpa_def_diff  \\\n",
       "681                    0.500000                   NaN   \n",
       "682                  -51.000000                   NaN   \n",
       "683                    6.000000                   NaN   \n",
       "684                   -2.500000                   NaN   \n",
       "685                   26.333333                   NaN   \n",
       "..                          ...                   ...   \n",
       "976                  -19.166667                   NaN   \n",
       "977                  -45.500000                   NaN   \n",
       "978                   -1.000000                   NaN   \n",
       "979                   -1.000000                   NaN   \n",
       "980                   -1.000000                   NaN   \n",
       "\n",
       "     pitcher_SO_batters_faced_diff  pitcher_H_batters_faced_diff  \\\n",
       "681                      -0.031494                     -0.086255   \n",
       "682                       0.235714                     -0.123810   \n",
       "683                      -0.166667                      0.500000   \n",
       "684                       0.314286                     -0.257143   \n",
       "685                      -0.053335                      0.206971   \n",
       "..                             ...                           ...   \n",
       "976                       0.029151                      0.066392   \n",
       "977                       0.145370                      0.093519   \n",
       "978                       0.023810                      0.000000   \n",
       "979                       0.023810                      0.000000   \n",
       "980                       0.023810                      0.000000   \n",
       "\n",
       "     pitcher_BB_batters_faced_diff  \n",
       "681                       0.098030  \n",
       "682                      -0.047619  \n",
       "683                       0.000000  \n",
       "684                       0.071429  \n",
       "685                       0.040598  \n",
       "..                             ...  \n",
       "976                       0.006410  \n",
       "977                      -0.007407  \n",
       "978                       0.000000  \n",
       "979                       0.000000  \n",
       "980                       0.000000  \n",
       "\n",
       "[300 rows x 583 columns]"
      ]
     },
     "execution_count": 85,
     "metadata": {},
     "output_type": "execute_result"
    }
   ],
   "source": []
  },
  {
   "cell_type": "code",
   "execution_count": 90,
   "metadata": {},
   "outputs": [
    {
     "data": {
      "text/plain": [
       "0      1970-01-01 00:00:01.709251200\n",
       "1      1970-01-01 00:00:01.709251200\n",
       "2      1970-01-01 00:00:01.709251200\n",
       "3      1970-01-01 00:00:01.709251200\n",
       "4      1970-01-01 00:00:01.709251200\n",
       "                   ...              \n",
       "676    1970-01-01 00:00:01.713312000\n",
       "677    1970-01-01 00:00:01.713312000\n",
       "678    1970-01-01 00:00:01.713312000\n",
       "679    1970-01-01 00:00:01.713312000\n",
       "680    1970-01-01 00:00:01.713312000\n",
       "Name: date, Length: 681, dtype: object"
      ]
     },
     "execution_count": 90,
     "metadata": {},
     "output_type": "execute_result"
    }
   ],
   "source": [
    "X_train['date']"
   ]
  },
  {
   "cell_type": "code",
   "execution_count": 86,
   "metadata": {
    "hidden": true
   },
   "outputs": [],
   "source": [
    "xgb_params = {'colsample_bytree': 1.0,\n",
    " 'gamma': 1e-08,\n",
    " 'learning_rate': 0.1,\n",
    " 'max_depth': 10,\n",
    " 'min_child_weight': 10.0,\n",
    " 'reg_alpha': 25.2379554214079,\n",
    " 'subsample': 0.10694933059531121}"
   ]
  },
  {
   "cell_type": "code",
   "execution_count": 93,
   "metadata": {
    "hidden": true
   },
   "outputs": [],
   "source": [
    "def xgb_objective(new_params, data):\n",
    "    X_train,y_train,X_valid,y_valid, params = data\n",
    "    \n",
    "    if 'max_depth' in new_params.keys():\n",
    "        new_params['max_depth']=int(new_params['max_depth'])\n",
    "    if 'reg_alpha' in new_params.keys():\n",
    "        new_params['reg_alpha']=np.exp(new_params['reg_alpha'])\n",
    "    \n",
    "    for x in new_params.keys():\n",
    "        params[x] = new_params[x]\n",
    "    \n",
    "    np.random.seed(13)\n",
    "    gbm = xgb.XGBClassifier(**params, num_boost_round=100, random_state=13, n_jobs=-1)\n",
    "    model = gbm.fit(X_train, y_train,\n",
    "                    verbose=False,\n",
    "                    eval_set = [[X_train, y_train],\n",
    "                              [X_valid, y_valid]],\n",
    "                    early_stopping_rounds=15)\n",
    "    xgb_test_preds = model.predict(X_valid)\n",
    "    proba = model.predict_proba(X_valid)[:,1]\n",
    "    \n",
    "    #penalize low discrimination\n",
    "    score = -roc_auc_score(y_valid, xgb_test_preds)\n",
    "    if max(proba)<.7 and min(proba)>.3: score += 0.05\n",
    "    \n",
    "    return(score)"
   ]
  },
  {
   "cell_type": "code",
   "execution_count": 94,
   "metadata": {
    "hidden": true
   },
   "outputs": [],
   "source": [
    "def get_xgbparams(space, full_params, evals=15):\n",
    "    fmin_objective = partial(xgb_objective, data=(X_train,y_train,X_valid,y_valid,full_params))\n",
    "    \n",
    "    params = fmin(fmin_objective,\n",
    "        space=space,\n",
    "        algo=tpe.suggest,\n",
    "        max_evals=evals)\n",
    "    \n",
    "    #update full_params\n",
    "    for x in full_params.keys():\n",
    "        if x in params.keys():\n",
    "            full_params[x]=params[x]\n",
    "    full_params['max_depth']=int(full_params['max_depth'])\n",
    "    if 'reg_alpha' in params.keys():\n",
    "        full_params['reg_alpha']=np.exp(params['reg_alpha'])\n",
    "    \n",
    "    return full_params"
   ]
  },
  {
   "cell_type": "code",
   "execution_count": 95,
   "metadata": {
    "hidden": true
   },
   "outputs": [
    {
     "name": "stdout",
     "output_type": "stream",
     "text": [
      "100%|██████████| 10/10 [00:36<00:00,  3.64s/trial, best loss: -0.513028973176302] \n"
     ]
    }
   ],
   "source": [
    "space = {\n",
    "    'max_depth':  hp.quniform('max_depth', 10, 20, 1),\n",
    "    'min_child_weight': hp.quniform('min_child_weight', 2, 10, 1),\n",
    "    'learning_rate': hp.quniform('learning_rate', .01, .08, .01),\n",
    "    'subsample': hp.quniform('subsample', 0.1, 1, 0.1),\n",
    "    'colsample_bytree': hp.quniform('colsample_bytree', 0.1, 1, 0.1),\n",
    "    'reg_alpha': hp.quniform('reg_alpha', -2, 4,0.5),\n",
    "}\n",
    "xgb_params = get_xgbparams(space,xgb_params,10)"
   ]
  },
  {
   "cell_type": "code",
   "execution_count": 26,
   "metadata": {
    "hidden": true
   },
   "outputs": [
    {
     "data": {
      "text/plain": [
       "{'colsample_bytree': 0.2,\n",
       " 'learning_rate': 0.07,\n",
       " 'max_depth': 16,\n",
       " 'min_child_weight': 9.0,\n",
       " 'reg_alpha': 12.182493960703473,\n",
       " 'subsample': 0.4}"
      ]
     },
     "execution_count": 26,
     "metadata": {},
     "output_type": "execute_result"
    }
   ],
   "source": [
    "xgb_params"
   ]
  },
  {
   "cell_type": "markdown",
   "metadata": {},
   "source": [
    "## Test"
   ]
  },
  {
   "cell_type": "code",
   "execution_count": 96,
   "metadata": {},
   "outputs": [
    {
     "data": {
      "text/plain": [
       "{'colsample_bytree': 0.5,\n",
       " 'gamma': 1e-08,\n",
       " 'learning_rate': 0.04,\n",
       " 'max_depth': 15,\n",
       " 'min_child_weight': 6.0,\n",
       " 'reg_alpha': 0.22313016014842982,\n",
       " 'subsample': 0.2}"
      ]
     },
     "execution_count": 96,
     "metadata": {},
     "output_type": "execute_result"
    }
   ],
   "source": [
    "xgb_params"
   ]
  },
  {
   "cell_type": "code",
   "execution_count": 97,
   "metadata": {},
   "outputs": [
    {
     "name": "stdout",
     "output_type": "stream",
     "text": [
      "[0]\tvalidation_0-logloss:0.69123\tvalidation_1-logloss:0.69819\n",
      "[1]\tvalidation_0-logloss:0.68914\tvalidation_1-logloss:0.69775\n",
      "[2]\tvalidation_0-logloss:0.68761\tvalidation_1-logloss:0.69892\n",
      "[3]\tvalidation_0-logloss:0.68593\tvalidation_1-logloss:0.69894\n",
      "[4]\tvalidation_0-logloss:0.68460\tvalidation_1-logloss:0.69875\n",
      "[5]\tvalidation_0-logloss:0.68404\tvalidation_1-logloss:0.69775\n",
      "[6]\tvalidation_0-logloss:0.68376\tvalidation_1-logloss:0.69738\n",
      "[7]\tvalidation_0-logloss:0.68224\tvalidation_1-logloss:0.69800\n",
      "[8]\tvalidation_0-logloss:0.68077\tvalidation_1-logloss:0.69763\n",
      "[9]\tvalidation_0-logloss:0.67941\tvalidation_1-logloss:0.69834\n",
      "[10]\tvalidation_0-logloss:0.67806\tvalidation_1-logloss:0.69835\n",
      "[11]\tvalidation_0-logloss:0.67618\tvalidation_1-logloss:0.69679\n",
      "[12]\tvalidation_0-logloss:0.67474\tvalidation_1-logloss:0.69676\n",
      "[13]\tvalidation_0-logloss:0.67361\tvalidation_1-logloss:0.69573\n",
      "[14]\tvalidation_0-logloss:0.67311\tvalidation_1-logloss:0.69626\n",
      "[15]\tvalidation_0-logloss:0.67279\tvalidation_1-logloss:0.69574\n",
      "[16]\tvalidation_0-logloss:0.67108\tvalidation_1-logloss:0.69467\n",
      "[17]\tvalidation_0-logloss:0.67027\tvalidation_1-logloss:0.69443\n",
      "[18]\tvalidation_0-logloss:0.66932\tvalidation_1-logloss:0.69503\n",
      "[19]\tvalidation_0-logloss:0.66773\tvalidation_1-logloss:0.69471\n",
      "[20]\tvalidation_0-logloss:0.66731\tvalidation_1-logloss:0.69626\n",
      "[21]\tvalidation_0-logloss:0.66659\tvalidation_1-logloss:0.69633\n",
      "[22]\tvalidation_0-logloss:0.66591\tvalidation_1-logloss:0.69368\n",
      "[23]\tvalidation_0-logloss:0.66448\tvalidation_1-logloss:0.69277\n",
      "[24]\tvalidation_0-logloss:0.66330\tvalidation_1-logloss:0.69185\n",
      "[25]\tvalidation_0-logloss:0.66229\tvalidation_1-logloss:0.69298\n",
      "[26]\tvalidation_0-logloss:0.66079\tvalidation_1-logloss:0.69340\n",
      "[27]\tvalidation_0-logloss:0.65963\tvalidation_1-logloss:0.68956\n",
      "[28]\tvalidation_0-logloss:0.65829\tvalidation_1-logloss:0.69103\n",
      "[29]\tvalidation_0-logloss:0.65724\tvalidation_1-logloss:0.69166\n",
      "[30]\tvalidation_0-logloss:0.65586\tvalidation_1-logloss:0.69289\n",
      "[31]\tvalidation_0-logloss:0.65457\tvalidation_1-logloss:0.69368\n",
      "[32]\tvalidation_0-logloss:0.65409\tvalidation_1-logloss:0.69363\n",
      "[33]\tvalidation_0-logloss:0.65338\tvalidation_1-logloss:0.69073\n",
      "[34]\tvalidation_0-logloss:0.65208\tvalidation_1-logloss:0.69205\n",
      "[35]\tvalidation_0-logloss:0.65148\tvalidation_1-logloss:0.69120\n",
      "[36]\tvalidation_0-logloss:0.65072\tvalidation_1-logloss:0.69123\n",
      "[37]\tvalidation_0-logloss:0.65029\tvalidation_1-logloss:0.69136\n",
      "[38]\tvalidation_0-logloss:0.64938\tvalidation_1-logloss:0.69087\n",
      "[39]\tvalidation_0-logloss:0.64789\tvalidation_1-logloss:0.69054\n",
      "[40]\tvalidation_0-logloss:0.64694\tvalidation_1-logloss:0.68998\n",
      "[41]\tvalidation_0-logloss:0.64661\tvalidation_1-logloss:0.69062\n",
      "[42]\tvalidation_0-logloss:0.64579\tvalidation_1-logloss:0.69082\n"
     ]
    },
    {
     "data": {
      "text/plain": [
       "(0.5466666666666666, 0.5630289731763021)"
      ]
     },
     "execution_count": 97,
     "metadata": {},
     "output_type": "execute_result"
    }
   ],
   "source": [
    "gbm = xgb.XGBClassifier(**xgb_params, num_boost_round=100, random_state=13, n_jobs=-1)\n",
    "model = gbm.fit(X_train, y_train,\n",
    "                verbose=True,\n",
    "                eval_set = [[X_train, y_train],\n",
    "                          [X_valid, y_valid]],\n",
    "                early_stopping_rounds=15)\n",
    "xgb_test_preds = model.predict(X_valid)\n",
    "xgb_test_proba = model.predict_proba(X_valid)[:,1]\n",
    "accuracy_score(y_valid, xgb_test_preds), roc_auc_score(y_valid, xgb_test_preds)"
   ]
  },
  {
   "cell_type": "code",
   "execution_count": 99,
   "metadata": {},
   "outputs": [
    {
     "name": "stdout",
     "output_type": "stream",
     "text": [
      "new model ROC: 0.563\n"
     ]
    }
   ],
   "source": [
    "print(f\"new model ROC: {roc_auc_score(y_valid, xgb_test_preds):.3f}\")"
   ]
  },
  {
   "cell_type": "code",
   "execution_count": 116,
   "metadata": {},
   "outputs": [],
   "source": [
    "model.save_model('team_wins_model.json')"
   ]
  },
  {
   "cell_type": "markdown",
   "metadata": {},
   "source": []
  },
  {
   "cell_type": "code",
   "execution_count": 126,
   "metadata": {},
   "outputs": [
    {
     "name": "stdout",
     "output_type": "stream",
     "text": [
      "100%|██████████| 10/10 [00:14<00:00,  1.41s/trial, best loss: 4.592795243518122]\n",
      "[0]\tvalidation_0-rmse:4.84040\tvalidation_1-rmse:4.65150\n",
      "[1]\tvalidation_0-rmse:4.74737\tvalidation_1-rmse:4.62841\n",
      "[2]\tvalidation_0-rmse:4.66095\tvalidation_1-rmse:4.63823\n",
      "[3]\tvalidation_0-rmse:4.57918\tvalidation_1-rmse:4.63548\n",
      "[4]\tvalidation_0-rmse:4.49244\tvalidation_1-rmse:4.62379\n",
      "[5]\tvalidation_0-rmse:4.40445\tvalidation_1-rmse:4.62573\n",
      "[6]\tvalidation_0-rmse:4.32393\tvalidation_1-rmse:4.64020\n",
      "[7]\tvalidation_0-rmse:4.25214\tvalidation_1-rmse:4.63239\n",
      "[8]\tvalidation_0-rmse:4.17315\tvalidation_1-rmse:4.61160\n",
      "[9]\tvalidation_0-rmse:4.10594\tvalidation_1-rmse:4.61785\n",
      "[10]\tvalidation_0-rmse:4.03366\tvalidation_1-rmse:4.61697\n",
      "[11]\tvalidation_0-rmse:3.96812\tvalidation_1-rmse:4.61285\n",
      "[12]\tvalidation_0-rmse:3.90561\tvalidation_1-rmse:4.60417\n",
      "[13]\tvalidation_0-rmse:3.83210\tvalidation_1-rmse:4.61899\n",
      "[14]\tvalidation_0-rmse:3.76764\tvalidation_1-rmse:4.63724\n",
      "[15]\tvalidation_0-rmse:3.70413\tvalidation_1-rmse:4.65293\n",
      "[16]\tvalidation_0-rmse:3.64434\tvalidation_1-rmse:4.64703\n",
      "[17]\tvalidation_0-rmse:3.57603\tvalidation_1-rmse:4.66201\n",
      "[18]\tvalidation_0-rmse:3.51868\tvalidation_1-rmse:4.65621\n",
      "[19]\tvalidation_0-rmse:3.46102\tvalidation_1-rmse:4.66009\n",
      "[20]\tvalidation_0-rmse:3.40545\tvalidation_1-rmse:4.65892\n",
      "[21]\tvalidation_0-rmse:3.34506\tvalidation_1-rmse:4.66144\n",
      "[22]\tvalidation_0-rmse:3.29024\tvalidation_1-rmse:4.66390\n",
      "[23]\tvalidation_0-rmse:3.23754\tvalidation_1-rmse:4.66772\n",
      "[24]\tvalidation_0-rmse:3.18781\tvalidation_1-rmse:4.66533\n",
      "[25]\tvalidation_0-rmse:3.14068\tvalidation_1-rmse:4.66238\n",
      "[26]\tvalidation_0-rmse:3.09146\tvalidation_1-rmse:4.66010\n",
      "[27]\tvalidation_0-rmse:3.04866\tvalidation_1-rmse:4.66458\n",
      "RMSE: 4.604\n",
      "MAE: 3.714\n"
     ]
    }
   ],
   "source": [
    "from sklearn.metrics import mean_squared_error, mean_absolute_error\n",
    "from hyperopt import fmin, tpe, hp, STATUS_OK\n",
    "df = pd.read_csv('../data/df_w_features_score.csv', low_memory=False)\n",
    "df.shape\n",
    "X = df.drop(columns=['total_runs', 'game_id', 'home_team_abbr_x', 'away_team_abbr', 'home_pitcher', 'away_pitcher', 'home_team_abbr_y', 'home_team_season', 'away_team_season'])\n",
    "y = df.total_runs\n",
    "mask = pd.to_datetime(X['date'],unit='ns')>=pd.to_datetime('20-08-2019') #last time model was run\n",
    "new_len = mask.sum() + 300 #add 300 more records to include old validation data, but none of the training data\n",
    "X.drop('date', axis=1, inplace=True)\n",
    "X_train = X[:-new_len]\n",
    "y_train = y[:-new_len]\n",
    "X_valid = X[-new_len:]\n",
    "y_valid = y[-new_len:]\n",
    "\n",
    "\n",
    "xgb_params = {'colsample_bytree': 1.0,\n",
    " 'gamma': 1e-08,\n",
    " 'learning_rate': 0.1,\n",
    " 'max_depth': 10,\n",
    " 'min_child_weight': 10.0,\n",
    " 'reg_alpha': 25.2379554214079,\n",
    " 'subsample': 0.10694933059531121}\n",
    "\n",
    "\n",
    "def xgb_objective(new_params, data):\n",
    "    X_train,y_train,X_valid,y_valid, params = data\n",
    "    \n",
    "    if 'max_depth' in new_params.keys():\n",
    "        new_params['max_depth']=int(new_params['max_depth'])\n",
    "    if 'reg_alpha' in new_params.keys():\n",
    "        new_params['reg_alpha']=np.exp(new_params['reg_alpha'])\n",
    "    \n",
    "    for x in new_params.keys():\n",
    "        params[x] = new_params[x]\n",
    "    \n",
    "    np.random.seed(13)\n",
    "    gbm = xgb.XGBRegressor(**params, num_boost_round=100, random_state=13, n_jobs=-1)\n",
    "    model = gbm.fit(X_train, y_train,\n",
    "                    verbose=False,\n",
    "                    eval_set = [[X_train, y_train],\n",
    "                              [X_valid, y_valid]],\n",
    "                    early_stopping_rounds=15)\n",
    "    xgb_test_preds = model.predict(X_valid)\n",
    "    rmse = np.sqrt(mean_squared_error(y_valid, xgb_test_preds))\n",
    "    return {'loss': rmse, 'status': STATUS_OK}\n",
    "def get_xgbparams(space, full_params, evals=15):\n",
    "    fmin_objective = partial(xgb_objective, data=(X_train, y_train, X_valid, y_valid, full_params))\n",
    "    \n",
    "    best = fmin(fmin_objective,\n",
    "                space=space,\n",
    "                algo=tpe.suggest,\n",
    "                max_evals=evals)\n",
    "    \n",
    "    # Update the full_params with the best parameters found\n",
    "    for key, value in best.items():\n",
    "        if key in ['max_depth', 'min_child_weight']:\n",
    "            full_params[key] = int(value)\n",
    "        else:\n",
    "            full_params[key] = value\n",
    "    \n",
    "    return full_params\n",
    "\n",
    "\n",
    "space = {\n",
    "    'max_depth': hp.quniform('max_depth', 10, 20, 1),\n",
    "    'min_child_weight': hp.quniform('min_child_weight', 2, 10, 1),\n",
    "    'learning_rate': hp.quniform('learning_rate', .01, .08, .01),\n",
    "    'subsample': hp.quniform('subsample', 0.1, 1, 0.1),\n",
    "    'colsample_bytree': hp.quniform('colsample_bytree', 0.1, 1, 0.1),\n",
    "    'reg_alpha': hp.quniform('reg_alpha', 0, 4, 0.5),  # Adjusted range to [0, 4]\n",
    "}\n",
    "xgb_params = get_xgbparams(space,xgb_params,10)\n",
    "\n",
    "\n",
    "gbm = xgb.XGBRegressor(**xgb_params, num_boost_round=100, random_state=13, n_jobs=-1)\n",
    "model = gbm.fit(X_train, y_train,\n",
    "                verbose=True,\n",
    "                eval_set = [[X_train, y_train],\n",
    "                          [X_valid, y_valid]],\n",
    "                early_stopping_rounds=15)\n",
    "xgb_test_preds = model.predict(X_valid)\n",
    "rmse = np.sqrt(mean_squared_error(y_valid, xgb_test_preds))\n",
    "mae = mean_absolute_error(y_valid, xgb_test_preds)\n",
    "\n",
    "print(f\"RMSE: {rmse:.3f}\")\n",
    "print(f\"MAE: {mae:.3f}\")\n",
    "\n",
    "\n",
    "model.save_model('total_score_model.json')"
   ]
  },
  {
   "cell_type": "markdown",
   "metadata": {},
   "source": [
    "## EDA"
   ]
  },
  {
   "cell_type": "code",
   "execution_count": 22,
   "metadata": {},
   "outputs": [
    {
     "data": {
      "image/png": "[encoded data removed]",
      "text/plain": [
       "<Figure size 1080x432 with 3 Axes>"
      ]
     },
     "metadata": {
      "needs_background": "light"
     },
     "output_type": "display_data"
    }
   ],
   "source": [
    "fig, ax = plt.subplots(1,2,figsize=(15,6))\n",
    "\n",
    "x = pd.Series(model.get_booster().get_score(importance_type= 'total_gain')\n",
    "         ).sort_values()\n",
    "x[-30:].plot(kind='barh',ax=ax[1], title=\"XGBoost Feature Gain\")\n",
    "\n",
    "util.plot_confusion_matrix(y_valid, xgb_test_preds, [0,1], \n",
    "                           ax=ax[0], title = f\"XGB Confusion Matrix - {accuracy_score(y_valid, xgb_test_preds)*100:.1f}% Accurate\")\n",
    "\n",
    "fig.tight_layout()"
   ]
  },
  {
   "cell_type": "code",
   "execution_count": 28,
   "metadata": {},
   "outputs": [
    {
     "data": {
      "image/png": "[encoded data removed]",
      "text/plain": [
       "<Figure size 576x432 with 1 Axes>"
      ]
     },
     "metadata": {
      "needs_background": "light"
     },
     "output_type": "display_data"
    }
   ],
   "source": [
    "df = pd.DataFrame()\n",
    "df['proba'] = xgb_test_proba\n",
    "df['home_win'] = list(y_valid)\n",
    "df['confidence'] = np.abs(df.proba-.5)+.5\n",
    "df['bet_win'] = df['home_win']\n",
    "df['bet_win'][df['proba']<.5] = -df['home_win']\n",
    "\n",
    "bins=[x/40 for x in range(18,33)]\n",
    "df['probability_bin'] = pd.cut(df['confidence'], bins)\n",
    "\n",
    "plt.figure(figsize=(8,6))\n",
    "ax = sns.barplot(x=df['probability_bin'], y=df.bet_win,palette=\"Blues_d\")\n",
    "ax.set_title(\"Actual Win % vs Model Probability\")\n",
    "plt.ylabel(\"Actual Percent Won\")\n",
    "plt.xlabel(\"Prediction Probability\")\n",
    "ax.grid()\n",
    "ax.set_xticklabels(ax.get_xticklabels(), rotation=90)\n",
    "plt.show()\n",
    "\n",
    "# df.groupby('probability_bin')['bet_win'].agg(['mean','count'])"
   ]
  },
  {
   "cell_type": "code",
   "execution_count": 30,
   "metadata": {},
   "outputs": [
    {
     "name": "stdout",
     "output_type": "stream",
     "text": [
      "win % for bets with greater than x confidence:\n",
      " conf: 0.50, win %:65.7%, % of total 100.0%\n",
      " conf: 0.55, win %:67.9%, % of total 64.1%\n",
      " conf: 0.60, win %:69.9%, % of total 35.9%\n",
      " conf: 0.65, win %:75.0%, % of total 17.3%\n",
      " conf: 0.70, win %:84.6%, % of total 3.5%\n",
      " conf: 0.75, win %:100.0%, % of total 0.3%\n",
      " conf: 0.80, win %:nan%, % of total 0.0%\n",
      " conf: 0.85, win %:nan%, % of total 0.0%\n"
     ]
    }
   ],
   "source": [
    "print(\"win % for bets with greater than x confidence:\")\n",
    "for x in range(10,18):\n",
    "    d = df.bet_win[df.confidence>=x/20]\n",
    "    print(f\" conf: {x/20:.2f}, win %:{d.mean()*100:.1f}%, % of total {d.count()*100/len(df):.1f}%\")"
   ]
  },
  {
   "cell_type": "code",
   "execution_count": null,
   "metadata": {},
   "outputs": [],
   "source": [
    "df = pd.read_csv('../data/df_w_features_score.csv', low_memory=False)\n",
    "df.shape\n",
    "X = df.drop(columns=['total_runs', 'game_id'])\n",
    "y = df.total_runs\n",
    "mask = pd.to_datetime(X['date'],unit='s')>=pd.to_datetime('20-08-2019') #last time model was run\n",
    "new_len = mask.sum() + 300 #add 300 more records to include old validation data, but none of the training data\n",
    "\n",
    "X_train = X[:-new_len]\n",
    "y_train = y[:-new_len]\n",
    "X_valid = X[-new_len:]\n",
    "y_valid = y[-new_len:]\n",
    "\n",
    "X_train = encoder.fit_transform(X_train, y_train)\n",
    "X_valid = encoder.transform(X_valid)"
   ]
  },
  {
   "cell_type": "markdown",
   "metadata": {},
   "source": [
    "# Other Models"
   ]
  },
  {
   "cell_type": "markdown",
   "metadata": {},
   "source": [
    "## LightGBM"
   ]
  },
  {
   "cell_type": "code",
   "execution_count": null,
   "metadata": {},
   "outputs": [],
   "source": [
    "import lightgbm as lgbm"
   ]
  },
  {
   "cell_type": "code",
   "execution_count": null,
   "metadata": {},
   "outputs": [],
   "source": [
    "lgbm_params = {'colsample_by_tree': 0.7,\n",
    " 'learning_rate': 0.65,\n",
    " 'max_depth': 8,\n",
    " 'min_data_in_leaf': 500,\n",
    " 'num_leaves': 204,\n",
    " 'subsample': 0.6,\n",
    " 'boosting_type': 'gbdt'}"
   ]
  },
  {
   "cell_type": "code",
   "execution_count": null,
   "metadata": {},
   "outputs": [],
   "source": [
    "gbm = lgbm.LGBMClassifier(**lgbm_params,num_boost_round=100, random_state=-1)\n",
    "model = gbm.fit(X_train, y_train,\n",
    "                verbose=False,\n",
    "                eval_set = [[X_train, y_train],\n",
    "                          [X_valid, y_valid]],\n",
    "                early_stopping_rounds=15)\n",
    "lgbm_test_preds = model.predict(X_valid)\n",
    "lgbm_test_proba = model.predict_proba(X_valid)[:,1]\n",
    "accuracy_score(y_valid, lgbm_test_preds), roc_auc_score(y_valid, lgbm_test_preds)"
   ]
  },
  {
   "cell_type": "code",
   "execution_count": null,
   "metadata": {},
   "outputs": [],
   "source": [
    "def lgbm_objective(new_params, data):\n",
    "    X_train,y_train,X_valid,y_valid, params = data\n",
    "    \n",
    "    if 'max_depth' in new_params.keys():\n",
    "        new_params['max_depth']=int(new_params['max_depth'])\n",
    "        params['num_leaves']=int(2**params['max_depth']*params['num_leaves'])\n",
    "    if 'min_data_in_leaf' in new_params.keys():\n",
    "        params['min_data_in_leaf']=int(params['min_data_in_leaf'])\n",
    "    \n",
    "    for x in new_params.keys():\n",
    "        params[x] = new_params[x]\n",
    "    \n",
    "    np.random.seed(13)\n",
    "    gbm = lgbm.LGBMClassifier(**params, num_boost_round=100, random_state=13)\n",
    "    lgbm_model = gbm.fit(X_train, y_train,\n",
    "                    verbose=False,\n",
    "                    eval_set = [[X_train, y_train],\n",
    "                              [X_valid, y_valid]],\n",
    "                    early_stopping_rounds=15)\n",
    "    lgbm_test_preds = lgbm_model.predict(X_valid)\n",
    "    \n",
    "    proba = lgbm_model.predict_proba(X_valid)[:,1]\n",
    "    \n",
    "    #penalize low discrimination\n",
    "    score = -roc_auc_score(y_valid, lgbm_test_preds)\n",
    "    if max(proba)<.7 and min(proba)>.3: score += 0.05\n",
    "    \n",
    "    return score \n",
    "def get_lgbmparams(space, full_params, evals=15):\n",
    "    fmin_objective = partial(xgb_objective, data=(X_train,y_train,X_valid,y_valid,full_params))\n",
    "    \n",
    "    params = fmin(fmin_objective,\n",
    "        space=space,\n",
    "        algo=tpe.suggest,\n",
    "        max_evals=evals)\n",
    "    \n",
    "    #update full_params\n",
    "    for x in full_params.keys():\n",
    "        if x in params.keys():\n",
    "            full_params[x]=params[x]\n",
    "    full_params['max_depth']=int(full_params['max_depth'])\n",
    "    full_params['min_data_in_leaf']=int(full_params['min_data_in_leaf'])\n",
    "    full_params['num_leaves']=int(2**full_params['max_depth']*full_params['num_leaves'])\n",
    "\n",
    "    return full_params"
   ]
  },
  {
   "cell_type": "code",
   "execution_count": null,
   "metadata": {},
   "outputs": [],
   "source": [
    "space = {\n",
    "    'learning_rate': hp.quniform('learning_rate', .05, .8, .05),\n",
    "    'max_depth': hp.quniform('max_depth', 2, 10, 1),\n",
    "    'num_leaves': hp.quniform('num_leaves', 0.5, 1.0,.1),\n",
    "#     'subsample': hp.quniform('subsample', 0.05, 1, .05),\n",
    "#     'colsample_bytree': hp.quniform('colsample_by_tree', 0.05, 1.0,.05),\n",
    "#     'min_data_in_leaf':hp.qloguniform('min_data_in_leaf', 5, 10, 100),\n",
    "}\n",
    "lgbm_params = get_lgbmparams(space,lgbm_params,25)"
   ]
  },
  {
   "cell_type": "code",
   "execution_count": null,
   "metadata": {},
   "outputs": [],
   "source": [
    "space = {\n",
    "#     'learning_rate': hp.quniform('learning_rate', .05, .8, .05),\n",
    "#     'max_depth': hp.quniform('max_depth', 2, 10, 1),\n",
    "#     'num_leaves': hp.quniform('num_leaves', 0.5, 1.0,.1),\n",
    "    'subsample': hp.quniform('subsample', 0.1, 1, .1),\n",
    "    'colsample_bytree': hp.quniform('colsample_by_tree', 0.1, 1.0,.1),\n",
    "    'min_data_in_leaf':hp.qloguniform('min_data_in_leaf', 5, 10, 100),\n",
    "}\n",
    "lgbm_params = get_lgbmparams(space,lgbm_params,25)"
   ]
  },
  {
   "cell_type": "code",
   "execution_count": null,
   "metadata": {},
   "outputs": [],
   "source": [
    "lgbm_params"
   ]
  },
  {
   "cell_type": "code",
   "execution_count": null,
   "metadata": {},
   "outputs": [],
   "source": [
    "np.random.seed(13)\n",
    "gbm = lgbm.LGBMClassifier(**lgbm_params, num_boost_round=100, random_state=13)\n",
    "lgbm_model = gbm.fit(X_train, y_train,\n",
    "                verbose=True,\n",
    "                eval_set = [[X_train, y_train],\n",
    "                          [X_valid, y_valid]],\n",
    "                early_stopping_rounds=15)\n",
    "lgbm_test_preds = lgbm_model.predict(X_valid)\n",
    "lgbm_test_proba = lgbm_model.predict_proba(X_valid)[:,1]\n",
    "accuracy_score(y_valid, lgbm_test_preds), roc_auc_score(y_valid, lgbm_test_preds)"
   ]
  },
  {
   "cell_type": "code",
   "execution_count": null,
   "metadata": {},
   "outputs": [],
   "source": [
    "print(f\"new model ROC: {roc_auc_score(y_valid, lgbm_test_preds):.3f}\\nold model ROC: {bench_roc:.3f}\\n\")"
   ]
  },
  {
   "cell_type": "code",
   "execution_count": null,
   "metadata": {},
   "outputs": [],
   "source": [
    "fig, ax = plt.subplots(1,2,figsize=(15,6))\n",
    "\n",
    "lgbm_model.importance_type='gain'\n",
    "l = pd.DataFrame(zip(X_train.columns,lgbm_model.feature_importances_), \n",
    "                 columns=['feature','value']).set_index('feature').sort_values(by='value')\n",
    "l[-30:].plot(kind='barh',ax=ax[1],title=\"LightGBM Feature Gain\")\n",
    "\n",
    "util.plot_confusion_matrix(y_valid, lgbm_test_preds, [0,1], ax=ax[0],\n",
    "                           title = f\"LGBM Confusion Matrix - {accuracy_score(y_valid, lgbm_test_preds)*100:.1f}% Accurate\")\n",
    "\n",
    "fig.tight_layout()"
   ]
  },
  {
   "cell_type": "code",
   "execution_count": null,
   "metadata": {},
   "outputs": [],
   "source": [
    "df = pd.DataFrame()\n",
    "df['proba'] = lgbm_test_proba\n",
    "df['home_win'] = list(y_valid)\n",
    "df['confidence'] = np.abs(df.proba-.5)+.5\n",
    "df['bet_win'] = df['home_win']\n",
    "df['bet_win'][df['proba']<.5] = -df['home_win']\n",
    "\n",
    "bins=[x/40 for x in range(19,30)]\n",
    "df['probability_bin'] = pd.cut(df['confidence'], bins)\n",
    "\n",
    "plt.figure(figsize=(8,6))\n",
    "ax = sns.barplot(x=df['probability_bin'], y=df.bet_win,palette=\"Blues_d\")\n",
    "ax.set_title(\"Actual Win % vs Model Probability\")\n",
    "plt.ylabel(\"Actual Percent Won\")\n",
    "plt.xlabel(\"Prediction Probability\")\n",
    "ax.grid()\n",
    "ax.set_xticklabels(ax.get_xticklabels(), rotation=90)\n",
    "plt.show()\n",
    "\n",
    "# df.groupby('probability_bin')['bet_win'].agg(['mean','count'])"
   ]
  },
  {
   "cell_type": "code",
   "execution_count": null,
   "metadata": {},
   "outputs": [],
   "source": [
    "print(\"win % for bets with greater than x confidence:\")\n",
    "for x in range(10,19):\n",
    "    d = df.bet_win[df.confidence>x/20]\n",
    "    print(f\" conf: {x/20:.2f}, win %:{d.mean()*100:.1f}%, % of total {d.count()/6:.1f}%\")"
   ]
  },
  {
   "cell_type": "markdown",
   "metadata": {},
   "source": [
    "## Fastai"
   ]
  },
  {
   "cell_type": "code",
   "execution_count": null,
   "metadata": {},
   "outputs": [],
   "source": [
    "from fastai import *\n",
    "from fastai.tabular import *"
   ]
  },
  {
   "cell_type": "code",
   "execution_count": null,
   "metadata": {},
   "outputs": [],
   "source": [
    "CAT_NAMES = [x for x in df.columns if df[x].dtype=='object']\n",
    "CONT_NAMES = [x for x in df.columns if df[x].dtype not in ['object','bool']]"
   ]
  },
  {
   "cell_type": "code",
   "execution_count": null,
   "metadata": {},
   "outputs": [],
   "source": [
    "data = (TabularList.from_df(df, path='.',                         \n",
    "                        cat_names=CAT_NAMES,                        \n",
    "                        cont_names=CONT_NAMES,                      \n",
    "                        procs=[FillMissing, Categorify, Normalize]) \n",
    "        .split_by_idx(list(range(300)))                                        \n",
    "        .label_from_df(cols='home_team_win')                                    \n",
    "        .databunch())"
   ]
  },
  {
   "cell_type": "code",
   "execution_count": null,
   "metadata": {},
   "outputs": [],
   "source": [
    "learn = tabular_learner(data, layers=[1000, 500], metrics=accuracy,          \n",
    "                        ps=[.03, .3], wd=1e-1, emb_drop=.6)               "
   ]
  },
  {
   "cell_type": "code",
   "execution_count": null,
   "metadata": {},
   "outputs": [],
   "source": [
    "learn.lr_find()\n",
    "learn.recorder.plot(suggestion=True)\n",
    "lr = learn.recorder.min_grad_lr"
   ]
  },
  {
   "cell_type": "code",
   "execution_count": null,
   "metadata": {
    "scrolled": true
   },
   "outputs": [],
   "source": [
    "learn.fit_one_cycle(2, max_lr=1e-6) "
   ]
  },
  {
   "cell_type": "code",
   "execution_count": null,
   "metadata": {},
   "outputs": [],
   "source": [
    "preds, y = learn.get_preds(ds_type=DatasetType.Valid, with_loss=False)\n",
    "preds = np.array(preds)[:,1]\n",
    "accuracy_score(y, preds>0.5), roc_auc_score(y, preds>0.5)"
   ]
  },
  {
   "cell_type": "code",
   "execution_count": null,
   "metadata": {},
   "outputs": [],
   "source": [
    "from hyperopt import fmin, tpe, hp, Trials\n",
    "import fastai\n",
    "from fastprogress import force_console_behavior\n",
    "import fastprogress\n",
    "\n",
    "space = {'p2': hp.quniform('p2',0,.8,.1),\n",
    "    'emb_drop': hp.quniform('emb_drop',0,.8,.1),\n",
    "    'l1': hp.quniform('l1',500,1500,100),\n",
    "         }\n",
    "\n",
    "# suppress widgets\n",
    "fastprogress.fastprogress.NO_BAR = True\n",
    "master_bar, progress_bar = force_console_behavior()\n",
    "fastai.basic_train.master_bar, fastai.basic_train.progress_bar = master_bar, progress_bar\n",
    "fastprogress.fastprogress.WRITER_FN = str\n",
    "\n",
    "def objective(x):\n",
    "    #get params from hyperopt\n",
    "    p2 = x['p2']\n",
    "    p1 = p2/10\n",
    "    emb_drop = x['emb_drop']\n",
    "    l1=int(x['l1'])\n",
    "    l2 = int(l1/2)\n",
    "    # lr = x['lr']\n",
    "    \n",
    "    # freeze seeds\n",
    "    import random\n",
    "    import torch\n",
    "    seed = 13\n",
    "    random.seed(seed)    #python\n",
    "    np.random.seed(seed) #numpy\n",
    "    torch.manual_seed(seed)\n",
    "    torch.backends.cudnn.deterministic = True\n",
    "\n",
    "    # get to work\n",
    "    learn = tabular_learner(data, layers=[l1,l2],ps=[p1,p2], wd=1e-1, emb_drop=emb_drop)\n",
    "    learn.fit_one_cycle(2, max_lr=1e-2)\n",
    "    preds, y = learn.get_preds(ds_type=DatasetType.Valid, with_loss=False)\n",
    "    preds = np.array(preds)\n",
    "    score = -roc_auc_score(y, preds[:,1]>0.5)\n",
    "    \n",
    "    return {'loss': score, 'status':'ok'}\n",
    "\n",
    "trials = Trials()\n",
    "\n",
    "best = fmin(objective,\n",
    "    space=space,\n",
    "    algo=tpe.suggest,\n",
    "    max_evals=50,\n",
    "    trials=trials)\n",
    "best"
   ]
  },
  {
   "cell_type": "code",
   "execution_count": null,
   "metadata": {},
   "outputs": [],
   "source": []
  }
 ],
 "metadata": {
  "kernelspec": {
   "display_name": "Python 3 (ipykernel)",
   "language": "python",
   "name": "python3"
  },
  "language_info": {
   "codemirror_mode": {
    "name": "ipython",
    "version": 3
   },
   "file_extension": ".py",
   "mimetype": "text/x-python",
   "name": "python",
   "nbconvert_exporter": "python",
   "pygments_lexer": "ipython3",
   "version": "3.9.0"
  },
  "toc": {
   "base_numbering": 1,
   "nav_menu": {},
   "number_sections": true,
   "sideBar": true,
   "skip_h1_title": false,
   "title_cell": "Table of Contents",
   "title_sidebar": "Contents",
   "toc_cell": false,
   "toc_position": {
    "height": "calc(100% - 180px)",
    "left": "10px",
    "top": "150px",
    "width": "239.8px"
   },
   "toc_section_display": true,
   "toc_window_display": false
  }
 },
 "nbformat": 4,
 "nbformat_minor": 2
}
