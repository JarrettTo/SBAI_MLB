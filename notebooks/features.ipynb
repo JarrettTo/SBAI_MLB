{
 "cells": [
  {
   "cell_type": "code",
   "execution_count": 1,
   "metadata": {},
   "outputs": [],
   "source": [
    "import pandas as pd\n",
    "import numpy as np\n",
    "import matplotlib.pyplot as plt"
   ]
  },
  {
   "cell_type": "code",
   "execution_count": 2,
   "metadata": {},
   "outputs": [],
   "source": [
    "%matplotlib inline\n",
    "%load_ext autoreload\n",
    "%autoreload 2\n",
    "\n",
    "import warnings\n",
    "warnings.filterwarnings('ignore')\n",
    "warnings.simplefilter(action='ignore', category=FutureWarning)"
   ]
  },
  {
   "cell_type": "code",
   "execution_count": 3,
   "metadata": {},
   "outputs": [],
   "source": [
    "import sys\n",
    "sys.path.append('../code')\n",
    "import features\n",
    "import dataframe_utilities as util"
   ]
  },
  {
   "cell_type": "markdown",
   "metadata": {},
   "source": [
    "# Load Data"
   ]
  },
  {
   "cell_type": "code",
   "execution_count": 4,
   "metadata": {},
   "outputs": [],
   "source": [
    "games = features.get_games()\n",
    "batting = features.get_batting()\n",
    "pitching = features.get_pitching()\n",
    "pitchers = features.get_pitchers()"
   ]
  },
  {
   "cell_type": "markdown",
   "metadata": {},
   "source": [
    "# Features"
   ]
  },
  {
   "cell_type": "code",
   "execution_count": 7,
   "metadata": {},
   "outputs": [
    {
     "name": "stdout",
     "output_type": "stream",
     "text": [
      "           game_id home_team_abbr away_team_abbr        date  is_night_game  \\\n",
      "0  NYMSTL20240301D            STL            NYM  2024-03-01           True   \n",
      "1   SDMIL20240301D            MIL             SD  2024-03-01           True   \n",
      "2  TORNYY20240301N            NYY            TOR  2024-03-01           True   \n",
      "3  PHIDET20240301D            DET            PHI  2024-03-01           True   \n",
      "4   TEXSF20240301D             SF            TEX  2024-03-01           True   \n",
      "\n",
      "   home_team_win home_pitcher away_pitcher  \n",
      "0           True          NaN          NaN  \n",
      "1           True          NaN          NaN  \n",
      "2           True          NaN          NaN  \n",
      "3           True          NaN          NaN  \n",
      "4           True          NaN          NaN  \n"
     ]
    }
   ],
   "source": [
    "df = features.get_game_df()\n"
   ]
  },
  {
   "cell_type": "code",
   "execution_count": 8,
   "metadata": {},
   "outputs": [],
   "source": [
    "df['home_pitcher'] = df['home_pitcher'].fillna('No Pitcher')\n",
    "df['away_pitcher'] = df['away_pitcher'].fillna('No Pitcher')"
   ]
  },
  {
   "cell_type": "markdown",
   "metadata": {},
   "source": [
    "## Add Small Feats"
   ]
  },
  {
   "cell_type": "code",
   "execution_count": 9,
   "metadata": {},
   "outputs": [
    {
     "data": {
      "text/plain": [
       "(935, 17)"
      ]
     },
     "execution_count": 9,
     "metadata": {},
     "output_type": "execute_result"
    }
   ],
   "source": [
    "df = features.add_trueskill_ratings(df)\n",
    "df = features.add_rest_durations(df)\n",
    "df.shape"
   ]
  },
  {
   "cell_type": "code",
   "execution_count": 10,
   "metadata": {},
   "outputs": [],
   "source": [
    "# Assuming df['date'] is a column with date information in string format\n",
    "date = pd.to_datetime(df['date'])\n",
    "df['season'] = date.dt.year\n",
    "df['month'] = date.dt.month\n",
    "# Use .isocalendar().week for ISO week number\n",
    "df['week_num'] = date.dt.isocalendar().week\n",
    "df['dow'] = date.dt.weekday.astype(int)"
   ]
  },
  {
   "cell_type": "code",
   "execution_count": 11,
   "metadata": {},
   "outputs": [],
   "source": [
    "df['dh_game_no'] = pd.to_numeric(df['game_id'].str[-1:],errors='coerce')\n",
    "df['date'] = (pd.to_datetime(df['date']) - pd.Timestamp(\"1970-01-01\")) // pd.Timedelta('1s') #epoch time"
   ]
  },
  {
   "cell_type": "markdown",
   "metadata": {},
   "source": [
    "## Add Stats"
   ]
  },
  {
   "cell_type": "markdown",
   "metadata": {},
   "source": [
    "### Rolling Stats"
   ]
  },
  {
   "cell_type": "code",
   "execution_count": 12,
   "metadata": {},
   "outputs": [],
   "source": [
    "# create rolling stat\n",
    "b_stats = ['batting_avg','leverage_index_avg', 'onbase_perc', 'onbase_plus_slugging']\n",
    "df = features.add_10RA_rolling(batting, df, b_stats, True, 'batting')"
   ]
  },
  {
   "cell_type": "code",
   "execution_count": 14,
   "metadata": {},
   "outputs": [],
   "source": [
    "pitching['SO_batters_faced'] = pitching['so'] / pitching['batters_faced']\n",
    "pitching['H_batters_faced'] = pitching['h'] / pitching['batters_faced']\n",
    "pitching['BB_batters_faced'] = pitching['bb'] / pitching['batters_faced']\n",
    "\n",
    "# create rolling stat\n",
    "b_stats = ['earned_run_avg','SO_batters_faced','H_batters_faced','BB_batters_faced']\n",
    "df = features.add_10RA_rolling(pitching, df, b_stats, True, 'team_pitching')"
   ]
  },
  {
   "cell_type": "code",
   "execution_count": 17,
   "metadata": {},
   "outputs": [],
   "source": [
    "pitchers['earned_run_avg'] = pd.to_numeric(pitchers['earned_run_avg'], errors='coerce')\n",
    "pitchers['SO_batters_faced'] = pitchers['so'] / pitchers['batters_faced']\n",
    "pitchers['H_batters_faced'] = pitchers['h'] / pitchers['batters_faced']\n",
    "pitchers['BB_batters_faced'] = pitchers['bb'] / pitchers['batters_faced']\n",
    "\n",
    "# create rolling stat\n",
    "b_stats = ['earned_run_avg','SO_batters_faced','H_batters_faced','BB_batters_faced']\n",
    "df = features.add_10RA_rolling(pitchers, df, b_stats, False, 'pitcher')"
   ]
  },
  {
   "cell_type": "markdown",
   "metadata": {},
   "source": [
    "### Game Stats"
   ]
  },
  {
   "cell_type": "code",
   "execution_count": 18,
   "metadata": {},
   "outputs": [
    {
     "name": "stdout",
     "output_type": "stream",
     "text": [
      "Index(['away_team_abbr', 'home_team_abbr', 'date', 'start_time', 'venue',\n",
      "       'away_team_errors', 'home_team_errors', 'away_team_hits',\n",
      "       'home_team_hits', 'away_team_runs', 'home_team_runs', 'game_id',\n",
      "       'is_night_game', 'is_grass', 'spread'],\n",
      "      dtype='object')\n",
      "Index(['name', 'ip', 'h', 'r', 'er', 'bb', 'so', 'hr', 'earned_run_avg',\n",
      "       'batters_faced', 'pitches', 'strikes_total', 'strikes_contact',\n",
      "       'strikes_swinging', 'strikes_looking', 'inplay_gb_total',\n",
      "       'inplay_fb_total', 'inplay_ld', 'inplay_unk', 'game_score',\n",
      "       'inherited_runners', 'inherited_score', 'wpa_def', 'leverage_index_avg',\n",
      "       're24_def', 'game_id', 'is_home_team', 'is_starting_pitcher', 'team',\n",
      "       'SO_batters_faced', 'H_batters_faced', 'BB_batters_faced',\n",
      "       'earned_run_avg_10RA', 'SO_batters_faced_10RA', 'H_batters_faced_10RA',\n",
      "       'BB_batters_faced_10RA'],\n",
      "      dtype='object')\n"
     ]
    }
   ],
   "source": [
    "print(games.columns)\n",
    "print(df.columns)"
   ]
  },
  {
   "cell_type": "code",
   "execution_count": 23,
   "metadata": {},
   "outputs": [],
   "source": [
    "# Assuming 'game_id' is the common key and 'date' is the column you need from 'games'\n",
    "df = df.merge(games[['game_id', 'home_team_abbr']], on='game_id', how='left')"
   ]
  },
  {
   "cell_type": "code",
   "execution_count": 25,
   "metadata": {},
   "outputs": [],
   "source": [
    "import pandas as pd\n",
    "\n",
    "# Example DataFrame creation\n",
    "# df = pd.DataFrame({\n",
    "#     'game_id': ['1', '2', '3'],\n",
    "#     'date': ['2024-03-01', '2023-10-01', '2023-05-01']\n",
    "# })\n",
    "\n",
    "# Check if 'date' column is datetime type, if not convert it\n",
    "if df['date'].dtype != '<M8[ns]':  # '<M8[ns]' is numpy notation for datetime64\n",
    "    df['date'] = pd.to_datetime(df['date'])\n",
    "\n",
    "# Extract the year from the date\n",
    "df['season'] = df['date'].dt.year"
   ]
  },
  {
   "cell_type": "code",
   "execution_count": 26,
   "metadata": {},
   "outputs": [
    {
     "data": {
      "text/plain": [
       "(11725, 63)"
      ]
     },
     "execution_count": 26,
     "metadata": {},
     "output_type": "execute_result"
    }
   ],
   "source": [
    "df = features.game_stats(games,df)\n",
    "df.shape"
   ]
  },
  {
   "cell_type": "markdown",
   "metadata": {},
   "source": [
    "### Season Stats"
   ]
  },
  {
   "cell_type": "code",
   "execution_count": 35,
   "metadata": {},
   "outputs": [
    {
     "name": "stdout",
     "output_type": "stream",
     "text": [
      "Index(['name', 'ip', 'h', 'r', 'er', 'bb', 'so', 'hr', 'earned_run_avg',\n",
      "       'batters_faced',\n",
      "       ...\n",
      "       'strikes_total_skew_home_batting', 'wpa_bat_mean_home_batting',\n",
      "       'wpa_bat_std_home_batting', 'wpa_bat_skew_home_batting',\n",
      "       'wpa_bat_neg_mean_home_batting', 'wpa_bat_neg_std_home_batting',\n",
      "       'wpa_bat_neg_skew_home_batting', 'wpa_bat_pos_mean_home_batting',\n",
      "       'wpa_bat_pos_std_home_batting', 'wpa_bat_pos_skew_home_batting'],\n",
      "      dtype='object', length=120)\n",
      "Index(['name', 'ip', 'h', 'r', 'er', 'bb', 'so', 'hr', 'earned_run_avg',\n",
      "       'batters_faced',\n",
      "       ...\n",
      "       'strikes_total_skew_away_batting', 'wpa_bat_mean_away_batting',\n",
      "       'wpa_bat_std_away_batting', 'wpa_bat_skew_away_batting',\n",
      "       'wpa_bat_neg_mean_away_batting', 'wpa_bat_neg_std_away_batting',\n",
      "       'wpa_bat_neg_skew_away_batting', 'wpa_bat_pos_mean_away_batting',\n",
      "       'wpa_bat_pos_std_away_batting', 'wpa_bat_pos_skew_away_batting'],\n",
      "      dtype='object', length=177)\n"
     ]
    },
    {
     "data": {
      "text/plain": [
       "(11725, 196)"
      ]
     },
     "execution_count": 35,
     "metadata": {},
     "output_type": "execute_result"
    }
   ],
   "source": [
    "batting_stats = ['ab', 'bb', 'h', 'pa', 'po', 'r', 'rbi', 'so', 'batting_avg',\n",
    "             'leverage_index_avg', 'onbase_perc', 'onbase_plus_slugging', 'pitches', \n",
    "             're24_bat', 'slugging_perc', 'strikes_total', 'wpa_bat', 'wpa_bat_neg', \n",
    "             'wpa_bat_pos']\n",
    "df = features.add_season_rolling(batting, df, batting_stats, True,'batting')\n",
    "df.shape"
   ]
  },
  {
   "cell_type": "code",
   "execution_count": 37,
   "metadata": {},
   "outputs": [
    {
     "name": "stdout",
     "output_type": "stream",
     "text": [
      "Index(['name', 'ip', 'h', 'r', 'er', 'bb', 'so', 'hr', 'earned_run_avg',\n",
      "       'batters_faced',\n",
      "       ...\n",
      "       'wpa_def_skew_home_team_pitching',\n",
      "       'SO_batters_faced_mean_home_team_pitching',\n",
      "       'SO_batters_faced_std_home_team_pitching',\n",
      "       'SO_batters_faced_skew_home_team_pitching',\n",
      "       'H_batters_faced_mean_home_team_pitching',\n",
      "       'H_batters_faced_std_home_team_pitching',\n",
      "       'H_batters_faced_skew_home_team_pitching',\n",
      "       'BB_batters_faced_mean_home_team_pitching',\n",
      "       'BB_batters_faced_std_home_team_pitching',\n",
      "       'BB_batters_faced_skew_home_team_pitching'],\n",
      "      dtype='object', length=277)\n",
      "Index(['name', 'ip', 'h', 'r', 'er', 'bb', 'so', 'hr', 'earned_run_avg',\n",
      "       'batters_faced',\n",
      "       ...\n",
      "       'wpa_def_skew_away_team_pitching',\n",
      "       'SO_batters_faced_mean_away_team_pitching',\n",
      "       'SO_batters_faced_std_away_team_pitching',\n",
      "       'SO_batters_faced_skew_away_team_pitching',\n",
      "       'H_batters_faced_mean_away_team_pitching',\n",
      "       'H_batters_faced_std_away_team_pitching',\n",
      "       'H_batters_faced_skew_away_team_pitching',\n",
      "       'BB_batters_faced_mean_away_team_pitching',\n",
      "       'BB_batters_faced_std_away_team_pitching',\n",
      "       'BB_batters_faced_skew_away_team_pitching'],\n",
      "      dtype='object', length=358)\n"
     ]
    },
    {
     "data": {
      "text/plain": [
       "(11725, 385)"
      ]
     },
     "execution_count": 37,
     "metadata": {},
     "output_type": "execute_result"
    }
   ],
   "source": [
    "pitching_stats = ['bb', 'er', 'h', 'hr', 'ip', 'r', 'so', 'batters_faced',\n",
    "               'earned_run_avg', 'game_score', 'inherited_runners',\n",
    "               'inherited_score', 'inplay_fb_total', 'inplay_gb_total', 'inplay_ld',\n",
    "               'inplay_unk', 'leverage_index_avg', 'pitches', 're24_def',\n",
    "               'strikes_contact', 'strikes_looking', 'strikes_swinging',\n",
    "               'strikes_total', 'wpa_def','SO_batters_faced','H_batters_faced',\n",
    "                'BB_batters_faced']\n",
    "df = features.add_season_rolling(pitching, df, pitching_stats, True,'team_pitching')\n",
    "df.shape"
   ]
  },
  {
   "cell_type": "code",
   "execution_count": 39,
   "metadata": {},
   "outputs": [],
   "source": [
    "if 'away_pitcher' not in df.columns:\n",
    "    df['away_pitcher'] = 'Unknown'\n",
    "else:\n",
    "    df['away_pitcher'].fillna('Unknown', inplace=True)"
   ]
  },
  {
   "cell_type": "code",
   "execution_count": 40,
   "metadata": {},
   "outputs": [
    {
     "name": "stdout",
     "output_type": "stream",
     "text": [
      "Index(['name', 'ip', 'h', 'r', 'er', 'bb', 'so', 'hr', 'earned_run_avg',\n",
      "       'batters_faced',\n",
      "       ...\n",
      "       'wpa_def_skew_home_pitcher', 'SO_batters_faced_mean_home_pitcher',\n",
      "       'SO_batters_faced_std_home_pitcher',\n",
      "       'SO_batters_faced_skew_home_pitcher',\n",
      "       'H_batters_faced_mean_home_pitcher', 'H_batters_faced_std_home_pitcher',\n",
      "       'H_batters_faced_skew_home_pitcher',\n",
      "       'BB_batters_faced_mean_home_pitcher',\n",
      "       'BB_batters_faced_std_home_pitcher',\n",
      "       'BB_batters_faced_skew_home_pitcher'],\n",
      "      dtype='object', length=467)\n",
      "Index(['name', 'ip', 'h', 'r', 'er', 'bb', 'so', 'hr', 'earned_run_avg',\n",
      "       'batters_faced',\n",
      "       ...\n",
      "       'wpa_def_skew_away_pitcher', 'SO_batters_faced_mean_away_pitcher',\n",
      "       'SO_batters_faced_std_away_pitcher',\n",
      "       'SO_batters_faced_skew_away_pitcher',\n",
      "       'H_batters_faced_mean_away_pitcher', 'H_batters_faced_std_away_pitcher',\n",
      "       'H_batters_faced_skew_away_pitcher',\n",
      "       'BB_batters_faced_mean_away_pitcher',\n",
      "       'BB_batters_faced_std_away_pitcher',\n",
      "       'BB_batters_faced_skew_away_pitcher'],\n",
      "      dtype='object', length=548)\n"
     ]
    },
    {
     "data": {
      "text/plain": [
       "(11725, 575)"
      ]
     },
     "execution_count": 40,
     "metadata": {},
     "output_type": "execute_result"
    }
   ],
   "source": [
    "df = features.add_season_rolling(pitchers, df, pitching_stats, False,'pitcher')\n",
    "df.shape"
   ]
  },
  {
   "cell_type": "code",
   "execution_count": 41,
   "metadata": {},
   "outputs": [],
   "source": [
    "df.to_csv('../data/df_before_cleanup.csv', index=False)"
   ]
  },
  {
   "cell_type": "markdown",
   "metadata": {},
   "source": [
    "# Cleanup"
   ]
  },
  {
   "cell_type": "code",
   "execution_count": 42,
   "metadata": {},
   "outputs": [],
   "source": [
    "#fin na's\n",
    "df = util.fix_na(df, False)"
   ]
  },
  {
   "cell_type": "code",
   "execution_count": 43,
   "metadata": {},
   "outputs": [
    {
     "data": {
      "text/plain": [
       "(11725, 575)"
      ]
     },
     "execution_count": 43,
     "metadata": {},
     "output_type": "execute_result"
    }
   ],
   "source": [
    "df.shape"
   ]
  },
  {
   "cell_type": "code",
   "execution_count": 44,
   "metadata": {},
   "outputs": [],
   "source": [
    "df.to_csv('../data/df_w_features.csv', index=False)"
   ]
  },
  {
   "cell_type": "code",
   "execution_count": 45,
   "metadata": {},
   "outputs": [],
   "source": [
    "import pandas as pd\n",
    "import numpy as np\n",
    "\n",
    "def create_pitchers_with_starting():\n",
    "    # Load the original CSV file\n",
    "    pitchers = pd.read_csv('../data/pitchers.csv')\n",
    "    \n",
    "    # Assign random True/False to 'is_starting_pitcher'\n",
    "    # np.random.choice takes a list of values and a size, generating a random selection for each row in DataFrame\n",
    "    pitchers['is_starting_pitcher'] = np.random.choice([True, False], size=len(pitchers))\n",
    "\n",
    "    # Save the modified DataFrame to a new CSV file\n",
    "    pitchers.to_csv('../data/pitchers_with_starting.csv', index=False)\n",
    "\n",
    "# Run the function to create the new CSV file\n",
    "create_pitchers_with_starting()"
   ]
  },
  {
   "cell_type": "code",
   "execution_count": 46,
   "metadata": {},
   "outputs": [],
   "source": [
    "import pandas as pd\n",
    "import numpy as np\n",
    "\n",
    "def create_batting_with_team():\n",
    "    batting = pd.read_csv('../data/batting.csv')\n",
    "    \n",
    "    batting['team'] = np.where(\n",
    "        batting['home_away'] == 'away', \n",
    "        batting['game_id'].str[:3],   # Extracts the first three characters if away\n",
    "        batting['game_id'].str[3:6]   # Extracts the next three characters if home\n",
    "    )\n",
    "\n",
    "    # Save the modified DataFrame to a new CSV file\n",
    "    batting.to_csv('../data/batting_with_team.csv', index=False)\n",
    "\n",
    "# Run the function to create the new CSV file\n",
    "create_batting_with_team()"
   ]
  },
  {
   "cell_type": "code",
   "execution_count": null,
   "metadata": {},
   "outputs": [],
   "source": []
  }
 ],
 "metadata": {
  "kernelspec": {
   "display_name": "Python 3 (ipykernel)",
   "language": "python",
   "name": "python3"
  },
  "language_info": {
   "codemirror_mode": {
    "name": "ipython",
    "version": 3
   },
   "file_extension": ".py",
   "mimetype": "text/x-python",
   "name": "python",
   "nbconvert_exporter": "python",
   "pygments_lexer": "ipython3",
   "version": "3.11.5"
  },
  "toc": {
   "base_numbering": 1,
   "nav_menu": {},
   "number_sections": true,
   "sideBar": true,
   "skip_h1_title": false,
   "title_cell": "Table of Contents",
   "title_sidebar": "Contents",
   "toc_cell": false,
   "toc_position": {
    "height": "calc(100% - 180px)",
    "left": "10px",
    "top": "150px",
    "width": "211.8px"
   },
   "toc_section_display": true,
   "toc_window_display": true
  }
 },
 "nbformat": 4,
 "nbformat_minor": 2
}
