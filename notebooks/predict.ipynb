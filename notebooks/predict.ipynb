{
 "cells": [
  {
   "cell_type": "code",
   "execution_count": 285,
   "metadata": {},
   "outputs": [],
   "source": [
    "import pandas as pd\n",
    "import numpy as np\n",
    "import matplotlib.pyplot as plt"
   ]
  },
  {
   "cell_type": "code",
   "execution_count": 286,
   "metadata": {},
   "outputs": [
    {
     "name": "stdout",
     "output_type": "stream",
     "text": [
      "The autoreload extension is already loaded. To reload it, use:\n",
      "  %reload_ext autoreload\n"
     ]
    }
   ],
   "source": [
    "%matplotlib inline\n",
    "%load_ext autoreload\n",
    "%autoreload 2\n",
    "\n",
    "import warnings\n",
    "warnings.filterwarnings('ignore')\n",
    "warnings.simplefilter(action='ignore', category=FutureWarning)"
   ]
  },
  {
   "cell_type": "code",
   "execution_count": 287,
   "metadata": {},
   "outputs": [],
   "source": [
    "import sys\n",
    "sys.path.append('../code')\n",
    "import scrape, features\n",
    "import dataframe_utilities as util"
   ]
  },
  {
   "cell_type": "markdown",
   "metadata": {},
   "source": [
    "# Update DB & Get Today Games"
   ]
  },
  {
   "cell_type": "code",
   "execution_count": 288,
   "metadata": {},
   "outputs": [
    {
     "data": {
      "text/plain": [
       "Timestamp('2024-09-27 00:00:00')"
      ]
     },
     "execution_count": 288,
     "metadata": {},
     "output_type": "execute_result"
    }
   ],
   "source": [
    "last_day = pd.to_datetime(pd.read_csv('../data/game_summaries.csv')['date']).max()\n",
    "get_day = last_day + pd.Timedelta(days=1)\n",
    "get_day"
   ]
  },
  {
   "cell_type": "code",
   "execution_count": 289,
   "metadata": {},
   "outputs": [],
   "source": [
    "#home and away\n",
    "#game time\n",
    "#pitchers\n"
   ]
  },
  {
   "cell_type": "code",
   "execution_count": 290,
   "metadata": {},
   "outputs": [],
   "source": [
    "import datetime\n",
    "\n",
    "# Example of creating a datetime object\n",
    "date_obj = datetime.date.today()\n",
    "while get_day.date() < date_obj:\n",
    "    links = scrape.get_game_links(get_day)\n",
    "    for l in links:\n",
    "        scrape.process_link(l)\n",
    "    get_day += + pd.Timedelta(days=1)"
   ]
  },
  {
   "cell_type": "code",
   "execution_count": 291,
   "metadata": {},
   "outputs": [
    {
     "name": "stdout",
     "output_type": "stream",
     "text": [
      "no pitcher {'away_team_abbr': 'STL', 'home_team_abbr': 'MIL', 'time': '8:10PM', 'away_pitcher': 'lynnla01'}\n"
     ]
    }
   ],
   "source": [
    "import lxml\n",
    "test_df = scrape.get_today_games()"
   ]
  },
  {
   "cell_type": "code",
   "execution_count": 292,
   "metadata": {},
   "outputs": [
    {
     "data": {
      "text/html": [
       "<div>\n",
       "<style scoped>\n",
       "    .dataframe tbody tr th:only-of-type {\n",
       "        vertical-align: middle;\n",
       "    }\n",
       "\n",
       "    .dataframe tbody tr th {\n",
       "        vertical-align: top;\n",
       "    }\n",
       "\n",
       "    .dataframe thead th {\n",
       "        text-align: right;\n",
       "    }\n",
       "</style>\n",
       "<table border=\"1\" class=\"dataframe\">\n",
       "  <thead>\n",
       "    <tr style=\"text-align: right;\">\n",
       "      <th></th>\n",
       "      <th>away_team_abbr</th>\n",
       "      <th>home_team_abbr</th>\n",
       "      <th>time</th>\n",
       "      <th>away_pitcher</th>\n",
       "      <th>home_pitcher</th>\n",
       "      <th>date</th>\n",
       "    </tr>\n",
       "  </thead>\n",
       "  <tbody>\n",
       "    <tr>\n",
       "      <th>0</th>\n",
       "      <td>HOU</td>\n",
       "      <td>DET</td>\n",
       "      <td>6:40PM</td>\n",
       "      <td>valdefr01</td>\n",
       "      <td>mizeca01</td>\n",
       "      <td>2024-05-10</td>\n",
       "    </tr>\n",
       "    <tr>\n",
       "      <th>1</th>\n",
       "      <td>CHC</td>\n",
       "      <td>PIT</td>\n",
       "      <td>6:40PM</td>\n",
       "      <td>assadja01</td>\n",
       "      <td>jonesja09</td>\n",
       "      <td>2024-05-10</td>\n",
       "    </tr>\n",
       "    <tr>\n",
       "      <th>2</th>\n",
       "      <td>NYY</td>\n",
       "      <td>TBR</td>\n",
       "      <td>6:50PM</td>\n",
       "      <td>schmicl01</td>\n",
       "      <td>bradlta01</td>\n",
       "      <td>2024-05-10</td>\n",
       "    </tr>\n",
       "    <tr>\n",
       "      <th>3</th>\n",
       "      <td>ARI</td>\n",
       "      <td>BAL</td>\n",
       "      <td>7:05PM</td>\n",
       "      <td>pfaadbr01</td>\n",
       "      <td>irvinco01</td>\n",
       "      <td>2024-05-10</td>\n",
       "    </tr>\n",
       "    <tr>\n",
       "      <th>4</th>\n",
       "      <td>MIN</td>\n",
       "      <td>TOR</td>\n",
       "      <td>7:07PM</td>\n",
       "      <td>ryanjo04</td>\n",
       "      <td>kikucyu01</td>\n",
       "      <td>2024-05-10</td>\n",
       "    </tr>\n",
       "    <tr>\n",
       "      <th>5</th>\n",
       "      <td>WSN</td>\n",
       "      <td>BOS</td>\n",
       "      <td>7:10PM</td>\n",
       "      <td>corbipa01</td>\n",
       "      <td>houckta01</td>\n",
       "      <td>2024-05-10</td>\n",
       "    </tr>\n",
       "    <tr>\n",
       "      <th>6</th>\n",
       "      <td>PHI</td>\n",
       "      <td>MIA</td>\n",
       "      <td>7:10PM</td>\n",
       "      <td>suarera01</td>\n",
       "      <td>rogertr01</td>\n",
       "      <td>2024-05-10</td>\n",
       "    </tr>\n",
       "    <tr>\n",
       "      <th>7</th>\n",
       "      <td>ATL</td>\n",
       "      <td>NYM</td>\n",
       "      <td>7:10PM</td>\n",
       "      <td>mortoch02</td>\n",
       "      <td>quintjo01</td>\n",
       "      <td>2024-05-10</td>\n",
       "    </tr>\n",
       "    <tr>\n",
       "      <th>8</th>\n",
       "      <td>CLE</td>\n",
       "      <td>CHW</td>\n",
       "      <td>7:40PM</td>\n",
       "      <td>carraca01</td>\n",
       "      <td>crochga01</td>\n",
       "      <td>2024-05-10</td>\n",
       "    </tr>\n",
       "    <tr>\n",
       "      <th>9</th>\n",
       "      <td>STL</td>\n",
       "      <td>MIL</td>\n",
       "      <td>8:10PM</td>\n",
       "      <td>lynnla01</td>\n",
       "      <td>NaN</td>\n",
       "      <td>2024-05-10</td>\n",
       "    </tr>\n",
       "    <tr>\n",
       "      <th>10</th>\n",
       "      <td>TEX</td>\n",
       "      <td>COL</td>\n",
       "      <td>8:40PM</td>\n",
       "      <td>grayjo02</td>\n",
       "      <td>gombeau01</td>\n",
       "      <td>2024-05-10</td>\n",
       "    </tr>\n",
       "    <tr>\n",
       "      <th>11</th>\n",
       "      <td>KCR</td>\n",
       "      <td>LAA</td>\n",
       "      <td>9:38PM</td>\n",
       "      <td>marshal01</td>\n",
       "      <td>cannigr01</td>\n",
       "      <td>2024-05-10</td>\n",
       "    </tr>\n",
       "    <tr>\n",
       "      <th>12</th>\n",
       "      <td>LAD</td>\n",
       "      <td>SDP</td>\n",
       "      <td>9:40PM</td>\n",
       "      <td>glasnty01</td>\n",
       "      <td>kingmi01</td>\n",
       "      <td>2024-05-10</td>\n",
       "    </tr>\n",
       "    <tr>\n",
       "      <th>13</th>\n",
       "      <td>OAK</td>\n",
       "      <td>SEA</td>\n",
       "      <td>9:40PM</td>\n",
       "      <td>blackpa01</td>\n",
       "      <td>woobr01</td>\n",
       "      <td>2024-05-10</td>\n",
       "    </tr>\n",
       "    <tr>\n",
       "      <th>14</th>\n",
       "      <td>CIN</td>\n",
       "      <td>SFG</td>\n",
       "      <td>10:15PM</td>\n",
       "      <td>abbotan01</td>\n",
       "      <td>webblo01</td>\n",
       "      <td>2024-05-10</td>\n",
       "    </tr>\n",
       "  </tbody>\n",
       "</table>\n",
       "</div>"
      ],
      "text/plain": [
       "   away_team_abbr home_team_abbr     time away_pitcher home_pitcher  \\\n",
       "0             HOU            DET   6:40PM    valdefr01     mizeca01   \n",
       "1             CHC            PIT   6:40PM    assadja01    jonesja09   \n",
       "2             NYY            TBR   6:50PM    schmicl01    bradlta01   \n",
       "3             ARI            BAL   7:05PM    pfaadbr01    irvinco01   \n",
       "4             MIN            TOR   7:07PM     ryanjo04    kikucyu01   \n",
       "5             WSN            BOS   7:10PM    corbipa01    houckta01   \n",
       "6             PHI            MIA   7:10PM    suarera01    rogertr01   \n",
       "7             ATL            NYM   7:10PM    mortoch02    quintjo01   \n",
       "8             CLE            CHW   7:40PM    carraca01    crochga01   \n",
       "9             STL            MIL   8:10PM     lynnla01          NaN   \n",
       "10            TEX            COL   8:40PM     grayjo02    gombeau01   \n",
       "11            KCR            LAA   9:38PM    marshal01    cannigr01   \n",
       "12            LAD            SDP   9:40PM    glasnty01     kingmi01   \n",
       "13            OAK            SEA   9:40PM    blackpa01      woobr01   \n",
       "14            CIN            SFG  10:15PM    abbotan01     webblo01   \n",
       "\n",
       "          date  \n",
       "0   2024-05-10  \n",
       "1   2024-05-10  \n",
       "2   2024-05-10  \n",
       "3   2024-05-10  \n",
       "4   2024-05-10  \n",
       "5   2024-05-10  \n",
       "6   2024-05-10  \n",
       "7   2024-05-10  \n",
       "8   2024-05-10  \n",
       "9   2024-05-10  \n",
       "10  2024-05-10  \n",
       "11  2024-05-10  \n",
       "12  2024-05-10  \n",
       "13  2024-05-10  \n",
       "14  2024-05-10  "
      ]
     },
     "execution_count": 292,
     "metadata": {},
     "output_type": "execute_result"
    }
   ],
   "source": [
    "test_df"
   ]
  },
  {
   "cell_type": "markdown",
   "metadata": {},
   "source": [
    "# Process Stats for Today's Games"
   ]
  },
  {
   "cell_type": "markdown",
   "metadata": {},
   "source": [
    "## Merge test and train dfs"
   ]
  },
  {
   "cell_type": "code",
   "execution_count": 293,
   "metadata": {},
   "outputs": [],
   "source": [
    "test_df['is_night_game'] = True\n",
    "test_df['is_night_game'][test_df['time'].str[:1].astype('int')<5] = False\n",
    "test_df['is_night_game'][test_df['time'].str[1:2].isin(['0','1'])] = True #for 10,11 PM games\n",
    "test_df.drop(columns='time', inplace=True)"
   ]
  },
  {
   "cell_type": "code",
   "execution_count": 294,
   "metadata": {},
   "outputs": [
    {
     "data": {
      "text/plain": [
       "(15, 9)"
      ]
     },
     "execution_count": 294,
     "metadata": {},
     "output_type": "execute_result"
    }
   ],
   "source": [
    "test_df['is_test'] = True\n",
    "test_df['home_team_win']=np.nan\n",
    "test_df['game_id'] = test_df.home_team_abbr + test_df.date.astype('str').str.replace('-','') + '0'\n",
    "test_df.shape"
   ]
  },
  {
   "cell_type": "code",
   "execution_count": 295,
   "metadata": {},
   "outputs": [
    {
     "data": {
      "text/plain": [
       "(935, 9)"
      ]
     },
     "execution_count": 295,
     "metadata": {},
     "output_type": "execute_result"
    }
   ],
   "source": [
    "df = features.get_game_df()\n",
    "df['is_test'] = False\n",
    "df.shape"
   ]
  },
  {
   "cell_type": "code",
   "execution_count": 296,
   "metadata": {},
   "outputs": [
    {
     "data": {
      "text/plain": [
       "(950, 9)"
      ]
     },
     "execution_count": 296,
     "metadata": {},
     "output_type": "execute_result"
    }
   ],
   "source": [
    "df = pd.concat([df,test_df])\n",
    "df = df.sort_values(by='date').reset_index(drop=True)\n",
    "df.shape"
   ]
  },
  {
   "cell_type": "markdown",
   "metadata": {},
   "source": [
    "## Add Features"
   ]
  },
  {
   "cell_type": "code",
   "execution_count": 297,
   "metadata": {},
   "outputs": [
    {
     "data": {
      "text/plain": [
       "(950, 18)"
      ]
     },
     "execution_count": 297,
     "metadata": {},
     "output_type": "execute_result"
    }
   ],
   "source": [
    "df = features.add_trueskill_ratings(df)\n",
    "df = features.add_rest_durations(df)\n",
    "df.shape"
   ]
  },
  {
   "cell_type": "code",
   "execution_count": 298,
   "metadata": {},
   "outputs": [],
   "source": [
    "#datetime\n",
    "date = pd.to_datetime(df['date'])\n",
    "df['season'] = date.dt.year\n",
    "df['month']=date.dt.month\n",
    "df['week_num'] = date.dt.isocalendar().week\n",
    "df['dow']=date.dt.weekday.astype('int')"
   ]
  },
  {
   "cell_type": "code",
   "execution_count": 299,
   "metadata": {},
   "outputs": [],
   "source": [
    "df['dh_game_no'] = pd.to_numeric(df['game_id'].str[-1:],errors='coerce')\n",
    "df['date'] = (pd.to_datetime(df['date']) - pd.Timestamp(\"1970-01-01\")) // pd.Timedelta('1s') #epoch time"
   ]
  },
  {
   "cell_type": "code",
   "execution_count": 300,
   "metadata": {},
   "outputs": [
    {
     "data": {
      "text/plain": [
       "0     DET202405100\n",
       "1     PIT202405100\n",
       "2     TBR202405100\n",
       "3     BAL202405100\n",
       "4     TOR202405100\n",
       "5     BOS202405100\n",
       "6     MIA202405100\n",
       "7     NYM202405100\n",
       "8     CHW202405100\n",
       "9     MIL202405100\n",
       "10    COL202405100\n",
       "11    LAA202405100\n",
       "12    SDP202405100\n",
       "13    SEA202405100\n",
       "14    SFG202405100\n",
       "Name: game_id, dtype: object"
      ]
     },
     "execution_count": 300,
     "metadata": {},
     "output_type": "execute_result"
    }
   ],
   "source": [
    "test_df['game_id']"
   ]
  },
  {
   "cell_type": "markdown",
   "metadata": {},
   "source": [
    "### Add Stats"
   ]
  },
  {
   "cell_type": "code",
   "execution_count": 301,
   "metadata": {},
   "outputs": [
    {
     "name": "stdout",
     "output_type": "stream",
     "text": [
      "Index(['game_id', 'home_team_abbr', 'away_team_abbr', 'date', 'is_night_game',\n",
      "       'home_team_win', 'home_pitcher', 'away_pitcher', 'is_test',\n",
      "       'home_trueskill_pre', 'away_trueskill_pre', 'ts_diff', 'home_team_rest',\n",
      "       'away_team_rest', 'home_pitcher_rest', 'away_pitcher_rest',\n",
      "       'team_rest_diff', 'pitcher_rest_diff', 'season', 'month', 'week_num',\n",
      "       'dow', 'dh_game_no'],\n",
      "      dtype='object')\n"
     ]
    }
   ],
   "source": [
    "games = features.get_games()\n",
    "batting = features.get_batting()\n",
    "pitching = features.get_pitching()\n",
    "pitchers = features.get_pitchers()\n",
    "print(df.columns)"
   ]
  },
  {
   "cell_type": "markdown",
   "metadata": {},
   "source": [
    "#### Rolling 10 Day Stats"
   ]
  },
  {
   "cell_type": "code",
   "execution_count": 302,
   "metadata": {},
   "outputs": [
    {
     "name": "stdout",
     "output_type": "stream",
     "text": [
      "0      STL\n",
      "1      NYM\n",
      "2      HOU\n",
      "3      STL\n",
      "4      LAA\n",
      "      ... \n",
      "125    DET\n",
      "126    HI2\n",
      "127    SFP\n",
      "128    TB2\n",
      "129    CWS\n",
      "Name: team, Length: 130, dtype: object\n",
      "Index(['game_id', 'home_team_abbr', 'away_team_abbr', 'date', 'is_night_game',\n",
      "       'home_team_win', 'home_pitcher', 'away_pitcher', 'is_test',\n",
      "       'home_trueskill_pre', 'away_trueskill_pre', 'ts_diff', 'home_team_rest',\n",
      "       'away_team_rest', 'home_pitcher_rest', 'away_pitcher_rest',\n",
      "       'team_rest_diff', 'pitcher_rest_diff', 'season', 'month', 'week_num',\n",
      "       'dow', 'dh_game_no', 'batting_avg_10RA', 'leverage_index_avg_10RA',\n",
      "       'onbase_perc_10RA', 'onbase_plus_slugging_10RA'],\n",
      "      dtype='object')\n"
     ]
    }
   ],
   "source": [
    "b_stats = ['batting_avg','leverage_index_avg', 'onbase_perc', 'onbase_plus_slugging']\n",
    "df = features.add_10RA_rolling(batting, df, b_stats, True)\n",
    "print(df.columns)"
   ]
  },
  {
   "cell_type": "code",
   "execution_count": 303,
   "metadata": {},
   "outputs": [
    {
     "name": "stdout",
     "output_type": "stream",
     "text": [
      "0       STL\n",
      "1       NYM\n",
      "2       KC2\n",
      "3       OAK\n",
      "4       ATL\n",
      "       ... \n",
      "1713    SEA\n",
      "1714    ATL\n",
      "1715    BOS\n",
      "1716    OL2\n",
      "1717    SFC\n",
      "Name: team, Length: 1718, dtype: object\n"
     ]
    }
   ],
   "source": [
    "pitching['SO_batters_faced'] = pitching['so'] / pitching['batters_faced']\n",
    "pitching['H_batters_faced'] = pitching['h'] / pitching['batters_faced']\n",
    "pitching['BB_batters_faced'] = pitching['bb'] / pitching['batters_faced']\n",
    "\n",
    "# create rolling stat\n",
    "b_stats = ['earned_run_avg','SO_batters_faced','H_batters_faced','BB_batters_faced']\n",
    "df = features.add_10RA_rolling(pitching, df, b_stats, True)"
   ]
  },
  {
   "cell_type": "code",
   "execution_count": 304,
   "metadata": {},
   "outputs": [
    {
     "name": "stdout",
     "output_type": "stream",
     "text": [
      "0       STL\n",
      "1       STL\n",
      "2       STL\n",
      "3       STL\n",
      "4       STL\n",
      "       ... \n",
      "8739    OL2\n",
      "8740    OL2\n",
      "8741    SFC\n",
      "8742    SFC\n",
      "8743    SFC\n",
      "Name: team, Length: 8744, dtype: object\n",
      "An unexpected error occurred: No numeric types to aggregate\n"
     ]
    }
   ],
   "source": [
    "pitchers['SO_batters_faced'] = pitchers['so'] / pitchers['batters_faced']\n",
    "pitchers['H_batters_faced'] = pitchers['h'] / pitchers['batters_faced']\n",
    "pitchers['BB_batters_faced'] = pitchers['bb'] / pitchers['batters_faced']\n",
    "\n",
    "# create rolling stat\n",
    "b_stats = ['earned_run_avg','SO_batters_faced','H_batters_faced','BB_batters_faced']\n",
    "df = features.add_10RA_rolling(pitchers, df, b_stats, False)"
   ]
  },
  {
   "cell_type": "code",
   "execution_count": 305,
   "metadata": {},
   "outputs": [
    {
     "name": "stdout",
     "output_type": "stream",
     "text": [
      "GAMES: 0       1709251200\n",
      "1       1709251200\n",
      "2       1709251200\n",
      "3       1709251200\n",
      "4       1709251200\n",
      "           ...    \n",
      "2060    1715299200\n",
      "2061    1719446400\n",
      "2062    1723161600\n",
      "2063    1724976000\n",
      "2064    1727308800\n",
      "Name: date, Length: 2065, dtype: int64\n"
     ]
    }
   ],
   "source": [
    "print(\"GAMES:\", df['date'])"
   ]
  },
  {
   "cell_type": "markdown",
   "metadata": {},
   "source": [
    "#### Games Stats"
   ]
  },
  {
   "cell_type": "code",
   "execution_count": 306,
   "metadata": {
    "scrolled": true
   },
   "outputs": [
    {
     "name": "stdout",
     "output_type": "stream",
     "text": [
      "GAMES DATE: 0     2024-03-01\n",
      "1     2024-03-01\n",
      "2     2024-03-01\n",
      "3     2024-03-02\n",
      "4     2024-03-02\n",
      "         ...    \n",
      "930   2024-05-07\n",
      "931   2024-05-07\n",
      "932   2024-05-07\n",
      "933   2024-05-07\n",
      "934   2024-05-08\n",
      "Name: date, Length: 935, dtype: datetime64[ns]\n"
     ]
    }
   ],
   "source": [
    "df = features.game_stats(games,df)"
   ]
  },
  {
   "cell_type": "code",
   "execution_count": 307,
   "metadata": {
    "scrolled": true
   },
   "outputs": [
    {
     "data": {
      "text/plain": [
       "(2065, 54)"
      ]
     },
     "execution_count": 307,
     "metadata": {},
     "output_type": "execute_result"
    }
   ],
   "source": [
    "df.shape"
   ]
  },
  {
   "cell_type": "markdown",
   "metadata": {},
   "source": [
    "#### Season Stats"
   ]
  },
  {
   "cell_type": "code",
   "execution_count": 308,
   "metadata": {},
   "outputs": [
    {
     "name": "stdout",
     "output_type": "stream",
     "text": [
      "Index(['game_id', 'home_team_abbr', 'away_team_abbr', 'date', 'is_night_game',\n",
      "       'home_team_win', 'home_pitcher', 'away_pitcher', 'is_test',\n",
      "       'home_trueskill_pre',\n",
      "       ...\n",
      "       'strikes_total_skew_home_batting', 'wpa_bat_mean_home_batting',\n",
      "       'wpa_bat_std_home_batting', 'wpa_bat_skew_home_batting',\n",
      "       'wpa_bat_neg_mean_home_batting', 'wpa_bat_neg_std_home_batting',\n",
      "       'wpa_bat_neg_skew_home_batting', 'wpa_bat_pos_mean_home_batting',\n",
      "       'wpa_bat_pos_std_home_batting', 'wpa_bat_pos_skew_home_batting'],\n",
      "      dtype='object', length=114)\n",
      "Index(['game_id', 'home_team_abbr', 'away_team_abbr', 'date', 'is_night_game',\n",
      "       'home_team_win', 'home_pitcher', 'away_pitcher', 'is_test',\n",
      "       'home_trueskill_pre',\n",
      "       ...\n",
      "       'strikes_total_skew_away_batting', 'wpa_bat_mean_away_batting',\n",
      "       'wpa_bat_std_away_batting', 'wpa_bat_skew_away_batting',\n",
      "       'wpa_bat_neg_mean_away_batting', 'wpa_bat_neg_std_away_batting',\n",
      "       'wpa_bat_neg_skew_away_batting', 'wpa_bat_pos_mean_away_batting',\n",
      "       'wpa_bat_pos_std_away_batting', 'wpa_bat_pos_skew_away_batting'],\n",
      "      dtype='object', length=174)\n"
     ]
    },
    {
     "data": {
      "text/plain": [
       "(2065, 194)"
      ]
     },
     "execution_count": 308,
     "metadata": {},
     "output_type": "execute_result"
    }
   ],
   "source": [
    "batting_stats = ['a', 'ab', 'bb', 'h', 'pa', 'po', 'r', 'rbi', 'so', 'batting_avg',\n",
    "             'leverage_index_avg', 'onbase_perc', 'onbase_plus_slugging', 'pitches', \n",
    "             're24_bat', 'slugging_perc', 'strikes_total', 'wpa_bat', 'wpa_bat_neg', \n",
    "             'wpa_bat_pos']\n",
    "df = features.add_season_rolling(batting, df, batting_stats, True,'batting')\n",
    "df.shape"
   ]
  },
  {
   "cell_type": "code",
   "execution_count": 309,
   "metadata": {},
   "outputs": [
    {
     "name": "stdout",
     "output_type": "stream",
     "text": [
      "Index(['game_id', 'home_team_abbr', 'away_team_abbr', 'date', 'is_night_game',\n",
      "       'home_team_win', 'home_pitcher', 'away_pitcher', 'is_test',\n",
      "       'home_trueskill_pre',\n",
      "       ...\n",
      "       'wpa_def_skew_home_team_pitching',\n",
      "       'SO_batters_faced_mean_home_team_pitching',\n",
      "       'SO_batters_faced_std_home_team_pitching',\n",
      "       'SO_batters_faced_skew_home_team_pitching',\n",
      "       'H_batters_faced_mean_home_team_pitching',\n",
      "       'H_batters_faced_std_home_team_pitching',\n",
      "       'H_batters_faced_skew_home_team_pitching',\n",
      "       'BB_batters_faced_mean_home_team_pitching',\n",
      "       'BB_batters_faced_std_home_team_pitching',\n",
      "       'BB_batters_faced_skew_home_team_pitching'],\n",
      "      dtype='object', length=275)\n",
      "Index(['game_id', 'home_team_abbr', 'away_team_abbr', 'date', 'is_night_game',\n",
      "       'home_team_win', 'home_pitcher', 'away_pitcher', 'is_test',\n",
      "       'home_trueskill_pre',\n",
      "       ...\n",
      "       'wpa_def_skew_away_team_pitching',\n",
      "       'SO_batters_faced_mean_away_team_pitching',\n",
      "       'SO_batters_faced_std_away_team_pitching',\n",
      "       'SO_batters_faced_skew_away_team_pitching',\n",
      "       'H_batters_faced_mean_away_team_pitching',\n",
      "       'H_batters_faced_std_away_team_pitching',\n",
      "       'H_batters_faced_skew_away_team_pitching',\n",
      "       'BB_batters_faced_mean_away_team_pitching',\n",
      "       'BB_batters_faced_std_away_team_pitching',\n",
      "       'BB_batters_faced_skew_away_team_pitching'],\n",
      "      dtype='object', length=356)\n"
     ]
    },
    {
     "data": {
      "text/plain": [
       "(2065, 383)"
      ]
     },
     "execution_count": 309,
     "metadata": {},
     "output_type": "execute_result"
    }
   ],
   "source": [
    "pitching_stats = ['bb', 'er', 'h', 'hr', 'ip', 'r', 'so', 'batters_faced',\n",
    "               'earned_run_avg', 'game_score', 'inherited_runners',\n",
    "               'inherited_score', 'inplay_fb_total', 'inplay_gb_total', 'inplay_ld',\n",
    "               'inplay_unk', 'leverage_index_avg', 'pitches', 're24_def',\n",
    "               'strikes_contact', 'strikes_looking', 'strikes_swinging',\n",
    "               'strikes_total', 'wpa_def','SO_batters_faced','H_batters_faced',\n",
    "                'BB_batters_faced']\n",
    "df = features.add_season_rolling(pitching, df, pitching_stats, True,'team_pitching')\n",
    "df.shape"
   ]
  },
  {
   "cell_type": "code",
   "execution_count": 310,
   "metadata": {},
   "outputs": [
    {
     "ename": "DataError",
     "evalue": "No numeric types to aggregate",
     "output_type": "error",
     "traceback": [
      "\u001b[1;31m---------------------------------------------------------------------------\u001b[0m",
      "\u001b[1;31mValueError\u001b[0m                                Traceback (most recent call last)",
      "File \u001b[1;32mc:\\Users\\Justin\\AppData\\Local\\Programs\\Python\\Python39\\lib\\site-packages\\pandas\\core\\window\\rolling.py:367\u001b[0m, in \u001b[0;36mBaseWindow._prep_values\u001b[1;34m(self, values)\u001b[0m\n\u001b[0;32m    366\u001b[0m     \u001b[38;5;28;01melse\u001b[39;00m:\n\u001b[1;32m--> 367\u001b[0m         values \u001b[38;5;241m=\u001b[39m \u001b[43mensure_float64\u001b[49m\u001b[43m(\u001b[49m\u001b[43mvalues\u001b[49m\u001b[43m)\u001b[49m\n\u001b[0;32m    368\u001b[0m \u001b[38;5;28;01mexcept\u001b[39;00m (\u001b[38;5;167;01mValueError\u001b[39;00m, \u001b[38;5;167;01mTypeError\u001b[39;00m) \u001b[38;5;28;01mas\u001b[39;00m err:\n",
      "File \u001b[1;32mpandas\\_libs\\algos_common_helper.pxi:42\u001b[0m, in \u001b[0;36mpandas._libs.algos.ensure_float64\u001b[1;34m()\u001b[0m\n",
      "\u001b[1;31mValueError\u001b[0m: could not convert string to float: '--'",
      "\nThe above exception was the direct cause of the following exception:\n",
      "\u001b[1;31mTypeError\u001b[0m                                 Traceback (most recent call last)",
      "File \u001b[1;32mc:\\Users\\Justin\\AppData\\Local\\Programs\\Python\\Python39\\lib\\site-packages\\pandas\\core\\window\\rolling.py:447\u001b[0m, in \u001b[0;36mBaseWindow._apply_series\u001b[1;34m(self, homogeneous_func, name)\u001b[0m\n\u001b[0;32m    446\u001b[0m \u001b[38;5;28;01mtry\u001b[39;00m:\n\u001b[1;32m--> 447\u001b[0m     values \u001b[38;5;241m=\u001b[39m \u001b[38;5;28;43mself\u001b[39;49m\u001b[38;5;241;43m.\u001b[39;49m\u001b[43m_prep_values\u001b[49m\u001b[43m(\u001b[49m\u001b[43mobj\u001b[49m\u001b[38;5;241;43m.\u001b[39;49m\u001b[43m_values\u001b[49m\u001b[43m)\u001b[49m\n\u001b[0;32m    448\u001b[0m \u001b[38;5;28;01mexcept\u001b[39;00m (\u001b[38;5;167;01mTypeError\u001b[39;00m, \u001b[38;5;167;01mNotImplementedError\u001b[39;00m) \u001b[38;5;28;01mas\u001b[39;00m err:\n",
      "File \u001b[1;32mc:\\Users\\Justin\\AppData\\Local\\Programs\\Python\\Python39\\lib\\site-packages\\pandas\\core\\window\\rolling.py:369\u001b[0m, in \u001b[0;36mBaseWindow._prep_values\u001b[1;34m(self, values)\u001b[0m\n\u001b[0;32m    368\u001b[0m \u001b[38;5;28;01mexcept\u001b[39;00m (\u001b[38;5;167;01mValueError\u001b[39;00m, \u001b[38;5;167;01mTypeError\u001b[39;00m) \u001b[38;5;28;01mas\u001b[39;00m err:\n\u001b[1;32m--> 369\u001b[0m     \u001b[38;5;28;01mraise\u001b[39;00m \u001b[38;5;167;01mTypeError\u001b[39;00m(\u001b[38;5;124mf\u001b[39m\u001b[38;5;124m\"\u001b[39m\u001b[38;5;124mcannot handle this type -> \u001b[39m\u001b[38;5;132;01m{\u001b[39;00mvalues\u001b[38;5;241m.\u001b[39mdtype\u001b[38;5;132;01m}\u001b[39;00m\u001b[38;5;124m\"\u001b[39m) \u001b[38;5;28;01mfrom\u001b[39;00m \u001b[38;5;21;01merr\u001b[39;00m\n\u001b[0;32m    371\u001b[0m \u001b[38;5;66;03m# Convert inf to nan for C funcs\u001b[39;00m\n",
      "\u001b[1;31mTypeError\u001b[0m: cannot handle this type -> object",
      "\nThe above exception was the direct cause of the following exception:\n",
      "\u001b[1;31mDataError\u001b[0m                                 Traceback (most recent call last)",
      "Cell \u001b[1;32mIn[310], line 1\u001b[0m\n\u001b[1;32m----> 1\u001b[0m df \u001b[38;5;241m=\u001b[39m \u001b[43mfeatures\u001b[49m\u001b[38;5;241;43m.\u001b[39;49m\u001b[43madd_season_rolling\u001b[49m\u001b[43m(\u001b[49m\u001b[43mpitchers\u001b[49m\u001b[43m,\u001b[49m\u001b[43m \u001b[49m\u001b[43mdf\u001b[49m\u001b[43m,\u001b[49m\u001b[43m \u001b[49m\u001b[43mpitching_stats\u001b[49m\u001b[43m,\u001b[49m\u001b[43m \u001b[49m\u001b[38;5;28;43;01mFalse\u001b[39;49;00m\u001b[43m,\u001b[49m\u001b[38;5;124;43m'\u001b[39;49m\u001b[38;5;124;43mpitcher\u001b[39;49m\u001b[38;5;124;43m'\u001b[39;49m\u001b[43m)\u001b[49m\n\u001b[0;32m      2\u001b[0m df\u001b[38;5;241m.\u001b[39mshape\n",
      "File \u001b[1;32me:\\Jiu Studios\\SBAI Project\\MLB\\code\\features.py:236\u001b[0m, in \u001b[0;36madd_season_rolling\u001b[1;34m(stat_df, df, cols, team, name)\u001b[0m\n\u001b[0;32m    234\u001b[0m group_keys \u001b[38;5;241m=\u001b[39m [\u001b[38;5;124m'\u001b[39m\u001b[38;5;124mteam\u001b[39m\u001b[38;5;124m'\u001b[39m, \u001b[38;5;124m'\u001b[39m\u001b[38;5;124mseason\u001b[39m\u001b[38;5;124m'\u001b[39m]\n\u001b[0;32m    235\u001b[0m \u001b[38;5;28;01mfor\u001b[39;00m s \u001b[38;5;129;01min\u001b[39;00m cols:\n\u001b[1;32m--> 236\u001b[0m     stat_df[\u001b[38;5;124mf\u001b[39m\u001b[38;5;124m'\u001b[39m\u001b[38;5;132;01m{\u001b[39;00ms\u001b[38;5;132;01m}\u001b[39;00m\u001b[38;5;124m_mean\u001b[39m\u001b[38;5;124m'\u001b[39m] \u001b[38;5;241m=\u001b[39m \u001b[43mstat_df\u001b[49m\u001b[38;5;241;43m.\u001b[39;49m\u001b[43mgroupby\u001b[49m\u001b[43m(\u001b[49m\u001b[43mgroup_keys\u001b[49m\u001b[43m)\u001b[49m\u001b[43m[\u001b[49m\u001b[43ms\u001b[49m\u001b[43m]\u001b[49m\u001b[38;5;241;43m.\u001b[39;49m\u001b[43mtransform\u001b[49m\u001b[43m(\u001b[49m\u001b[38;5;28;43;01mlambda\u001b[39;49;00m\u001b[43m \u001b[49m\u001b[43mx\u001b[49m\u001b[43m:\u001b[49m\u001b[43m \u001b[49m\u001b[43mx\u001b[49m\u001b[38;5;241;43m.\u001b[39;49m\u001b[43mrolling\u001b[49m\u001b[43m(\u001b[49m\u001b[38;5;241;43m200\u001b[39;49m\u001b[43m,\u001b[49m\u001b[43m \u001b[49m\u001b[43mmin_periods\u001b[49m\u001b[38;5;241;43m=\u001b[39;49m\u001b[38;5;241;43m1\u001b[39;49m\u001b[43m)\u001b[49m\u001b[38;5;241;43m.\u001b[39;49m\u001b[43mmean\u001b[49m\u001b[43m(\u001b[49m\u001b[43m)\u001b[49m\u001b[43m)\u001b[49m\n\u001b[0;32m    237\u001b[0m     stat_df[\u001b[38;5;124mf\u001b[39m\u001b[38;5;124m'\u001b[39m\u001b[38;5;132;01m{\u001b[39;00ms\u001b[38;5;132;01m}\u001b[39;00m\u001b[38;5;124m_std\u001b[39m\u001b[38;5;124m'\u001b[39m] \u001b[38;5;241m=\u001b[39m stat_df\u001b[38;5;241m.\u001b[39mgroupby(group_keys)[s]\u001b[38;5;241m.\u001b[39mtransform(\u001b[38;5;28;01mlambda\u001b[39;00m x: x\u001b[38;5;241m.\u001b[39mrolling(\u001b[38;5;241m200\u001b[39m, min_periods\u001b[38;5;241m=\u001b[39m\u001b[38;5;241m1\u001b[39m)\u001b[38;5;241m.\u001b[39mstd())\n\u001b[0;32m    238\u001b[0m     stat_df[\u001b[38;5;124mf\u001b[39m\u001b[38;5;124m'\u001b[39m\u001b[38;5;132;01m{\u001b[39;00ms\u001b[38;5;132;01m}\u001b[39;00m\u001b[38;5;124m_skew\u001b[39m\u001b[38;5;124m'\u001b[39m] \u001b[38;5;241m=\u001b[39m stat_df\u001b[38;5;241m.\u001b[39mgroupby(group_keys)[s]\u001b[38;5;241m.\u001b[39mtransform(\u001b[38;5;28;01mlambda\u001b[39;00m x: x\u001b[38;5;241m.\u001b[39mrolling(\u001b[38;5;241m200\u001b[39m, min_periods\u001b[38;5;241m=\u001b[39m\u001b[38;5;241m1\u001b[39m)\u001b[38;5;241m.\u001b[39mskew())\n",
      "File \u001b[1;32mc:\\Users\\Justin\\AppData\\Local\\Programs\\Python\\Python39\\lib\\site-packages\\pandas\\core\\groupby\\generic.py:513\u001b[0m, in \u001b[0;36mSeriesGroupBy.transform\u001b[1;34m(self, func, engine, engine_kwargs, *args, **kwargs)\u001b[0m\n\u001b[0;32m    510\u001b[0m \u001b[38;5;129m@Substitution\u001b[39m(klass\u001b[38;5;241m=\u001b[39m\u001b[38;5;124m\"\u001b[39m\u001b[38;5;124mSeries\u001b[39m\u001b[38;5;124m\"\u001b[39m, example\u001b[38;5;241m=\u001b[39m__examples_series_doc)\n\u001b[0;32m    511\u001b[0m \u001b[38;5;129m@Appender\u001b[39m(_transform_template)\n\u001b[0;32m    512\u001b[0m \u001b[38;5;28;01mdef\u001b[39;00m \u001b[38;5;21mtransform\u001b[39m(\u001b[38;5;28mself\u001b[39m, func, \u001b[38;5;241m*\u001b[39margs, engine\u001b[38;5;241m=\u001b[39m\u001b[38;5;28;01mNone\u001b[39;00m, engine_kwargs\u001b[38;5;241m=\u001b[39m\u001b[38;5;28;01mNone\u001b[39;00m, \u001b[38;5;241m*\u001b[39m\u001b[38;5;241m*\u001b[39mkwargs):\n\u001b[1;32m--> 513\u001b[0m     \u001b[38;5;28;01mreturn\u001b[39;00m \u001b[38;5;28mself\u001b[39m\u001b[38;5;241m.\u001b[39m_transform(\n\u001b[0;32m    514\u001b[0m         func, \u001b[38;5;241m*\u001b[39margs, engine\u001b[38;5;241m=\u001b[39mengine, engine_kwargs\u001b[38;5;241m=\u001b[39mengine_kwargs, \u001b[38;5;241m*\u001b[39m\u001b[38;5;241m*\u001b[39mkwargs\n\u001b[0;32m    515\u001b[0m     )\n",
      "File \u001b[1;32mc:\\Users\\Justin\\AppData\\Local\\Programs\\Python\\Python39\\lib\\site-packages\\pandas\\core\\groupby\\groupby.py:1947\u001b[0m, in \u001b[0;36mGroupBy._transform\u001b[1;34m(self, func, engine, engine_kwargs, *args, **kwargs)\u001b[0m\n\u001b[0;32m   1944\u001b[0m     warn_alias_replacement(\u001b[38;5;28mself\u001b[39m, orig_func, func)\n\u001b[0;32m   1946\u001b[0m \u001b[38;5;28;01mif\u001b[39;00m \u001b[38;5;129;01mnot\u001b[39;00m \u001b[38;5;28misinstance\u001b[39m(func, \u001b[38;5;28mstr\u001b[39m):\n\u001b[1;32m-> 1947\u001b[0m     \u001b[38;5;28;01mreturn\u001b[39;00m \u001b[38;5;28mself\u001b[39m\u001b[38;5;241m.\u001b[39m_transform_general(func, engine, engine_kwargs, \u001b[38;5;241m*\u001b[39margs, \u001b[38;5;241m*\u001b[39m\u001b[38;5;241m*\u001b[39mkwargs)\n\u001b[0;32m   1949\u001b[0m \u001b[38;5;28;01melif\u001b[39;00m func \u001b[38;5;129;01mnot\u001b[39;00m \u001b[38;5;129;01min\u001b[39;00m base\u001b[38;5;241m.\u001b[39mtransform_kernel_allowlist:\n\u001b[0;32m   1950\u001b[0m     msg \u001b[38;5;241m=\u001b[39m \u001b[38;5;124mf\u001b[39m\u001b[38;5;124m\"\u001b[39m\u001b[38;5;124m'\u001b[39m\u001b[38;5;132;01m{\u001b[39;00mfunc\u001b[38;5;132;01m}\u001b[39;00m\u001b[38;5;124m'\u001b[39m\u001b[38;5;124m is not a valid function name for transform(name)\u001b[39m\u001b[38;5;124m\"\u001b[39m\n",
      "File \u001b[1;32mc:\\Users\\Justin\\AppData\\Local\\Programs\\Python\\Python39\\lib\\site-packages\\pandas\\core\\groupby\\generic.py:553\u001b[0m, in \u001b[0;36mSeriesGroupBy._transform_general\u001b[1;34m(self, func, engine, engine_kwargs, *args, **kwargs)\u001b[0m\n\u001b[0;32m    548\u001b[0m \u001b[38;5;28;01mfor\u001b[39;00m name, group \u001b[38;5;129;01min\u001b[39;00m \u001b[38;5;28mself\u001b[39m\u001b[38;5;241m.\u001b[39mgrouper\u001b[38;5;241m.\u001b[39mget_iterator(\n\u001b[0;32m    549\u001b[0m     \u001b[38;5;28mself\u001b[39m\u001b[38;5;241m.\u001b[39m_selected_obj, axis\u001b[38;5;241m=\u001b[39m\u001b[38;5;28mself\u001b[39m\u001b[38;5;241m.\u001b[39maxis\n\u001b[0;32m    550\u001b[0m ):\n\u001b[0;32m    551\u001b[0m     \u001b[38;5;66;03m# this setattr is needed for test_transform_lambda_with_datetimetz\u001b[39;00m\n\u001b[0;32m    552\u001b[0m     \u001b[38;5;28mobject\u001b[39m\u001b[38;5;241m.\u001b[39m\u001b[38;5;21m__setattr__\u001b[39m(group, \u001b[38;5;124m\"\u001b[39m\u001b[38;5;124mname\u001b[39m\u001b[38;5;124m\"\u001b[39m, name)\n\u001b[1;32m--> 553\u001b[0m     res \u001b[38;5;241m=\u001b[39m func(group, \u001b[38;5;241m*\u001b[39margs, \u001b[38;5;241m*\u001b[39m\u001b[38;5;241m*\u001b[39mkwargs)\n\u001b[0;32m    555\u001b[0m     results\u001b[38;5;241m.\u001b[39mappend(klass(res, index\u001b[38;5;241m=\u001b[39mgroup\u001b[38;5;241m.\u001b[39mindex))\n\u001b[0;32m    557\u001b[0m \u001b[38;5;66;03m# check for empty \"results\" to avoid concat ValueError\u001b[39;00m\n",
      "File \u001b[1;32me:\\Jiu Studios\\SBAI Project\\MLB\\code\\features.py:236\u001b[0m, in \u001b[0;36madd_season_rolling.<locals>.<lambda>\u001b[1;34m(x)\u001b[0m\n\u001b[0;32m    234\u001b[0m group_keys \u001b[38;5;241m=\u001b[39m [\u001b[38;5;124m'\u001b[39m\u001b[38;5;124mteam\u001b[39m\u001b[38;5;124m'\u001b[39m, \u001b[38;5;124m'\u001b[39m\u001b[38;5;124mseason\u001b[39m\u001b[38;5;124m'\u001b[39m]\n\u001b[0;32m    235\u001b[0m \u001b[38;5;28;01mfor\u001b[39;00m s \u001b[38;5;129;01min\u001b[39;00m cols:\n\u001b[1;32m--> 236\u001b[0m     stat_df[\u001b[38;5;124mf\u001b[39m\u001b[38;5;124m'\u001b[39m\u001b[38;5;132;01m{\u001b[39;00ms\u001b[38;5;132;01m}\u001b[39;00m\u001b[38;5;124m_mean\u001b[39m\u001b[38;5;124m'\u001b[39m] \u001b[38;5;241m=\u001b[39m stat_df\u001b[38;5;241m.\u001b[39mgroupby(group_keys)[s]\u001b[38;5;241m.\u001b[39mtransform(\u001b[38;5;28;01mlambda\u001b[39;00m x: \u001b[43mx\u001b[49m\u001b[38;5;241;43m.\u001b[39;49m\u001b[43mrolling\u001b[49m\u001b[43m(\u001b[49m\u001b[38;5;241;43m200\u001b[39;49m\u001b[43m,\u001b[49m\u001b[43m \u001b[49m\u001b[43mmin_periods\u001b[49m\u001b[38;5;241;43m=\u001b[39;49m\u001b[38;5;241;43m1\u001b[39;49m\u001b[43m)\u001b[49m\u001b[38;5;241;43m.\u001b[39;49m\u001b[43mmean\u001b[49m\u001b[43m(\u001b[49m\u001b[43m)\u001b[49m)\n\u001b[0;32m    237\u001b[0m     stat_df[\u001b[38;5;124mf\u001b[39m\u001b[38;5;124m'\u001b[39m\u001b[38;5;132;01m{\u001b[39;00ms\u001b[38;5;132;01m}\u001b[39;00m\u001b[38;5;124m_std\u001b[39m\u001b[38;5;124m'\u001b[39m] \u001b[38;5;241m=\u001b[39m stat_df\u001b[38;5;241m.\u001b[39mgroupby(group_keys)[s]\u001b[38;5;241m.\u001b[39mtransform(\u001b[38;5;28;01mlambda\u001b[39;00m x: x\u001b[38;5;241m.\u001b[39mrolling(\u001b[38;5;241m200\u001b[39m, min_periods\u001b[38;5;241m=\u001b[39m\u001b[38;5;241m1\u001b[39m)\u001b[38;5;241m.\u001b[39mstd())\n\u001b[0;32m    238\u001b[0m     stat_df[\u001b[38;5;124mf\u001b[39m\u001b[38;5;124m'\u001b[39m\u001b[38;5;132;01m{\u001b[39;00ms\u001b[38;5;132;01m}\u001b[39;00m\u001b[38;5;124m_skew\u001b[39m\u001b[38;5;124m'\u001b[39m] \u001b[38;5;241m=\u001b[39m stat_df\u001b[38;5;241m.\u001b[39mgroupby(group_keys)[s]\u001b[38;5;241m.\u001b[39mtransform(\u001b[38;5;28;01mlambda\u001b[39;00m x: x\u001b[38;5;241m.\u001b[39mrolling(\u001b[38;5;241m200\u001b[39m, min_periods\u001b[38;5;241m=\u001b[39m\u001b[38;5;241m1\u001b[39m)\u001b[38;5;241m.\u001b[39mskew())\n",
      "File \u001b[1;32mc:\\Users\\Justin\\AppData\\Local\\Programs\\Python\\Python39\\lib\\site-packages\\pandas\\core\\window\\rolling.py:2245\u001b[0m, in \u001b[0;36mRolling.mean\u001b[1;34m(self, numeric_only, engine, engine_kwargs)\u001b[0m\n\u001b[0;32m   2202\u001b[0m \u001b[38;5;129m@doc\u001b[39m(\n\u001b[0;32m   2203\u001b[0m     template_header,\n\u001b[0;32m   2204\u001b[0m     create_section_header(\u001b[38;5;124m\"\u001b[39m\u001b[38;5;124mParameters\u001b[39m\u001b[38;5;124m\"\u001b[39m),\n\u001b[1;32m   (...)\u001b[0m\n\u001b[0;32m   2243\u001b[0m     engine_kwargs: \u001b[38;5;28mdict\u001b[39m[\u001b[38;5;28mstr\u001b[39m, \u001b[38;5;28mbool\u001b[39m] \u001b[38;5;241m|\u001b[39m \u001b[38;5;28;01mNone\u001b[39;00m \u001b[38;5;241m=\u001b[39m \u001b[38;5;28;01mNone\u001b[39;00m,\n\u001b[0;32m   2244\u001b[0m ):\n\u001b[1;32m-> 2245\u001b[0m     \u001b[38;5;28;01mreturn\u001b[39;00m \u001b[38;5;28;43msuper\u001b[39;49m\u001b[43m(\u001b[49m\u001b[43m)\u001b[49m\u001b[38;5;241;43m.\u001b[39;49m\u001b[43mmean\u001b[49m\u001b[43m(\u001b[49m\n\u001b[0;32m   2246\u001b[0m \u001b[43m        \u001b[49m\u001b[43mnumeric_only\u001b[49m\u001b[38;5;241;43m=\u001b[39;49m\u001b[43mnumeric_only\u001b[49m\u001b[43m,\u001b[49m\n\u001b[0;32m   2247\u001b[0m \u001b[43m        \u001b[49m\u001b[43mengine\u001b[49m\u001b[38;5;241;43m=\u001b[39;49m\u001b[43mengine\u001b[49m\u001b[43m,\u001b[49m\n\u001b[0;32m   2248\u001b[0m \u001b[43m        \u001b[49m\u001b[43mengine_kwargs\u001b[49m\u001b[38;5;241;43m=\u001b[39;49m\u001b[43mengine_kwargs\u001b[49m\u001b[43m,\u001b[49m\n\u001b[0;32m   2249\u001b[0m \u001b[43m    \u001b[49m\u001b[43m)\u001b[49m\n",
      "File \u001b[1;32mc:\\Users\\Justin\\AppData\\Local\\Programs\\Python\\Python39\\lib\\site-packages\\pandas\\core\\window\\rolling.py:1617\u001b[0m, in \u001b[0;36mRollingAndExpandingMixin.mean\u001b[1;34m(self, numeric_only, engine, engine_kwargs)\u001b[0m\n\u001b[0;32m   1615\u001b[0m         \u001b[38;5;28;01mreturn\u001b[39;00m \u001b[38;5;28mself\u001b[39m\u001b[38;5;241m.\u001b[39m_numba_apply(sliding_mean, engine_kwargs)\n\u001b[0;32m   1616\u001b[0m window_func \u001b[38;5;241m=\u001b[39m window_aggregations\u001b[38;5;241m.\u001b[39mroll_mean\n\u001b[1;32m-> 1617\u001b[0m \u001b[38;5;28;01mreturn\u001b[39;00m \u001b[38;5;28;43mself\u001b[39;49m\u001b[38;5;241;43m.\u001b[39;49m\u001b[43m_apply\u001b[49m\u001b[43m(\u001b[49m\u001b[43mwindow_func\u001b[49m\u001b[43m,\u001b[49m\u001b[43m \u001b[49m\u001b[43mname\u001b[49m\u001b[38;5;241;43m=\u001b[39;49m\u001b[38;5;124;43m\"\u001b[39;49m\u001b[38;5;124;43mmean\u001b[39;49m\u001b[38;5;124;43m\"\u001b[39;49m\u001b[43m,\u001b[49m\u001b[43m \u001b[49m\u001b[43mnumeric_only\u001b[49m\u001b[38;5;241;43m=\u001b[39;49m\u001b[43mnumeric_only\u001b[49m\u001b[43m)\u001b[49m\n",
      "File \u001b[1;32mc:\\Users\\Justin\\AppData\\Local\\Programs\\Python\\Python39\\lib\\site-packages\\pandas\\core\\window\\rolling.py:614\u001b[0m, in \u001b[0;36mBaseWindow._apply\u001b[1;34m(self, func, name, numeric_only, numba_args, **kwargs)\u001b[0m\n\u001b[0;32m    611\u001b[0m     \u001b[38;5;28;01mreturn\u001b[39;00m result\n\u001b[0;32m    613\u001b[0m \u001b[38;5;28;01mif\u001b[39;00m \u001b[38;5;28mself\u001b[39m\u001b[38;5;241m.\u001b[39mmethod \u001b[38;5;241m==\u001b[39m \u001b[38;5;124m\"\u001b[39m\u001b[38;5;124msingle\u001b[39m\u001b[38;5;124m\"\u001b[39m:\n\u001b[1;32m--> 614\u001b[0m     \u001b[38;5;28;01mreturn\u001b[39;00m \u001b[38;5;28;43mself\u001b[39;49m\u001b[38;5;241;43m.\u001b[39;49m\u001b[43m_apply_blockwise\u001b[49m\u001b[43m(\u001b[49m\u001b[43mhomogeneous_func\u001b[49m\u001b[43m,\u001b[49m\u001b[43m \u001b[49m\u001b[43mname\u001b[49m\u001b[43m,\u001b[49m\u001b[43m \u001b[49m\u001b[43mnumeric_only\u001b[49m\u001b[43m)\u001b[49m\n\u001b[0;32m    615\u001b[0m \u001b[38;5;28;01melse\u001b[39;00m:\n\u001b[0;32m    616\u001b[0m     \u001b[38;5;28;01mreturn\u001b[39;00m \u001b[38;5;28mself\u001b[39m\u001b[38;5;241m.\u001b[39m_apply_tablewise(homogeneous_func, name, numeric_only)\n",
      "File \u001b[1;32mc:\\Users\\Justin\\AppData\\Local\\Programs\\Python\\Python39\\lib\\site-packages\\pandas\\core\\window\\rolling.py:467\u001b[0m, in \u001b[0;36mBaseWindow._apply_blockwise\u001b[1;34m(self, homogeneous_func, name, numeric_only)\u001b[0m\n\u001b[0;32m    465\u001b[0m \u001b[38;5;28mself\u001b[39m\u001b[38;5;241m.\u001b[39m_validate_numeric_only(name, numeric_only)\n\u001b[0;32m    466\u001b[0m \u001b[38;5;28;01mif\u001b[39;00m \u001b[38;5;28mself\u001b[39m\u001b[38;5;241m.\u001b[39m_selected_obj\u001b[38;5;241m.\u001b[39mndim \u001b[38;5;241m==\u001b[39m \u001b[38;5;241m1\u001b[39m:\n\u001b[1;32m--> 467\u001b[0m     \u001b[38;5;28;01mreturn\u001b[39;00m \u001b[38;5;28;43mself\u001b[39;49m\u001b[38;5;241;43m.\u001b[39;49m\u001b[43m_apply_series\u001b[49m\u001b[43m(\u001b[49m\u001b[43mhomogeneous_func\u001b[49m\u001b[43m,\u001b[49m\u001b[43m \u001b[49m\u001b[43mname\u001b[49m\u001b[43m)\u001b[49m\n\u001b[0;32m    469\u001b[0m obj \u001b[38;5;241m=\u001b[39m \u001b[38;5;28mself\u001b[39m\u001b[38;5;241m.\u001b[39m_create_data(\u001b[38;5;28mself\u001b[39m\u001b[38;5;241m.\u001b[39m_selected_obj, numeric_only)\n\u001b[0;32m    470\u001b[0m \u001b[38;5;28;01mif\u001b[39;00m name \u001b[38;5;241m==\u001b[39m \u001b[38;5;124m\"\u001b[39m\u001b[38;5;124mcount\u001b[39m\u001b[38;5;124m\"\u001b[39m:\n\u001b[0;32m    471\u001b[0m     \u001b[38;5;66;03m# GH 12541: Special case for count where we support date-like types\u001b[39;00m\n",
      "File \u001b[1;32mc:\\Users\\Justin\\AppData\\Local\\Programs\\Python\\Python39\\lib\\site-packages\\pandas\\core\\window\\rolling.py:449\u001b[0m, in \u001b[0;36mBaseWindow._apply_series\u001b[1;34m(self, homogeneous_func, name)\u001b[0m\n\u001b[0;32m    447\u001b[0m     values \u001b[38;5;241m=\u001b[39m \u001b[38;5;28mself\u001b[39m\u001b[38;5;241m.\u001b[39m_prep_values(obj\u001b[38;5;241m.\u001b[39m_values)\n\u001b[0;32m    448\u001b[0m \u001b[38;5;28;01mexcept\u001b[39;00m (\u001b[38;5;167;01mTypeError\u001b[39;00m, \u001b[38;5;167;01mNotImplementedError\u001b[39;00m) \u001b[38;5;28;01mas\u001b[39;00m err:\n\u001b[1;32m--> 449\u001b[0m     \u001b[38;5;28;01mraise\u001b[39;00m DataError(\u001b[38;5;124m\"\u001b[39m\u001b[38;5;124mNo numeric types to aggregate\u001b[39m\u001b[38;5;124m\"\u001b[39m) \u001b[38;5;28;01mfrom\u001b[39;00m \u001b[38;5;21;01merr\u001b[39;00m\n\u001b[0;32m    451\u001b[0m result \u001b[38;5;241m=\u001b[39m homogeneous_func(values)\n\u001b[0;32m    452\u001b[0m index \u001b[38;5;241m=\u001b[39m \u001b[38;5;28mself\u001b[39m\u001b[38;5;241m.\u001b[39m_slice_axis_for_step(obj\u001b[38;5;241m.\u001b[39mindex, result)\n",
      "\u001b[1;31mDataError\u001b[0m: No numeric types to aggregate"
     ]
    }
   ],
   "source": [
    "df = features.add_season_rolling(pitchers, df, pitching_stats, False,'pitcher')\n",
    "df.shape"
   ]
  },
  {
   "cell_type": "markdown",
   "metadata": {},
   "source": [
    "## Cleanup"
   ]
  },
  {
   "cell_type": "code",
   "execution_count": null,
   "metadata": {},
   "outputs": [],
   "source": [
    "df = util.fix_na(df, False)"
   ]
  },
  {
   "cell_type": "code",
   "execution_count": null,
   "metadata": {},
   "outputs": [
    {
     "name": "stdout",
     "output_type": "stream",
     "text": [
      "0       0.0\n",
      "1       1.0\n",
      "2       1.0\n",
      "3       1.0\n",
      "4       1.0\n",
      "       ... \n",
      "2060    1.0\n",
      "2061    0.0\n",
      "2062    0.0\n",
      "2063    0.0\n",
      "2064    0.0\n",
      "Name: home_team_win, Length: 2065, dtype: float64\n"
     ]
    }
   ],
   "source": [
    "print(df['home_team_win'])"
   ]
  },
  {
   "cell_type": "markdown",
   "metadata": {},
   "source": [
    "# Generate Predictions"
   ]
  },
  {
   "cell_type": "code",
   "execution_count": null,
   "metadata": {},
   "outputs": [],
   "source": [
    "X = df.drop(columns=['home_team_win', 'home_team_abbr','away_team_abbr', 'game_id','home_pitcher', 'away_pitcher', 'home_team_season', 'away_team_season'])  # Assuming 'target' is the name of your target column\n",
    "y = df['home_team_win']"
   ]
  },
  {
   "cell_type": "code",
   "execution_count": null,
   "metadata": {},
   "outputs": [],
   "source": [
    "from sklearn.model_selection import train_test_split\n",
    "import xgboost as xgb\n",
    "X_train, X_val, y_train, y_val = train_test_split(X, y, test_size=0.2, random_state=42)"
   ]
  },
  {
   "cell_type": "code",
   "execution_count": null,
   "metadata": {},
   "outputs": [],
   "source": [
    "from sklearn.preprocessing import LabelEncoder\n",
    "\n",
    "encoder = LabelEncoder()\n",
    "y_train_encoded = encoder.fit_transform(y_train)\n",
    "y_val_encoded = encoder.transform(y_val)\n",
    "\n",
    "\n"
   ]
  },
  {
   "cell_type": "code",
   "execution_count": 245,
   "metadata": {},
   "outputs": [
    {
     "name": "stdout",
     "output_type": "stream",
     "text": [
      "Validation Accuracy: 0.7191283292978208\n"
     ]
    }
   ],
   "source": [
    "from sklearn.metrics import accuracy_score\n",
    "model = xgb.XGBClassifier(objective='binary:logistic', random_state=42)\n",
    "model.fit(X_train, y_train_encoded)\n",
    "\n",
    "# Evaluate the model\n",
    "y_pred = model.predict(X_val)\n",
    "print(\"Validation Accuracy:\", accuracy_score(y_val_encoded, y_pred))\n",
    "\n"
   ]
  },
  {
   "cell_type": "code",
   "execution_count": 313,
   "metadata": {},
   "outputs": [
    {
     "name": "stdout",
     "output_type": "stream",
     "text": [
      "Predictions: [1 1 0 1 1 1 1 1 1 1 1 1 1 1 1]\n"
     ]
    }
   ],
   "source": [
    "filtered_df = df[df['game_id'].isin(test_df['game_id'])]\n",
    "X_pred = filtered_df.drop(columns=[\n",
    "    'home_team_win', 'home_team_abbr', 'away_team_abbr', 'game_id',\n",
    "    'home_pitcher', 'away_pitcher', 'home_team_season', 'away_team_season'\n",
    "])\n",
    "y_pred = model.predict(X_pred)\n",
    "print(\"Predictions:\", y_pred)"
   ]
  },
  {
   "cell_type": "code",
   "execution_count": 315,
   "metadata": {},
   "outputs": [
    {
     "name": "stdout",
     "output_type": "stream",
     "text": [
      "Predicted Probabilities for the Positive Class: [0.8476117  0.9281515  0.4303208  0.92766136 0.96507925 0.99340993\n",
      " 0.9929612  0.9994122  0.8691642  0.99424464 0.95496744 0.97527415\n",
      " 0.9312412  0.9880201  0.99775153]\n"
     ]
    }
   ],
   "source": [
    "y_pred_proba = model.predict_proba(X_pred)\n",
    "print(\"Predicted Probabilities for the Positive Class:\", y_pred_proba[:, 1])"
   ]
  },
  {
   "cell_type": "code",
   "execution_count": 314,
   "metadata": {},
   "outputs": [
    {
     "name": "stdout",
     "output_type": "stream",
     "text": [
      "['DET' 'PIT' 'NYY' 'BAL' 'TOR' 'BOS' 'MIA' 'NYM' 'CHW' 'MIL' 'COL' 'LAA'\n",
      " 'SDP' 'SEA' 'SFG']\n"
     ]
    }
   ],
   "source": [
    "\n",
    "selected_abbr = np.where(np.array(y_pred) == 1, test_df['home_team_abbr'], test_df['away_team_abbr'])\n",
    "\n",
    "# Print the result\n",
    "print(selected_abbr)"
   ]
  },
  {
   "cell_type": "code",
   "execution_count": 317,
   "metadata": {},
   "outputs": [
    {
     "ename": "TypeError",
     "evalue": "Object of type int32 is not JSON serializable",
     "output_type": "error",
     "traceback": [
      "\u001b[1;31m---------------------------------------------------------------------------\u001b[0m",
      "\u001b[1;31mTypeError\u001b[0m                                 Traceback (most recent call last)",
      "Cell \u001b[1;32mIn[317], line 19\u001b[0m\n\u001b[0;32m     16\u001b[0m     predictions\u001b[38;5;241m.\u001b[39mappend(prediction)\n\u001b[0;32m     18\u001b[0m \u001b[38;5;66;03m# Convert the list of dictionaries to JSON\u001b[39;00m\n\u001b[1;32m---> 19\u001b[0m json_output \u001b[38;5;241m=\u001b[39m \u001b[43mjson\u001b[49m\u001b[38;5;241;43m.\u001b[39;49m\u001b[43mdumps\u001b[49m\u001b[43m(\u001b[49m\u001b[43mpredictions\u001b[49m\u001b[43m,\u001b[49m\u001b[43m \u001b[49m\u001b[43mindent\u001b[49m\u001b[38;5;241;43m=\u001b[39;49m\u001b[38;5;241;43m2\u001b[39;49m\u001b[43m)\u001b[49m\n\u001b[0;32m     20\u001b[0m \u001b[38;5;28mprint\u001b[39m(json_output)\n",
      "File \u001b[1;32mc:\\Users\\Justin\\AppData\\Local\\Programs\\Python\\Python39\\lib\\json\\__init__.py:234\u001b[0m, in \u001b[0;36mdumps\u001b[1;34m(obj, skipkeys, ensure_ascii, check_circular, allow_nan, cls, indent, separators, default, sort_keys, **kw)\u001b[0m\n\u001b[0;32m    232\u001b[0m \u001b[38;5;28;01mif\u001b[39;00m \u001b[38;5;28mcls\u001b[39m \u001b[38;5;129;01mis\u001b[39;00m \u001b[38;5;28;01mNone\u001b[39;00m:\n\u001b[0;32m    233\u001b[0m     \u001b[38;5;28mcls\u001b[39m \u001b[38;5;241m=\u001b[39m JSONEncoder\n\u001b[1;32m--> 234\u001b[0m \u001b[38;5;28;01mreturn\u001b[39;00m \u001b[38;5;28;43mcls\u001b[39;49m\u001b[43m(\u001b[49m\n\u001b[0;32m    235\u001b[0m \u001b[43m    \u001b[49m\u001b[43mskipkeys\u001b[49m\u001b[38;5;241;43m=\u001b[39;49m\u001b[43mskipkeys\u001b[49m\u001b[43m,\u001b[49m\u001b[43m \u001b[49m\u001b[43mensure_ascii\u001b[49m\u001b[38;5;241;43m=\u001b[39;49m\u001b[43mensure_ascii\u001b[49m\u001b[43m,\u001b[49m\n\u001b[0;32m    236\u001b[0m \u001b[43m    \u001b[49m\u001b[43mcheck_circular\u001b[49m\u001b[38;5;241;43m=\u001b[39;49m\u001b[43mcheck_circular\u001b[49m\u001b[43m,\u001b[49m\u001b[43m \u001b[49m\u001b[43mallow_nan\u001b[49m\u001b[38;5;241;43m=\u001b[39;49m\u001b[43mallow_nan\u001b[49m\u001b[43m,\u001b[49m\u001b[43m \u001b[49m\u001b[43mindent\u001b[49m\u001b[38;5;241;43m=\u001b[39;49m\u001b[43mindent\u001b[49m\u001b[43m,\u001b[49m\n\u001b[0;32m    237\u001b[0m \u001b[43m    \u001b[49m\u001b[43mseparators\u001b[49m\u001b[38;5;241;43m=\u001b[39;49m\u001b[43mseparators\u001b[49m\u001b[43m,\u001b[49m\u001b[43m \u001b[49m\u001b[43mdefault\u001b[49m\u001b[38;5;241;43m=\u001b[39;49m\u001b[43mdefault\u001b[49m\u001b[43m,\u001b[49m\u001b[43m \u001b[49m\u001b[43msort_keys\u001b[49m\u001b[38;5;241;43m=\u001b[39;49m\u001b[43msort_keys\u001b[49m\u001b[43m,\u001b[49m\n\u001b[0;32m    238\u001b[0m \u001b[43m    \u001b[49m\u001b[38;5;241;43m*\u001b[39;49m\u001b[38;5;241;43m*\u001b[39;49m\u001b[43mkw\u001b[49m\u001b[43m)\u001b[49m\u001b[38;5;241;43m.\u001b[39;49m\u001b[43mencode\u001b[49m\u001b[43m(\u001b[49m\u001b[43mobj\u001b[49m\u001b[43m)\u001b[49m\n",
      "File \u001b[1;32mc:\\Users\\Justin\\AppData\\Local\\Programs\\Python\\Python39\\lib\\json\\encoder.py:201\u001b[0m, in \u001b[0;36mJSONEncoder.encode\u001b[1;34m(self, o)\u001b[0m\n\u001b[0;32m    199\u001b[0m chunks \u001b[38;5;241m=\u001b[39m \u001b[38;5;28mself\u001b[39m\u001b[38;5;241m.\u001b[39miterencode(o, _one_shot\u001b[38;5;241m=\u001b[39m\u001b[38;5;28;01mTrue\u001b[39;00m)\n\u001b[0;32m    200\u001b[0m \u001b[38;5;28;01mif\u001b[39;00m \u001b[38;5;129;01mnot\u001b[39;00m \u001b[38;5;28misinstance\u001b[39m(chunks, (\u001b[38;5;28mlist\u001b[39m, \u001b[38;5;28mtuple\u001b[39m)):\n\u001b[1;32m--> 201\u001b[0m     chunks \u001b[38;5;241m=\u001b[39m \u001b[38;5;28;43mlist\u001b[39;49m\u001b[43m(\u001b[49m\u001b[43mchunks\u001b[49m\u001b[43m)\u001b[49m\n\u001b[0;32m    202\u001b[0m \u001b[38;5;28;01mreturn\u001b[39;00m \u001b[38;5;124m'\u001b[39m\u001b[38;5;124m'\u001b[39m\u001b[38;5;241m.\u001b[39mjoin(chunks)\n",
      "File \u001b[1;32mc:\\Users\\Justin\\AppData\\Local\\Programs\\Python\\Python39\\lib\\json\\encoder.py:429\u001b[0m, in \u001b[0;36m_make_iterencode.<locals>._iterencode\u001b[1;34m(o, _current_indent_level)\u001b[0m\n\u001b[0;32m    427\u001b[0m     \u001b[38;5;28;01myield\u001b[39;00m _floatstr(o)\n\u001b[0;32m    428\u001b[0m \u001b[38;5;28;01melif\u001b[39;00m \u001b[38;5;28misinstance\u001b[39m(o, (\u001b[38;5;28mlist\u001b[39m, \u001b[38;5;28mtuple\u001b[39m)):\n\u001b[1;32m--> 429\u001b[0m     \u001b[38;5;28;01myield from\u001b[39;00m _iterencode_list(o, _current_indent_level)\n\u001b[0;32m    430\u001b[0m \u001b[38;5;28;01melif\u001b[39;00m \u001b[38;5;28misinstance\u001b[39m(o, \u001b[38;5;28mdict\u001b[39m):\n\u001b[0;32m    431\u001b[0m     \u001b[38;5;28;01myield from\u001b[39;00m _iterencode_dict(o, _current_indent_level)\n",
      "File \u001b[1;32mc:\\Users\\Justin\\AppData\\Local\\Programs\\Python\\Python39\\lib\\json\\encoder.py:325\u001b[0m, in \u001b[0;36m_make_iterencode.<locals>._iterencode_list\u001b[1;34m(lst, _current_indent_level)\u001b[0m\n\u001b[0;32m    323\u001b[0m         \u001b[38;5;28;01melse\u001b[39;00m:\n\u001b[0;32m    324\u001b[0m             chunks \u001b[38;5;241m=\u001b[39m _iterencode(value, _current_indent_level)\n\u001b[1;32m--> 325\u001b[0m         \u001b[38;5;28;01myield from\u001b[39;00m chunks\n\u001b[0;32m    326\u001b[0m \u001b[38;5;28;01mif\u001b[39;00m newline_indent \u001b[38;5;129;01mis\u001b[39;00m \u001b[38;5;129;01mnot\u001b[39;00m \u001b[38;5;28;01mNone\u001b[39;00m:\n\u001b[0;32m    327\u001b[0m     _current_indent_level \u001b[38;5;241m-\u001b[39m\u001b[38;5;241m=\u001b[39m \u001b[38;5;241m1\u001b[39m\n",
      "File \u001b[1;32mc:\\Users\\Justin\\AppData\\Local\\Programs\\Python\\Python39\\lib\\json\\encoder.py:405\u001b[0m, in \u001b[0;36m_make_iterencode.<locals>._iterencode_dict\u001b[1;34m(dct, _current_indent_level)\u001b[0m\n\u001b[0;32m    403\u001b[0m         \u001b[38;5;28;01melse\u001b[39;00m:\n\u001b[0;32m    404\u001b[0m             chunks \u001b[38;5;241m=\u001b[39m _iterencode(value, _current_indent_level)\n\u001b[1;32m--> 405\u001b[0m         \u001b[38;5;28;01myield from\u001b[39;00m chunks\n\u001b[0;32m    406\u001b[0m \u001b[38;5;28;01mif\u001b[39;00m newline_indent \u001b[38;5;129;01mis\u001b[39;00m \u001b[38;5;129;01mnot\u001b[39;00m \u001b[38;5;28;01mNone\u001b[39;00m:\n\u001b[0;32m    407\u001b[0m     _current_indent_level \u001b[38;5;241m-\u001b[39m\u001b[38;5;241m=\u001b[39m \u001b[38;5;241m1\u001b[39m\n",
      "File \u001b[1;32mc:\\Users\\Justin\\AppData\\Local\\Programs\\Python\\Python39\\lib\\json\\encoder.py:438\u001b[0m, in \u001b[0;36m_make_iterencode.<locals>._iterencode\u001b[1;34m(o, _current_indent_level)\u001b[0m\n\u001b[0;32m    436\u001b[0m         \u001b[38;5;28;01mraise\u001b[39;00m \u001b[38;5;167;01mValueError\u001b[39;00m(\u001b[38;5;124m\"\u001b[39m\u001b[38;5;124mCircular reference detected\u001b[39m\u001b[38;5;124m\"\u001b[39m)\n\u001b[0;32m    437\u001b[0m     markers[markerid] \u001b[38;5;241m=\u001b[39m o\n\u001b[1;32m--> 438\u001b[0m o \u001b[38;5;241m=\u001b[39m \u001b[43m_default\u001b[49m\u001b[43m(\u001b[49m\u001b[43mo\u001b[49m\u001b[43m)\u001b[49m\n\u001b[0;32m    439\u001b[0m \u001b[38;5;28;01myield from\u001b[39;00m _iterencode(o, _current_indent_level)\n\u001b[0;32m    440\u001b[0m \u001b[38;5;28;01mif\u001b[39;00m markers \u001b[38;5;129;01mis\u001b[39;00m \u001b[38;5;129;01mnot\u001b[39;00m \u001b[38;5;28;01mNone\u001b[39;00m:\n",
      "File \u001b[1;32mc:\\Users\\Justin\\AppData\\Local\\Programs\\Python\\Python39\\lib\\json\\encoder.py:179\u001b[0m, in \u001b[0;36mJSONEncoder.default\u001b[1;34m(self, o)\u001b[0m\n\u001b[0;32m    160\u001b[0m \u001b[38;5;28;01mdef\u001b[39;00m \u001b[38;5;21mdefault\u001b[39m(\u001b[38;5;28mself\u001b[39m, o):\n\u001b[0;32m    161\u001b[0m \u001b[38;5;250m    \u001b[39m\u001b[38;5;124;03m\"\"\"Implement this method in a subclass such that it returns\u001b[39;00m\n\u001b[0;32m    162\u001b[0m \u001b[38;5;124;03m    a serializable object for ``o``, or calls the base implementation\u001b[39;00m\n\u001b[0;32m    163\u001b[0m \u001b[38;5;124;03m    (to raise a ``TypeError``).\u001b[39;00m\n\u001b[1;32m   (...)\u001b[0m\n\u001b[0;32m    177\u001b[0m \n\u001b[0;32m    178\u001b[0m \u001b[38;5;124;03m    \"\"\"\u001b[39;00m\n\u001b[1;32m--> 179\u001b[0m     \u001b[38;5;28;01mraise\u001b[39;00m \u001b[38;5;167;01mTypeError\u001b[39;00m(\u001b[38;5;124mf\u001b[39m\u001b[38;5;124m'\u001b[39m\u001b[38;5;124mObject of type \u001b[39m\u001b[38;5;132;01m{\u001b[39;00mo\u001b[38;5;241m.\u001b[39m\u001b[38;5;18m__class__\u001b[39m\u001b[38;5;241m.\u001b[39m\u001b[38;5;18m__name__\u001b[39m\u001b[38;5;132;01m}\u001b[39;00m\u001b[38;5;124m \u001b[39m\u001b[38;5;124m'\u001b[39m\n\u001b[0;32m    180\u001b[0m                     \u001b[38;5;124mf\u001b[39m\u001b[38;5;124m'\u001b[39m\u001b[38;5;124mis not JSON serializable\u001b[39m\u001b[38;5;124m'\u001b[39m)\n",
      "\u001b[1;31mTypeError\u001b[0m: Object of type int32 is not JSON serializable"
     ]
    }
   ],
   "source": [
    "import json\n",
    "predictions = []\n",
    "\n",
    "# Loop through the DataFrame and associated predictions\n",
    "for index, row in test_df.iterrows():\n",
    "    # Create a dictionary for each prediction following the specified structure\n",
    "    prediction = {\n",
    "        \"id\": str(index),  # Convert index to string to match 'id: string' type\n",
    "        \"home_team\": row['home_team_abbr'],\n",
    "        \"away_team\": row['away_team_abbr'],\n",
    "        \"ml_pred\": selected_abbr[index],\n",
    "        \"ml_conf\": str(y_pred_proba[index]),  # Convert float to string to match 'ml_conf: string'\n",
    "        \"ou_pred\": \"0\",  # Placeholder values as specified\n",
    "        \"ou_conf\": \"0\"   # Placeholder values as specified\n",
    "    }\n",
    "    predictions.append(prediction)\n",
    "\n",
    "# Convert the list of dictionaries to JSON\n",
    "json_output = json.dumps(predictions, indent=2)\n",
    "print(json_output)"
   ]
  },
  {
   "cell_type": "code",
   "execution_count": 187,
   "metadata": {},
   "outputs": [
    {
     "ename": "FileNotFoundError",
     "evalue": "[Errno 2] No such file or directory: '../data/encoder_model.pk'",
     "output_type": "error",
     "traceback": [
      "\u001b[1;31m---------------------------------------------------------------------------\u001b[0m",
      "\u001b[1;31mFileNotFoundError\u001b[0m                         Traceback (most recent call last)",
      "Cell \u001b[1;32mIn[187], line 2\u001b[0m\n\u001b[0;32m      1\u001b[0m \u001b[38;5;28;01mimport\u001b[39;00m \u001b[38;5;21;01mpickle\u001b[39;00m\n\u001b[1;32m----> 2\u001b[0m encoder, model \u001b[38;5;241m=\u001b[39m pickle\u001b[38;5;241m.\u001b[39mload(\u001b[38;5;28;43mopen\u001b[39;49m\u001b[43m(\u001b[49m\u001b[38;5;124;43m'\u001b[39;49m\u001b[38;5;124;43m../data/encoder_model.pk\u001b[39;49m\u001b[38;5;124;43m'\u001b[39;49m\u001b[43m,\u001b[49m\u001b[38;5;124;43m'\u001b[39;49m\u001b[38;5;124;43mrb\u001b[39;49m\u001b[38;5;124;43m'\u001b[39;49m\u001b[43m)\u001b[49m)\n\u001b[0;32m      4\u001b[0m X_test \u001b[38;5;241m=\u001b[39m encoder\u001b[38;5;241m.\u001b[39mtransform(X_test)\n\u001b[0;32m      5\u001b[0m proba \u001b[38;5;241m=\u001b[39m model\u001b[38;5;241m.\u001b[39mpredict_proba(X_test)[:,\u001b[38;5;241m1\u001b[39m]\n",
      "File \u001b[1;32m~\\AppData\\Roaming\\Python\\Python39\\site-packages\\IPython\\core\\interactiveshell.py:310\u001b[0m, in \u001b[0;36m_modified_open\u001b[1;34m(file, *args, **kwargs)\u001b[0m\n\u001b[0;32m    303\u001b[0m \u001b[38;5;28;01mif\u001b[39;00m file \u001b[38;5;129;01min\u001b[39;00m {\u001b[38;5;241m0\u001b[39m, \u001b[38;5;241m1\u001b[39m, \u001b[38;5;241m2\u001b[39m}:\n\u001b[0;32m    304\u001b[0m     \u001b[38;5;28;01mraise\u001b[39;00m \u001b[38;5;167;01mValueError\u001b[39;00m(\n\u001b[0;32m    305\u001b[0m         \u001b[38;5;124mf\u001b[39m\u001b[38;5;124m\"\u001b[39m\u001b[38;5;124mIPython won\u001b[39m\u001b[38;5;124m'\u001b[39m\u001b[38;5;124mt let you open fd=\u001b[39m\u001b[38;5;132;01m{\u001b[39;00mfile\u001b[38;5;132;01m}\u001b[39;00m\u001b[38;5;124m by default \u001b[39m\u001b[38;5;124m\"\u001b[39m\n\u001b[0;32m    306\u001b[0m         \u001b[38;5;124m\"\u001b[39m\u001b[38;5;124mas it is likely to crash IPython. If you know what you are doing, \u001b[39m\u001b[38;5;124m\"\u001b[39m\n\u001b[0;32m    307\u001b[0m         \u001b[38;5;124m\"\u001b[39m\u001b[38;5;124myou can use builtins\u001b[39m\u001b[38;5;124m'\u001b[39m\u001b[38;5;124m open.\u001b[39m\u001b[38;5;124m\"\u001b[39m\n\u001b[0;32m    308\u001b[0m     )\n\u001b[1;32m--> 310\u001b[0m \u001b[38;5;28;01mreturn\u001b[39;00m io_open(file, \u001b[38;5;241m*\u001b[39margs, \u001b[38;5;241m*\u001b[39m\u001b[38;5;241m*\u001b[39mkwargs)\n",
      "\u001b[1;31mFileNotFoundError\u001b[0m: [Errno 2] No such file or directory: '../data/encoder_model.pk'"
     ]
    }
   ],
   "source": [
    "import pickle\n",
    "encoder, model = pickle.load(open('../data/encoder_model.pk','rb'))\n",
    "\n",
    "X_test = encoder.transform(X_test)\n",
    "proba = model.predict_proba(X_test)[:,1]\n",
    "pred = model.predict(X_test)"
   ]
  },
  {
   "cell_type": "code",
   "execution_count": null,
   "metadata": {},
   "outputs": [],
   "source": [
    "test_df = test_df.sort_values(by=['date','game_id']).reset_index(drop=True)\n",
    "pred_df = df[df.is_test][['away_pitcher', 'away_team_abbr', 'home_pitcher', 'home_team_abbr']]\n",
    "pred_df['home'] = pred_df['home_team_abbr']\n",
    "pred_df['away'] = pred_df['away_team_abbr']\n",
    "pred_df.drop(columns=['home_team_abbr','away_team_abbr'], inplace=True)\n",
    "pred_df['xgb_proba']= proba\n",
    "pred_df['xgb_winner']=pred_df.home\n",
    "pred_df['xgb_winner'][~pred]=pred_df.away"
   ]
  },
  {
   "cell_type": "code",
   "execution_count": null,
   "metadata": {},
   "outputs": [],
   "source": [
    "# get daily odds from covers.com\n",
    "import requests\n",
    "from bs4 import BeautifulSoup as bs\n",
    "html = requests.get('https://www.covers.com/sports/mlb/matchups').text\n",
    "soup = bs(html)\n",
    "games = []\n",
    "for s in soup.findAll('div',{'class':'cmg_matchup_game_box cmg_game_data'}):\n",
    "    g = {}\n",
    "    g['home'] = s['data-home-team-shortname-search']\n",
    "    g['home_odds'] = s['data-game-odd']\n",
    "    \n",
    "    if g['home']=='SD':g['home']='SDP'\n",
    "    if g['home']=='KC':g['home']='KCR'\n",
    "    if g['home']=='SF':g['home']='SFG'\n",
    "    if g['home']=='WAS':g['home']='WSN'\n",
    "    if g['home']=='TB':g['home']='TBR'\n",
    "    \n",
    "    games.append(g)\n",
    "odds = pd.DataFrame(games)\n",
    "\n",
    "# merge in the odds\n",
    "pred_df = pd.merge(left=pred_df, right=odds, on='home', how='left')\n",
    "pred_df['home_odds']=pd.to_numeric(pred_df['home_odds'], errors='coerce')\n",
    "# pred_df['online_odds'][pred_df.xgb_probability<0.5] = -pred_df['online_odds'] #convert odds to pred winner odds (not home team odds)"
   ]
  },
  {
   "cell_type": "code",
   "execution_count": null,
   "metadata": {},
   "outputs": [],
   "source": [
    "# online proba\n",
    "#https://www.bettingexpert.com/en-au/learn/understanding-betting-odds/how-to-convert-odds\n",
    "pred_df['online_proba'] = -pred_df['home_odds']/(-pred_df['home_odds']+100)\n",
    "pred_df['online_proba'][pred_df['home_odds']>0] = 100/(pred_df['home_odds']+100)\n",
    "\n",
    "# Confidence\n",
    "pred_df['confidence'] = np.abs(pred_df['xgb_proba']-0.5)+.5\n",
    "online_conf = np.abs(pred_df['online_proba']-0.5)+.5\n",
    "\n",
    "pred_df['conf_diff'] = pred_df['confidence'] - online_conf\n",
    "pred_df['conf_diff'][(pred_df['xgb_proba']>.5)&(pred_df['online_proba']<.5)] = 'Contrary'\n",
    "pred_df['conf_diff'][(pred_df['xgb_proba']<.5)&(pred_df['online_proba']>.5)] = 'Contrary'"
   ]
  },
  {
   "cell_type": "code",
   "execution_count": null,
   "metadata": {
    "scrolled": false
   },
   "outputs": [],
   "source": [
    "# merge in team names\n",
    "teams = pd.read_csv(\"../data/teams.csv\")\n",
    "pred_df = pd.merge(left=pred_df, right=teams, \n",
    "                   left_on='xgb_winner',right_on='Abbr',\n",
    "                   how='left')\n",
    "\n",
    "pred_df['pred_winner'] = pred_df['Team']\n",
    "pred_df.drop(columns=['xgb_winner','Abbr','Team'], inplace=True)"
   ]
  },
  {
   "cell_type": "code",
   "execution_count": null,
   "metadata": {
    "scrolled": false
   },
   "outputs": [],
   "source": [
    "from IPython.display import HTML\n",
    "pd.options.display.float_format = '{:.3f}'.format\n",
    "\n",
    "pred_df['conf'] = pred_df.confidence\n",
    "HTML(pred_df.sort_values(by='confidence', ascending=False).to_html(index=False))"
   ]
  },
  {
   "cell_type": "code",
   "execution_count": null,
   "metadata": {},
   "outputs": [],
   "source": [
    "print(\"2-Team Parlays:\")\n",
    "pred_df = pred_df.sort_values(by='conf', ascending=False).reset_index(drop=True)\n",
    "for i in range(5):\n",
    "    t1 = pred_df.iloc[i]\n",
    "    t2 = pred_df.iloc[i+1]\n",
    "    print(f\"- {t1.pred_winner}, {t2.pred_winner}  \\t{t1.conf*t2.conf: .3f}\")"
   ]
  },
  {
   "cell_type": "code",
   "execution_count": null,
   "metadata": {},
   "outputs": [],
   "source": []
  }
 ],
 "metadata": {
  "kernelspec": {
   "display_name": "Python 3 (ipykernel)",
   "language": "python",
   "name": "python3"
  },
  "language_info": {
   "codemirror_mode": {
    "name": "ipython",
    "version": 3
   },
   "file_extension": ".py",
   "mimetype": "text/x-python",
   "name": "python",
   "nbconvert_exporter": "python",
   "pygments_lexer": "ipython3",
   "version": "3.9.0"
  },
  "toc": {
   "base_numbering": 1,
   "nav_menu": {},
   "number_sections": true,
   "sideBar": true,
   "skip_h1_title": false,
   "title_cell": "Table of Contents",
   "title_sidebar": "Contents",
   "toc_cell": false,
   "toc_position": {},
   "toc_section_display": true,
   "toc_window_display": false
  }
 },
 "nbformat": 4,
 "nbformat_minor": 2
}
